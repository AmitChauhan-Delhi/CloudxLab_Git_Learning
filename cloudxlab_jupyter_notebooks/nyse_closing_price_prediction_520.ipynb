{
 "cells": [
  {
   "cell_type": "code",
   "execution_count": 2,
   "metadata": {},
   "outputs": [],
   "source": [
    "import numpy as np\n",
    "import pandas as pd\n",
    "from matplotlib import pyplot as plt"
   ]
  },
  {
   "cell_type": "code",
   "execution_count": 3,
   "metadata": {},
   "outputs": [],
   "source": [
    "df = pd.read_csv('/cxldata/datasets/project/ny_stock_prediction/prices-split-adjusted.csv', header = 0)"
   ]
  },
  {
   "cell_type": "code",
   "execution_count": 4,
   "metadata": {},
   "outputs": [
    {
     "data": {
      "text/html": [
       "<div>\n",
       "<style scoped>\n",
       "    .dataframe tbody tr th:only-of-type {\n",
       "        vertical-align: middle;\n",
       "    }\n",
       "\n",
       "    .dataframe tbody tr th {\n",
       "        vertical-align: top;\n",
       "    }\n",
       "\n",
       "    .dataframe thead th {\n",
       "        text-align: right;\n",
       "    }\n",
       "</style>\n",
       "<table border=\"1\" class=\"dataframe\">\n",
       "  <thead>\n",
       "    <tr style=\"text-align: right;\">\n",
       "      <th></th>\n",
       "      <th>date</th>\n",
       "      <th>symbol</th>\n",
       "      <th>open</th>\n",
       "      <th>close</th>\n",
       "      <th>low</th>\n",
       "      <th>high</th>\n",
       "      <th>volume</th>\n",
       "    </tr>\n",
       "  </thead>\n",
       "  <tbody>\n",
       "    <tr>\n",
       "      <th>0</th>\n",
       "      <td>2016-01-05</td>\n",
       "      <td>WLTW</td>\n",
       "      <td>123.430000</td>\n",
       "      <td>125.839996</td>\n",
       "      <td>122.309998</td>\n",
       "      <td>126.250000</td>\n",
       "      <td>2163600.0</td>\n",
       "    </tr>\n",
       "    <tr>\n",
       "      <th>1</th>\n",
       "      <td>2016-01-06</td>\n",
       "      <td>WLTW</td>\n",
       "      <td>125.239998</td>\n",
       "      <td>119.980003</td>\n",
       "      <td>119.940002</td>\n",
       "      <td>125.540001</td>\n",
       "      <td>2386400.0</td>\n",
       "    </tr>\n",
       "    <tr>\n",
       "      <th>2</th>\n",
       "      <td>2016-01-07</td>\n",
       "      <td>WLTW</td>\n",
       "      <td>116.379997</td>\n",
       "      <td>114.949997</td>\n",
       "      <td>114.930000</td>\n",
       "      <td>119.739998</td>\n",
       "      <td>2489500.0</td>\n",
       "    </tr>\n",
       "    <tr>\n",
       "      <th>3</th>\n",
       "      <td>2016-01-08</td>\n",
       "      <td>WLTW</td>\n",
       "      <td>115.480003</td>\n",
       "      <td>116.620003</td>\n",
       "      <td>113.500000</td>\n",
       "      <td>117.440002</td>\n",
       "      <td>2006300.0</td>\n",
       "    </tr>\n",
       "    <tr>\n",
       "      <th>4</th>\n",
       "      <td>2016-01-11</td>\n",
       "      <td>WLTW</td>\n",
       "      <td>117.010002</td>\n",
       "      <td>114.970001</td>\n",
       "      <td>114.089996</td>\n",
       "      <td>117.330002</td>\n",
       "      <td>1408600.0</td>\n",
       "    </tr>\n",
       "  </tbody>\n",
       "</table>\n",
       "</div>"
      ],
      "text/plain": [
       "         date symbol        open       close         low        high  \\\n",
       "0  2016-01-05   WLTW  123.430000  125.839996  122.309998  126.250000   \n",
       "1  2016-01-06   WLTW  125.239998  119.980003  119.940002  125.540001   \n",
       "2  2016-01-07   WLTW  116.379997  114.949997  114.930000  119.739998   \n",
       "3  2016-01-08   WLTW  115.480003  116.620003  113.500000  117.440002   \n",
       "4  2016-01-11   WLTW  117.010002  114.970001  114.089996  117.330002   \n",
       "\n",
       "      volume  \n",
       "0  2163600.0  \n",
       "1  2386400.0  \n",
       "2  2489500.0  \n",
       "3  2006300.0  \n",
       "4  1408600.0  "
      ]
     },
     "execution_count": 4,
     "metadata": {},
     "output_type": "execute_result"
    }
   ],
   "source": [
    "df.head()"
   ]
  },
  {
   "cell_type": "code",
   "execution_count": 5,
   "metadata": {},
   "outputs": [
    {
     "data": {
      "text/html": [
       "<div>\n",
       "<style scoped>\n",
       "    .dataframe tbody tr th:only-of-type {\n",
       "        vertical-align: middle;\n",
       "    }\n",
       "\n",
       "    .dataframe tbody tr th {\n",
       "        vertical-align: top;\n",
       "    }\n",
       "\n",
       "    .dataframe thead th {\n",
       "        text-align: right;\n",
       "    }\n",
       "</style>\n",
       "<table border=\"1\" class=\"dataframe\">\n",
       "  <thead>\n",
       "    <tr style=\"text-align: right;\">\n",
       "      <th></th>\n",
       "      <th>date</th>\n",
       "      <th>symbol</th>\n",
       "      <th>open</th>\n",
       "      <th>close</th>\n",
       "      <th>low</th>\n",
       "      <th>high</th>\n",
       "      <th>volume</th>\n",
       "    </tr>\n",
       "  </thead>\n",
       "  <tbody>\n",
       "    <tr>\n",
       "      <th>851259</th>\n",
       "      <td>2016-12-30</td>\n",
       "      <td>ZBH</td>\n",
       "      <td>103.309998</td>\n",
       "      <td>103.199997</td>\n",
       "      <td>102.849998</td>\n",
       "      <td>103.930000</td>\n",
       "      <td>973800.0</td>\n",
       "    </tr>\n",
       "    <tr>\n",
       "      <th>851260</th>\n",
       "      <td>2016-12-30</td>\n",
       "      <td>ZION</td>\n",
       "      <td>43.070000</td>\n",
       "      <td>43.040001</td>\n",
       "      <td>42.689999</td>\n",
       "      <td>43.310001</td>\n",
       "      <td>1938100.0</td>\n",
       "    </tr>\n",
       "    <tr>\n",
       "      <th>851261</th>\n",
       "      <td>2016-12-30</td>\n",
       "      <td>ZTS</td>\n",
       "      <td>53.639999</td>\n",
       "      <td>53.529999</td>\n",
       "      <td>53.270000</td>\n",
       "      <td>53.740002</td>\n",
       "      <td>1701200.0</td>\n",
       "    </tr>\n",
       "    <tr>\n",
       "      <th>851262</th>\n",
       "      <td>2016-12-30</td>\n",
       "      <td>AIV</td>\n",
       "      <td>44.730000</td>\n",
       "      <td>45.450001</td>\n",
       "      <td>44.410000</td>\n",
       "      <td>45.590000</td>\n",
       "      <td>1380900.0</td>\n",
       "    </tr>\n",
       "    <tr>\n",
       "      <th>851263</th>\n",
       "      <td>2016-12-30</td>\n",
       "      <td>FTV</td>\n",
       "      <td>54.200001</td>\n",
       "      <td>53.630001</td>\n",
       "      <td>53.389999</td>\n",
       "      <td>54.480000</td>\n",
       "      <td>705100.0</td>\n",
       "    </tr>\n",
       "  </tbody>\n",
       "</table>\n",
       "</div>"
      ],
      "text/plain": [
       "              date symbol        open       close         low        high  \\\n",
       "851259  2016-12-30    ZBH  103.309998  103.199997  102.849998  103.930000   \n",
       "851260  2016-12-30   ZION   43.070000   43.040001   42.689999   43.310001   \n",
       "851261  2016-12-30    ZTS   53.639999   53.529999   53.270000   53.740002   \n",
       "851262  2016-12-30    AIV   44.730000   45.450001   44.410000   45.590000   \n",
       "851263  2016-12-30    FTV   54.200001   53.630001   53.389999   54.480000   \n",
       "\n",
       "           volume  \n",
       "851259   973800.0  \n",
       "851260  1938100.0  \n",
       "851261  1701200.0  \n",
       "851262  1380900.0  \n",
       "851263   705100.0  "
      ]
     },
     "execution_count": 5,
     "metadata": {},
     "output_type": "execute_result"
    }
   ],
   "source": [
    "df.tail()\n"
   ]
  },
  {
   "cell_type": "code",
   "execution_count": 6,
   "metadata": {},
   "outputs": [
    {
     "data": {
      "text/plain": [
       "(851264, 7)"
      ]
     },
     "execution_count": 6,
     "metadata": {},
     "output_type": "execute_result"
    }
   ],
   "source": [
    "df.shape"
   ]
  },
  {
   "cell_type": "code",
   "execution_count": 7,
   "metadata": {},
   "outputs": [
    {
     "data": {
      "text/plain": [
       "array(['WLTW', 'A', 'AAL', 'AAP', 'AAPL', 'ABC', 'ABT', 'ACN', 'ADBE',\n",
       "       'ADI', 'ADM', 'ADP', 'ADS', 'ADSK', 'AEE', 'AEP', 'AES', 'AET',\n",
       "       'AFL', 'AGN', 'AIG', 'AIZ', 'AJG', 'AKAM', 'ALB', 'ALK', 'ALL',\n",
       "       'ALXN', 'AMAT', 'AME', 'AMG', 'AMGN', 'AMP', 'AMT', 'AMZN', 'AN',\n",
       "       'ANTM', 'AON', 'APA', 'APC', 'APD', 'APH', 'ARNC', 'ATVI', 'AVB',\n",
       "       'AVGO', 'AVY', 'AWK', 'AXP', 'AYI', 'AZO', 'BA', 'BAC', 'BAX',\n",
       "       'BBBY', 'BBT', 'BBY', 'BCR', 'BDX', 'BEN', 'BHI', 'BIIB', 'BK',\n",
       "       'BLK', 'BLL', 'BMY', 'BSX', 'BWA', 'BXP', 'C', 'CA', 'CAG', 'CAH',\n",
       "       'CAT', 'CB', 'CBG', 'CBS', 'CCI', 'CCL', 'CELG', 'CERN', 'CF',\n",
       "       'CHD', 'CHK', 'CHRW', 'CI', 'CINF', 'CL', 'CLX', 'CMA', 'CMCSA',\n",
       "       'CME', 'CMG', 'CMI', 'CMS', 'CNC', 'CNP', 'COF', 'COG', 'COH',\n",
       "       'COL', 'COO', 'COP', 'COST', 'CPB', 'CRM', 'CSCO', 'CSX', 'CTAS',\n",
       "       'CTL', 'CTSH', 'CTXS', 'CVS', 'CVX', 'CXO', 'D', 'DAL', 'DD', 'DE',\n",
       "       'DFS', 'DG', 'DGX', 'DHI', 'DHR', 'DIS', 'DISCA', 'DISCK', 'DLR',\n",
       "       'DLTR', 'DNB', 'DOV', 'DOW', 'DPS', 'DRI', 'DTE', 'DUK', 'DVA',\n",
       "       'DVN', 'EA', 'EBAY', 'ECL', 'ED', 'EFX', 'EIX', 'EL', 'EMN', 'EMR',\n",
       "       'ENDP', 'EOG', 'EQIX', 'EQR', 'EQT', 'ES', 'ESRX', 'ESS', 'ETFC',\n",
       "       'ETN', 'ETR', 'EW', 'EXC', 'EXPD', 'EXPE', 'EXR', 'F', 'FAST',\n",
       "       'FCX', 'FDX', 'FE', 'FFIV', 'FIS', 'FISV', 'FITB', 'FL', 'FLIR',\n",
       "       'FLR', 'FLS', 'FMC', 'FOX', 'FOXA', 'FRT', 'FSLR', 'FTI', 'FTR',\n",
       "       'GD', 'GE', 'GGP', 'GILD', 'GIS', 'GLW', 'GOOG', 'GOOGL', 'GPC',\n",
       "       'GPN', 'GPS', 'GRMN', 'GS', 'GT', 'GWW', 'HAL', 'HAR', 'HAS',\n",
       "       'HBAN', 'HBI', 'HCN', 'HCP', 'HD', 'HES', 'HIG', 'HOG', 'HOLX',\n",
       "       'HON', 'HP', 'HPQ', 'HRB', 'HRL', 'HRS', 'HSIC', 'HST', 'HSY',\n",
       "       'HUM', 'IBM', 'ICE', 'IDXX', 'IFF', 'ILMN', 'INTC', 'INTU', 'IP',\n",
       "       'IPG', 'IR', 'IRM', 'ISRG', 'ITW', 'IVZ', 'JBHT', 'JCI', 'JEC',\n",
       "       'JNJ', 'JNPR', 'JPM', 'JWN', 'K', 'KEY', 'KIM', 'KLAC', 'KMB',\n",
       "       'KMX', 'KO', 'KR', 'KSS', 'KSU', 'L', 'LB', 'LEG', 'LEN', 'LH',\n",
       "       'LKQ', 'LLL', 'LLTC', 'LLY', 'LMT', 'LNC', 'LNT', 'LOW', 'LRCX',\n",
       "       'LUK', 'LUV', 'LVLT', 'M', 'MA', 'MAA', 'MAC', 'MAR', 'MAS', 'MAT',\n",
       "       'MCD', 'MCHP', 'MCK', 'MCO', 'MDLZ', 'MDT', 'MET', 'MHK', 'MJN',\n",
       "       'MKC', 'MLM', 'MMC', 'MMM', 'MNST', 'MO', 'MON', 'MOS', 'MRK',\n",
       "       'MRO', 'MSFT', 'MSI', 'MTB', 'MTD', 'MU', 'MUR', 'MYL', 'NBL',\n",
       "       'NDAQ', 'NEE', 'NEM', 'NFLX', 'NFX', 'NI', 'NKE', 'NOC', 'NOV',\n",
       "       'NRG', 'NSC', 'NTAP', 'NTRS', 'NUE', 'NVDA', 'NWL', 'O', 'OKE',\n",
       "       'OMC', 'ORCL', 'ORLY', 'OXY', 'PAYX', 'PBCT', 'PBI', 'PCAR', 'PCG',\n",
       "       'PCLN', 'PDCO', 'PEG', 'PEP', 'PFE', 'PFG', 'PG', 'PGR', 'PH',\n",
       "       'PHM', 'PKI', 'PLD', 'PM', 'PNC', 'PNR', 'PNW', 'PPG', 'PPL',\n",
       "       'PRGO', 'PRU', 'PSA', 'PVH', 'PWR', 'PX', 'PXD', 'QCOM', 'R',\n",
       "       'RAI', 'RCL', 'REGN', 'RF', 'RHI', 'RHT', 'RIG', 'RL', 'ROK',\n",
       "       'ROP', 'ROST', 'RRC', 'RSG', 'RTN', 'SBUX', 'SCG', 'SCHW', 'SE',\n",
       "       'SEE', 'SHW', 'SIG', 'SJM', 'SLB', 'SLG', 'SNA', 'SNI', 'SO',\n",
       "       'SPG', 'SPGI', 'SPLS', 'SRCL', 'SRE', 'STI', 'STT', 'STX', 'STZ',\n",
       "       'SWK', 'SWKS', 'SWN', 'SYK', 'SYMC', 'SYY', 'T', 'TAP', 'TDC',\n",
       "       'TEL', 'TGNA', 'TGT', 'TIF', 'TJX', 'TMK', 'TMO', 'TROW', 'TRV',\n",
       "       'TSCO', 'TSN', 'TSO', 'TSS', 'TWX', 'TXN', 'TXT', 'UAA', 'UAL',\n",
       "       'UDR', 'UHS', 'ULTA', 'UNH', 'UNM', 'UNP', 'UPS', 'URBN', 'URI',\n",
       "       'USB', 'UTX', 'V', 'VAR', 'VFC', 'VIAB', 'VLO', 'VMC', 'VNO',\n",
       "       'VRSK', 'VRSN', 'VRTX', 'VTR', 'VZ', 'WAT', 'WBA', 'WDC', 'WEC',\n",
       "       'WFC', 'WFM', 'WHR', 'WM', 'WMB', 'WMT', 'WU', 'WY', 'WYN', 'WYNN',\n",
       "       'XEC', 'XEL', 'XL', 'XLNX', 'XOM', 'XRAY', 'XRX', 'YHOO', 'YUM',\n",
       "       'ZBH', 'ZION', 'AIV', 'CHTR', 'LYB', 'GM', 'ABBV', 'DLPH', 'FB',\n",
       "       'FBHS', 'HCA', 'KMI', 'KORS', 'MPC', 'NLSN', 'PSX', 'TDG', 'TRIP',\n",
       "       'XYL', 'ZTS', 'COTY', 'MNK', 'NWS', 'NWSA', 'EVHC', 'ALLE', 'CFG',\n",
       "       'NAVI', 'QRVO', 'SYF', 'WRK', 'KHC', 'PYPL', 'HPE', 'CSRA', 'FTV'],\n",
       "      dtype=object)"
      ]
     },
     "execution_count": 7,
     "metadata": {},
     "output_type": "execute_result"
    }
   ],
   "source": [
    "df.symbol.unique()"
   ]
  },
  {
   "cell_type": "code",
   "execution_count": 8,
   "metadata": {},
   "outputs": [],
   "source": [
    "df_yahoo = df[df['symbol']=='YHOO']"
   ]
  },
  {
   "cell_type": "code",
   "execution_count": 9,
   "metadata": {},
   "outputs": [
    {
     "data": {
      "text/html": [
       "<div>\n",
       "<style scoped>\n",
       "    .dataframe tbody tr th:only-of-type {\n",
       "        vertical-align: middle;\n",
       "    }\n",
       "\n",
       "    .dataframe tbody tr th {\n",
       "        vertical-align: top;\n",
       "    }\n",
       "\n",
       "    .dataframe thead th {\n",
       "        text-align: right;\n",
       "    }\n",
       "</style>\n",
       "<table border=\"1\" class=\"dataframe\">\n",
       "  <thead>\n",
       "    <tr style=\"text-align: right;\">\n",
       "      <th></th>\n",
       "      <th>date</th>\n",
       "      <th>symbol</th>\n",
       "      <th>open</th>\n",
       "      <th>close</th>\n",
       "      <th>low</th>\n",
       "      <th>high</th>\n",
       "      <th>volume</th>\n",
       "    </tr>\n",
       "  </thead>\n",
       "  <tbody>\n",
       "    <tr>\n",
       "      <th>713</th>\n",
       "      <td>2010-01-04</td>\n",
       "      <td>YHOO</td>\n",
       "      <td>16.940001</td>\n",
       "      <td>17.100000</td>\n",
       "      <td>16.879999</td>\n",
       "      <td>17.200001</td>\n",
       "      <td>16587400.0</td>\n",
       "    </tr>\n",
       "    <tr>\n",
       "      <th>1181</th>\n",
       "      <td>2010-01-05</td>\n",
       "      <td>YHOO</td>\n",
       "      <td>17.219999</td>\n",
       "      <td>17.230000</td>\n",
       "      <td>17.000000</td>\n",
       "      <td>17.230000</td>\n",
       "      <td>11718100.0</td>\n",
       "    </tr>\n",
       "    <tr>\n",
       "      <th>1649</th>\n",
       "      <td>2010-01-06</td>\n",
       "      <td>YHOO</td>\n",
       "      <td>17.170000</td>\n",
       "      <td>17.170000</td>\n",
       "      <td>17.070000</td>\n",
       "      <td>17.299999</td>\n",
       "      <td>16422000.0</td>\n",
       "    </tr>\n",
       "    <tr>\n",
       "      <th>2117</th>\n",
       "      <td>2010-01-07</td>\n",
       "      <td>YHOO</td>\n",
       "      <td>16.809999</td>\n",
       "      <td>16.700001</td>\n",
       "      <td>16.570000</td>\n",
       "      <td>16.900000</td>\n",
       "      <td>31816300.0</td>\n",
       "    </tr>\n",
       "    <tr>\n",
       "      <th>2585</th>\n",
       "      <td>2010-01-08</td>\n",
       "      <td>YHOO</td>\n",
       "      <td>16.680000</td>\n",
       "      <td>16.700001</td>\n",
       "      <td>16.620001</td>\n",
       "      <td>16.760000</td>\n",
       "      <td>15470000.0</td>\n",
       "    </tr>\n",
       "    <tr>\n",
       "      <th>3053</th>\n",
       "      <td>2010-01-11</td>\n",
       "      <td>YHOO</td>\n",
       "      <td>16.770000</td>\n",
       "      <td>16.740000</td>\n",
       "      <td>16.480000</td>\n",
       "      <td>16.830000</td>\n",
       "      <td>16181900.0</td>\n",
       "    </tr>\n",
       "    <tr>\n",
       "      <th>3521</th>\n",
       "      <td>2010-01-12</td>\n",
       "      <td>YHOO</td>\n",
       "      <td>16.650000</td>\n",
       "      <td>16.680000</td>\n",
       "      <td>16.600000</td>\n",
       "      <td>16.860001</td>\n",
       "      <td>15672400.0</td>\n",
       "    </tr>\n",
       "    <tr>\n",
       "      <th>3989</th>\n",
       "      <td>2010-01-13</td>\n",
       "      <td>YHOO</td>\n",
       "      <td>16.879999</td>\n",
       "      <td>16.900000</td>\n",
       "      <td>16.650000</td>\n",
       "      <td>16.980000</td>\n",
       "      <td>16955600.0</td>\n",
       "    </tr>\n",
       "    <tr>\n",
       "      <th>4457</th>\n",
       "      <td>2010-01-14</td>\n",
       "      <td>YHOO</td>\n",
       "      <td>16.809999</td>\n",
       "      <td>17.120001</td>\n",
       "      <td>16.799999</td>\n",
       "      <td>17.230000</td>\n",
       "      <td>16715600.0</td>\n",
       "    </tr>\n",
       "    <tr>\n",
       "      <th>4925</th>\n",
       "      <td>2010-01-15</td>\n",
       "      <td>YHOO</td>\n",
       "      <td>17.250000</td>\n",
       "      <td>16.820000</td>\n",
       "      <td>16.750000</td>\n",
       "      <td>17.250000</td>\n",
       "      <td>18415000.0</td>\n",
       "    </tr>\n",
       "  </tbody>\n",
       "</table>\n",
       "</div>"
      ],
      "text/plain": [
       "            date symbol       open      close        low       high  \\\n",
       "713   2010-01-04   YHOO  16.940001  17.100000  16.879999  17.200001   \n",
       "1181  2010-01-05   YHOO  17.219999  17.230000  17.000000  17.230000   \n",
       "1649  2010-01-06   YHOO  17.170000  17.170000  17.070000  17.299999   \n",
       "2117  2010-01-07   YHOO  16.809999  16.700001  16.570000  16.900000   \n",
       "2585  2010-01-08   YHOO  16.680000  16.700001  16.620001  16.760000   \n",
       "3053  2010-01-11   YHOO  16.770000  16.740000  16.480000  16.830000   \n",
       "3521  2010-01-12   YHOO  16.650000  16.680000  16.600000  16.860001   \n",
       "3989  2010-01-13   YHOO  16.879999  16.900000  16.650000  16.980000   \n",
       "4457  2010-01-14   YHOO  16.809999  17.120001  16.799999  17.230000   \n",
       "4925  2010-01-15   YHOO  17.250000  16.820000  16.750000  17.250000   \n",
       "\n",
       "          volume  \n",
       "713   16587400.0  \n",
       "1181  11718100.0  \n",
       "1649  16422000.0  \n",
       "2117  31816300.0  \n",
       "2585  15470000.0  \n",
       "3053  16181900.0  \n",
       "3521  15672400.0  \n",
       "3989  16955600.0  \n",
       "4457  16715600.0  \n",
       "4925  18415000.0  "
      ]
     },
     "execution_count": 9,
     "metadata": {},
     "output_type": "execute_result"
    }
   ],
   "source": [
    "df_yahoo.head(10)"
   ]
  },
  {
   "cell_type": "code",
   "execution_count": 10,
   "metadata": {},
   "outputs": [
    {
     "data": {
      "text/plain": [
       "(1762, 7)"
      ]
     },
     "execution_count": 10,
     "metadata": {},
     "output_type": "execute_result"
    }
   ],
   "source": [
    "df_yahoo.shape"
   ]
  },
  {
   "cell_type": "code",
   "execution_count": 11,
   "metadata": {},
   "outputs": [
    {
     "data": {
      "text/html": [
       "<div>\n",
       "<style scoped>\n",
       "    .dataframe tbody tr th:only-of-type {\n",
       "        vertical-align: middle;\n",
       "    }\n",
       "\n",
       "    .dataframe tbody tr th {\n",
       "        vertical-align: top;\n",
       "    }\n",
       "\n",
       "    .dataframe thead th {\n",
       "        text-align: right;\n",
       "    }\n",
       "</style>\n",
       "<table border=\"1\" class=\"dataframe\">\n",
       "  <thead>\n",
       "    <tr style=\"text-align: right;\">\n",
       "      <th></th>\n",
       "      <th>open</th>\n",
       "      <th>close</th>\n",
       "      <th>low</th>\n",
       "      <th>high</th>\n",
       "      <th>volume</th>\n",
       "    </tr>\n",
       "  </thead>\n",
       "  <tbody>\n",
       "    <tr>\n",
       "      <th>count</th>\n",
       "      <td>1762.000000</td>\n",
       "      <td>1762.000000</td>\n",
       "      <td>1762.000000</td>\n",
       "      <td>1762.000000</td>\n",
       "      <td>1.762000e+03</td>\n",
       "    </tr>\n",
       "    <tr>\n",
       "      <th>mean</th>\n",
       "      <td>27.297917</td>\n",
       "      <td>27.291992</td>\n",
       "      <td>26.975602</td>\n",
       "      <td>27.609977</td>\n",
       "      <td>1.996907e+07</td>\n",
       "    </tr>\n",
       "    <tr>\n",
       "      <th>std</th>\n",
       "      <td>11.412612</td>\n",
       "      <td>11.406846</td>\n",
       "      <td>11.289736</td>\n",
       "      <td>11.526101</td>\n",
       "      <td>1.376851e+07</td>\n",
       "    </tr>\n",
       "    <tr>\n",
       "      <th>min</th>\n",
       "      <td>11.300000</td>\n",
       "      <td>11.090000</td>\n",
       "      <td>11.090000</td>\n",
       "      <td>11.800000</td>\n",
       "      <td>2.586900e+06</td>\n",
       "    </tr>\n",
       "    <tr>\n",
       "      <th>25%</th>\n",
       "      <td>15.950000</td>\n",
       "      <td>15.920000</td>\n",
       "      <td>15.770000</td>\n",
       "      <td>16.110001</td>\n",
       "      <td>1.235152e+07</td>\n",
       "    </tr>\n",
       "    <tr>\n",
       "      <th>50%</th>\n",
       "      <td>26.770001</td>\n",
       "      <td>26.750000</td>\n",
       "      <td>26.495000</td>\n",
       "      <td>27.105001</td>\n",
       "      <td>1.639070e+07</td>\n",
       "    </tr>\n",
       "    <tr>\n",
       "      <th>75%</th>\n",
       "      <td>37.335000</td>\n",
       "      <td>37.377501</td>\n",
       "      <td>36.897501</td>\n",
       "      <td>37.689999</td>\n",
       "      <td>2.325988e+07</td>\n",
       "    </tr>\n",
       "    <tr>\n",
       "      <th>max</th>\n",
       "      <td>52.279999</td>\n",
       "      <td>52.369999</td>\n",
       "      <td>51.639999</td>\n",
       "      <td>52.619999</td>\n",
       "      <td>2.338721e+08</td>\n",
       "    </tr>\n",
       "  </tbody>\n",
       "</table>\n",
       "</div>"
      ],
      "text/plain": [
       "              open        close          low         high        volume\n",
       "count  1762.000000  1762.000000  1762.000000  1762.000000  1.762000e+03\n",
       "mean     27.297917    27.291992    26.975602    27.609977  1.996907e+07\n",
       "std      11.412612    11.406846    11.289736    11.526101  1.376851e+07\n",
       "min      11.300000    11.090000    11.090000    11.800000  2.586900e+06\n",
       "25%      15.950000    15.920000    15.770000    16.110001  1.235152e+07\n",
       "50%      26.770001    26.750000    26.495000    27.105001  1.639070e+07\n",
       "75%      37.335000    37.377501    36.897501    37.689999  2.325988e+07\n",
       "max      52.279999    52.369999    51.639999    52.619999  2.338721e+08"
      ]
     },
     "execution_count": 11,
     "metadata": {},
     "output_type": "execute_result"
    }
   ],
   "source": [
    "df_yahoo.describe()"
   ]
  },
  {
   "cell_type": "code",
   "execution_count": 12,
   "metadata": {},
   "outputs": [
    {
     "data": {
      "text/plain": [
       "date      0\n",
       "symbol    0\n",
       "open      0\n",
       "close     0\n",
       "low       0\n",
       "high      0\n",
       "volume    0\n",
       "dtype: int64"
      ]
     },
     "execution_count": 12,
     "metadata": {},
     "output_type": "execute_result"
    }
   ],
   "source": [
    "df_yahoo.isnull().sum()"
   ]
  },
  {
   "cell_type": "code",
   "execution_count": 13,
   "metadata": {},
   "outputs": [
    {
     "name": "stderr",
     "output_type": "stream",
     "text": [
      "/usr/local/anaconda/envs/tensorflow2/lib/python3.6/site-packages/ipykernel_launcher.py:1: SettingWithCopyWarning: \n",
      "A value is trying to be set on a copy of a slice from a DataFrame.\n",
      "Try using .loc[row_indexer,col_indexer] = value instead\n",
      "\n",
      "See the caveats in the documentation: https://pandas.pydata.org/pandas-docs/stable/user_guide/indexing.html#returning-a-view-versus-a-copy\n",
      "  \"\"\"Entry point for launching an IPython kernel.\n"
     ]
    }
   ],
   "source": [
    "df_yahoo['date'] = pd.to_datetime(df_yahoo['date'])"
   ]
  },
  {
   "cell_type": "code",
   "execution_count": 14,
   "metadata": {},
   "outputs": [
    {
     "name": "stdout",
     "output_type": "stream",
     "text": [
      "datetime64[ns]\n"
     ]
    }
   ],
   "source": [
    "print(df_yahoo.date.dtype)"
   ]
  },
  {
   "cell_type": "code",
   "execution_count": 15,
   "metadata": {},
   "outputs": [],
   "source": [
    "df_yahoo = df_yahoo.set_index(\"date\")"
   ]
  },
  {
   "cell_type": "code",
   "execution_count": 16,
   "metadata": {},
   "outputs": [
    {
     "data": {
      "text/html": [
       "<div>\n",
       "<style scoped>\n",
       "    .dataframe tbody tr th:only-of-type {\n",
       "        vertical-align: middle;\n",
       "    }\n",
       "\n",
       "    .dataframe tbody tr th {\n",
       "        vertical-align: top;\n",
       "    }\n",
       "\n",
       "    .dataframe thead th {\n",
       "        text-align: right;\n",
       "    }\n",
       "</style>\n",
       "<table border=\"1\" class=\"dataframe\">\n",
       "  <thead>\n",
       "    <tr style=\"text-align: right;\">\n",
       "      <th></th>\n",
       "      <th>symbol</th>\n",
       "      <th>open</th>\n",
       "      <th>close</th>\n",
       "      <th>low</th>\n",
       "      <th>high</th>\n",
       "      <th>volume</th>\n",
       "    </tr>\n",
       "    <tr>\n",
       "      <th>date</th>\n",
       "      <th></th>\n",
       "      <th></th>\n",
       "      <th></th>\n",
       "      <th></th>\n",
       "      <th></th>\n",
       "      <th></th>\n",
       "    </tr>\n",
       "  </thead>\n",
       "  <tbody>\n",
       "    <tr>\n",
       "      <th>2010-01-04</th>\n",
       "      <td>YHOO</td>\n",
       "      <td>16.940001</td>\n",
       "      <td>17.100000</td>\n",
       "      <td>16.879999</td>\n",
       "      <td>17.200001</td>\n",
       "      <td>16587400.0</td>\n",
       "    </tr>\n",
       "    <tr>\n",
       "      <th>2010-01-05</th>\n",
       "      <td>YHOO</td>\n",
       "      <td>17.219999</td>\n",
       "      <td>17.230000</td>\n",
       "      <td>17.000000</td>\n",
       "      <td>17.230000</td>\n",
       "      <td>11718100.0</td>\n",
       "    </tr>\n",
       "    <tr>\n",
       "      <th>2010-01-06</th>\n",
       "      <td>YHOO</td>\n",
       "      <td>17.170000</td>\n",
       "      <td>17.170000</td>\n",
       "      <td>17.070000</td>\n",
       "      <td>17.299999</td>\n",
       "      <td>16422000.0</td>\n",
       "    </tr>\n",
       "    <tr>\n",
       "      <th>2010-01-07</th>\n",
       "      <td>YHOO</td>\n",
       "      <td>16.809999</td>\n",
       "      <td>16.700001</td>\n",
       "      <td>16.570000</td>\n",
       "      <td>16.900000</td>\n",
       "      <td>31816300.0</td>\n",
       "    </tr>\n",
       "    <tr>\n",
       "      <th>2010-01-08</th>\n",
       "      <td>YHOO</td>\n",
       "      <td>16.680000</td>\n",
       "      <td>16.700001</td>\n",
       "      <td>16.620001</td>\n",
       "      <td>16.760000</td>\n",
       "      <td>15470000.0</td>\n",
       "    </tr>\n",
       "  </tbody>\n",
       "</table>\n",
       "</div>"
      ],
      "text/plain": [
       "           symbol       open      close        low       high      volume\n",
       "date                                                                     \n",
       "2010-01-04   YHOO  16.940001  17.100000  16.879999  17.200001  16587400.0\n",
       "2010-01-05   YHOO  17.219999  17.230000  17.000000  17.230000  11718100.0\n",
       "2010-01-06   YHOO  17.170000  17.170000  17.070000  17.299999  16422000.0\n",
       "2010-01-07   YHOO  16.809999  16.700001  16.570000  16.900000  31816300.0\n",
       "2010-01-08   YHOO  16.680000  16.700001  16.620001  16.760000  15470000.0"
      ]
     },
     "execution_count": 16,
     "metadata": {},
     "output_type": "execute_result"
    }
   ],
   "source": [
    "df_yahoo.head()"
   ]
  },
  {
   "cell_type": "code",
   "execution_count": 17,
   "metadata": {},
   "outputs": [
    {
     "name": "stdout",
     "output_type": "stream",
     "text": [
      "(1762, 6)\n"
     ]
    }
   ],
   "source": [
    "print(df_yahoo.shape)"
   ]
  },
  {
   "cell_type": "code",
   "execution_count": 18,
   "metadata": {},
   "outputs": [],
   "source": [
    "yahoo_data = df_yahoo.asfreq('b')"
   ]
  },
  {
   "cell_type": "code",
   "execution_count": 19,
   "metadata": {},
   "outputs": [
    {
     "name": "stdout",
     "output_type": "stream",
     "text": [
      "(1825, 6)\n"
     ]
    }
   ],
   "source": [
    "print(yahoo_data.shape)"
   ]
  },
  {
   "cell_type": "code",
   "execution_count": 20,
   "metadata": {},
   "outputs": [
    {
     "data": {
      "text/html": [
       "<div>\n",
       "<style scoped>\n",
       "    .dataframe tbody tr th:only-of-type {\n",
       "        vertical-align: middle;\n",
       "    }\n",
       "\n",
       "    .dataframe tbody tr th {\n",
       "        vertical-align: top;\n",
       "    }\n",
       "\n",
       "    .dataframe thead th {\n",
       "        text-align: right;\n",
       "    }\n",
       "</style>\n",
       "<table border=\"1\" class=\"dataframe\">\n",
       "  <thead>\n",
       "    <tr style=\"text-align: right;\">\n",
       "      <th></th>\n",
       "      <th>symbol</th>\n",
       "      <th>open</th>\n",
       "      <th>close</th>\n",
       "      <th>low</th>\n",
       "      <th>high</th>\n",
       "      <th>volume</th>\n",
       "    </tr>\n",
       "    <tr>\n",
       "      <th>date</th>\n",
       "      <th></th>\n",
       "      <th></th>\n",
       "      <th></th>\n",
       "      <th></th>\n",
       "      <th></th>\n",
       "      <th></th>\n",
       "    </tr>\n",
       "  </thead>\n",
       "  <tbody>\n",
       "    <tr>\n",
       "      <th>2016-11-21</th>\n",
       "      <td>YHOO</td>\n",
       "      <td>41.439999</td>\n",
       "      <td>41.110001</td>\n",
       "      <td>40.939999</td>\n",
       "      <td>41.480000</td>\n",
       "      <td>11338000.0</td>\n",
       "    </tr>\n",
       "    <tr>\n",
       "      <th>2016-11-22</th>\n",
       "      <td>YHOO</td>\n",
       "      <td>41.200001</td>\n",
       "      <td>41.009998</td>\n",
       "      <td>40.830002</td>\n",
       "      <td>41.400002</td>\n",
       "      <td>8881200.0</td>\n",
       "    </tr>\n",
       "    <tr>\n",
       "      <th>2016-11-23</th>\n",
       "      <td>YHOO</td>\n",
       "      <td>40.910000</td>\n",
       "      <td>40.959999</td>\n",
       "      <td>40.549999</td>\n",
       "      <td>40.980000</td>\n",
       "      <td>3634900.0</td>\n",
       "    </tr>\n",
       "    <tr>\n",
       "      <th>2016-11-24</th>\n",
       "      <td>NaN</td>\n",
       "      <td>NaN</td>\n",
       "      <td>NaN</td>\n",
       "      <td>NaN</td>\n",
       "      <td>NaN</td>\n",
       "      <td>NaN</td>\n",
       "    </tr>\n",
       "    <tr>\n",
       "      <th>2016-11-25</th>\n",
       "      <td>YHOO</td>\n",
       "      <td>41.080002</td>\n",
       "      <td>40.869999</td>\n",
       "      <td>40.709999</td>\n",
       "      <td>41.080002</td>\n",
       "      <td>2586900.0</td>\n",
       "    </tr>\n",
       "    <tr>\n",
       "      <th>2016-11-28</th>\n",
       "      <td>YHOO</td>\n",
       "      <td>40.849998</td>\n",
       "      <td>41.450001</td>\n",
       "      <td>40.740002</td>\n",
       "      <td>41.700001</td>\n",
       "      <td>6765800.0</td>\n",
       "    </tr>\n",
       "    <tr>\n",
       "      <th>2016-11-29</th>\n",
       "      <td>YHOO</td>\n",
       "      <td>41.430000</td>\n",
       "      <td>41.599998</td>\n",
       "      <td>41.119999</td>\n",
       "      <td>41.830002</td>\n",
       "      <td>7246100.0</td>\n",
       "    </tr>\n",
       "    <tr>\n",
       "      <th>2016-11-30</th>\n",
       "      <td>YHOO</td>\n",
       "      <td>41.619999</td>\n",
       "      <td>41.020000</td>\n",
       "      <td>40.880001</td>\n",
       "      <td>41.669998</td>\n",
       "      <td>7624500.0</td>\n",
       "    </tr>\n",
       "    <tr>\n",
       "      <th>2016-12-01</th>\n",
       "      <td>YHOO</td>\n",
       "      <td>41.000000</td>\n",
       "      <td>39.630001</td>\n",
       "      <td>39.529999</td>\n",
       "      <td>41.040001</td>\n",
       "      <td>12614600.0</td>\n",
       "    </tr>\n",
       "    <tr>\n",
       "      <th>2016-12-02</th>\n",
       "      <td>YHOO</td>\n",
       "      <td>39.770000</td>\n",
       "      <td>40.070000</td>\n",
       "      <td>39.580002</td>\n",
       "      <td>40.320000</td>\n",
       "      <td>8568100.0</td>\n",
       "    </tr>\n",
       "    <tr>\n",
       "      <th>2016-12-05</th>\n",
       "      <td>YHOO</td>\n",
       "      <td>40.020000</td>\n",
       "      <td>40.200001</td>\n",
       "      <td>39.849998</td>\n",
       "      <td>40.389999</td>\n",
       "      <td>4401700.0</td>\n",
       "    </tr>\n",
       "    <tr>\n",
       "      <th>2016-12-06</th>\n",
       "      <td>YHOO</td>\n",
       "      <td>40.310001</td>\n",
       "      <td>39.970001</td>\n",
       "      <td>39.880001</td>\n",
       "      <td>40.419998</td>\n",
       "      <td>6943800.0</td>\n",
       "    </tr>\n",
       "    <tr>\n",
       "      <th>2016-12-07</th>\n",
       "      <td>YHOO</td>\n",
       "      <td>39.980000</td>\n",
       "      <td>40.520000</td>\n",
       "      <td>39.750000</td>\n",
       "      <td>40.570000</td>\n",
       "      <td>7199000.0</td>\n",
       "    </tr>\n",
       "    <tr>\n",
       "      <th>2016-12-08</th>\n",
       "      <td>YHOO</td>\n",
       "      <td>40.660000</td>\n",
       "      <td>41.410000</td>\n",
       "      <td>40.419998</td>\n",
       "      <td>41.599998</td>\n",
       "      <td>9169400.0</td>\n",
       "    </tr>\n",
       "    <tr>\n",
       "      <th>2016-12-09</th>\n",
       "      <td>YHOO</td>\n",
       "      <td>41.520000</td>\n",
       "      <td>41.759998</td>\n",
       "      <td>41.439999</td>\n",
       "      <td>41.799999</td>\n",
       "      <td>6836000.0</td>\n",
       "    </tr>\n",
       "    <tr>\n",
       "      <th>2016-12-12</th>\n",
       "      <td>YHOO</td>\n",
       "      <td>41.450001</td>\n",
       "      <td>41.299999</td>\n",
       "      <td>41.130001</td>\n",
       "      <td>41.529999</td>\n",
       "      <td>4451500.0</td>\n",
       "    </tr>\n",
       "    <tr>\n",
       "      <th>2016-12-13</th>\n",
       "      <td>YHOO</td>\n",
       "      <td>41.349998</td>\n",
       "      <td>41.470001</td>\n",
       "      <td>41.139999</td>\n",
       "      <td>41.790001</td>\n",
       "      <td>6500400.0</td>\n",
       "    </tr>\n",
       "    <tr>\n",
       "      <th>2016-12-14</th>\n",
       "      <td>YHOO</td>\n",
       "      <td>41.439999</td>\n",
       "      <td>40.910000</td>\n",
       "      <td>40.830002</td>\n",
       "      <td>41.529999</td>\n",
       "      <td>19296600.0</td>\n",
       "    </tr>\n",
       "    <tr>\n",
       "      <th>2016-12-15</th>\n",
       "      <td>YHOO</td>\n",
       "      <td>40.000000</td>\n",
       "      <td>38.410000</td>\n",
       "      <td>38.250000</td>\n",
       "      <td>40.000000</td>\n",
       "      <td>43656200.0</td>\n",
       "    </tr>\n",
       "    <tr>\n",
       "      <th>2016-12-16</th>\n",
       "      <td>YHOO</td>\n",
       "      <td>38.619999</td>\n",
       "      <td>38.610001</td>\n",
       "      <td>38.419998</td>\n",
       "      <td>39.220001</td>\n",
       "      <td>21447400.0</td>\n",
       "    </tr>\n",
       "    <tr>\n",
       "      <th>2016-12-19</th>\n",
       "      <td>YHOO</td>\n",
       "      <td>38.660000</td>\n",
       "      <td>38.419998</td>\n",
       "      <td>38.270000</td>\n",
       "      <td>38.790001</td>\n",
       "      <td>13607200.0</td>\n",
       "    </tr>\n",
       "    <tr>\n",
       "      <th>2016-12-20</th>\n",
       "      <td>YHOO</td>\n",
       "      <td>38.400002</td>\n",
       "      <td>39.160000</td>\n",
       "      <td>38.240002</td>\n",
       "      <td>39.180000</td>\n",
       "      <td>15007900.0</td>\n",
       "    </tr>\n",
       "    <tr>\n",
       "      <th>2016-12-21</th>\n",
       "      <td>YHOO</td>\n",
       "      <td>39.080002</td>\n",
       "      <td>39.150002</td>\n",
       "      <td>38.970001</td>\n",
       "      <td>39.320000</td>\n",
       "      <td>8263600.0</td>\n",
       "    </tr>\n",
       "    <tr>\n",
       "      <th>2016-12-22</th>\n",
       "      <td>YHOO</td>\n",
       "      <td>38.689999</td>\n",
       "      <td>38.500000</td>\n",
       "      <td>38.259998</td>\n",
       "      <td>38.790001</td>\n",
       "      <td>11685600.0</td>\n",
       "    </tr>\n",
       "    <tr>\n",
       "      <th>2016-12-23</th>\n",
       "      <td>YHOO</td>\n",
       "      <td>38.459999</td>\n",
       "      <td>38.660000</td>\n",
       "      <td>38.369999</td>\n",
       "      <td>38.810001</td>\n",
       "      <td>3840100.0</td>\n",
       "    </tr>\n",
       "    <tr>\n",
       "      <th>2016-12-26</th>\n",
       "      <td>NaN</td>\n",
       "      <td>NaN</td>\n",
       "      <td>NaN</td>\n",
       "      <td>NaN</td>\n",
       "      <td>NaN</td>\n",
       "      <td>NaN</td>\n",
       "    </tr>\n",
       "    <tr>\n",
       "      <th>2016-12-27</th>\n",
       "      <td>YHOO</td>\n",
       "      <td>38.590000</td>\n",
       "      <td>38.919998</td>\n",
       "      <td>38.500000</td>\n",
       "      <td>39.070000</td>\n",
       "      <td>4240300.0</td>\n",
       "    </tr>\n",
       "    <tr>\n",
       "      <th>2016-12-28</th>\n",
       "      <td>YHOO</td>\n",
       "      <td>39.119999</td>\n",
       "      <td>38.730000</td>\n",
       "      <td>38.709999</td>\n",
       "      <td>39.220001</td>\n",
       "      <td>4393500.0</td>\n",
       "    </tr>\n",
       "    <tr>\n",
       "      <th>2016-12-29</th>\n",
       "      <td>YHOO</td>\n",
       "      <td>38.759998</td>\n",
       "      <td>38.639999</td>\n",
       "      <td>38.480000</td>\n",
       "      <td>38.930000</td>\n",
       "      <td>4170200.0</td>\n",
       "    </tr>\n",
       "    <tr>\n",
       "      <th>2016-12-30</th>\n",
       "      <td>YHOO</td>\n",
       "      <td>38.720001</td>\n",
       "      <td>38.669998</td>\n",
       "      <td>38.430000</td>\n",
       "      <td>39.000000</td>\n",
       "      <td>6431600.0</td>\n",
       "    </tr>\n",
       "  </tbody>\n",
       "</table>\n",
       "</div>"
      ],
      "text/plain": [
       "           symbol       open      close        low       high      volume\n",
       "date                                                                     \n",
       "2016-11-21   YHOO  41.439999  41.110001  40.939999  41.480000  11338000.0\n",
       "2016-11-22   YHOO  41.200001  41.009998  40.830002  41.400002   8881200.0\n",
       "2016-11-23   YHOO  40.910000  40.959999  40.549999  40.980000   3634900.0\n",
       "2016-11-24    NaN        NaN        NaN        NaN        NaN         NaN\n",
       "2016-11-25   YHOO  41.080002  40.869999  40.709999  41.080002   2586900.0\n",
       "2016-11-28   YHOO  40.849998  41.450001  40.740002  41.700001   6765800.0\n",
       "2016-11-29   YHOO  41.430000  41.599998  41.119999  41.830002   7246100.0\n",
       "2016-11-30   YHOO  41.619999  41.020000  40.880001  41.669998   7624500.0\n",
       "2016-12-01   YHOO  41.000000  39.630001  39.529999  41.040001  12614600.0\n",
       "2016-12-02   YHOO  39.770000  40.070000  39.580002  40.320000   8568100.0\n",
       "2016-12-05   YHOO  40.020000  40.200001  39.849998  40.389999   4401700.0\n",
       "2016-12-06   YHOO  40.310001  39.970001  39.880001  40.419998   6943800.0\n",
       "2016-12-07   YHOO  39.980000  40.520000  39.750000  40.570000   7199000.0\n",
       "2016-12-08   YHOO  40.660000  41.410000  40.419998  41.599998   9169400.0\n",
       "2016-12-09   YHOO  41.520000  41.759998  41.439999  41.799999   6836000.0\n",
       "2016-12-12   YHOO  41.450001  41.299999  41.130001  41.529999   4451500.0\n",
       "2016-12-13   YHOO  41.349998  41.470001  41.139999  41.790001   6500400.0\n",
       "2016-12-14   YHOO  41.439999  40.910000  40.830002  41.529999  19296600.0\n",
       "2016-12-15   YHOO  40.000000  38.410000  38.250000  40.000000  43656200.0\n",
       "2016-12-16   YHOO  38.619999  38.610001  38.419998  39.220001  21447400.0\n",
       "2016-12-19   YHOO  38.660000  38.419998  38.270000  38.790001  13607200.0\n",
       "2016-12-20   YHOO  38.400002  39.160000  38.240002  39.180000  15007900.0\n",
       "2016-12-21   YHOO  39.080002  39.150002  38.970001  39.320000   8263600.0\n",
       "2016-12-22   YHOO  38.689999  38.500000  38.259998  38.790001  11685600.0\n",
       "2016-12-23   YHOO  38.459999  38.660000  38.369999  38.810001   3840100.0\n",
       "2016-12-26    NaN        NaN        NaN        NaN        NaN         NaN\n",
       "2016-12-27   YHOO  38.590000  38.919998  38.500000  39.070000   4240300.0\n",
       "2016-12-28   YHOO  39.119999  38.730000  38.709999  39.220001   4393500.0\n",
       "2016-12-29   YHOO  38.759998  38.639999  38.480000  38.930000   4170200.0\n",
       "2016-12-30   YHOO  38.720001  38.669998  38.430000  39.000000   6431600.0"
      ]
     },
     "execution_count": 20,
     "metadata": {},
     "output_type": "execute_result"
    }
   ],
   "source": [
    "yahoo_data.tail(30)"
   ]
  },
  {
   "cell_type": "code",
   "execution_count": 21,
   "metadata": {},
   "outputs": [
    {
     "data": {
      "text/plain": [
       "symbol    63\n",
       "open      63\n",
       "close     63\n",
       "low       63\n",
       "high      63\n",
       "volume    63\n",
       "dtype: int64"
      ]
     },
     "execution_count": 21,
     "metadata": {},
     "output_type": "execute_result"
    }
   ],
   "source": [
    "yahoo_data.isnull().sum()"
   ]
  },
  {
   "cell_type": "code",
   "execution_count": 22,
   "metadata": {},
   "outputs": [],
   "source": [
    "null_data = yahoo_data[yahoo_data.isnull().any(axis=1)]"
   ]
  },
  {
   "cell_type": "code",
   "execution_count": 23,
   "metadata": {},
   "outputs": [
    {
     "data": {
      "text/html": [
       "<div>\n",
       "<style scoped>\n",
       "    .dataframe tbody tr th:only-of-type {\n",
       "        vertical-align: middle;\n",
       "    }\n",
       "\n",
       "    .dataframe tbody tr th {\n",
       "        vertical-align: top;\n",
       "    }\n",
       "\n",
       "    .dataframe thead th {\n",
       "        text-align: right;\n",
       "    }\n",
       "</style>\n",
       "<table border=\"1\" class=\"dataframe\">\n",
       "  <thead>\n",
       "    <tr style=\"text-align: right;\">\n",
       "      <th></th>\n",
       "      <th>symbol</th>\n",
       "      <th>open</th>\n",
       "      <th>close</th>\n",
       "      <th>low</th>\n",
       "      <th>high</th>\n",
       "      <th>volume</th>\n",
       "    </tr>\n",
       "    <tr>\n",
       "      <th>date</th>\n",
       "      <th></th>\n",
       "      <th></th>\n",
       "      <th></th>\n",
       "      <th></th>\n",
       "      <th></th>\n",
       "      <th></th>\n",
       "    </tr>\n",
       "  </thead>\n",
       "  <tbody>\n",
       "    <tr>\n",
       "      <th>2010-01-18</th>\n",
       "      <td>NaN</td>\n",
       "      <td>NaN</td>\n",
       "      <td>NaN</td>\n",
       "      <td>NaN</td>\n",
       "      <td>NaN</td>\n",
       "      <td>NaN</td>\n",
       "    </tr>\n",
       "    <tr>\n",
       "      <th>2010-02-15</th>\n",
       "      <td>NaN</td>\n",
       "      <td>NaN</td>\n",
       "      <td>NaN</td>\n",
       "      <td>NaN</td>\n",
       "      <td>NaN</td>\n",
       "      <td>NaN</td>\n",
       "    </tr>\n",
       "    <tr>\n",
       "      <th>2010-04-02</th>\n",
       "      <td>NaN</td>\n",
       "      <td>NaN</td>\n",
       "      <td>NaN</td>\n",
       "      <td>NaN</td>\n",
       "      <td>NaN</td>\n",
       "      <td>NaN</td>\n",
       "    </tr>\n",
       "    <tr>\n",
       "      <th>2010-05-31</th>\n",
       "      <td>NaN</td>\n",
       "      <td>NaN</td>\n",
       "      <td>NaN</td>\n",
       "      <td>NaN</td>\n",
       "      <td>NaN</td>\n",
       "      <td>NaN</td>\n",
       "    </tr>\n",
       "    <tr>\n",
       "      <th>2010-07-05</th>\n",
       "      <td>NaN</td>\n",
       "      <td>NaN</td>\n",
       "      <td>NaN</td>\n",
       "      <td>NaN</td>\n",
       "      <td>NaN</td>\n",
       "      <td>NaN</td>\n",
       "    </tr>\n",
       "  </tbody>\n",
       "</table>\n",
       "</div>"
      ],
      "text/plain": [
       "           symbol  open  close  low  high  volume\n",
       "date                                             \n",
       "2010-01-18    NaN   NaN    NaN  NaN   NaN     NaN\n",
       "2010-02-15    NaN   NaN    NaN  NaN   NaN     NaN\n",
       "2010-04-02    NaN   NaN    NaN  NaN   NaN     NaN\n",
       "2010-05-31    NaN   NaN    NaN  NaN   NaN     NaN\n",
       "2010-07-05    NaN   NaN    NaN  NaN   NaN     NaN"
      ]
     },
     "execution_count": 23,
     "metadata": {},
     "output_type": "execute_result"
    }
   ],
   "source": [
    "null_data.head()"
   ]
  },
  {
   "cell_type": "code",
   "execution_count": 24,
   "metadata": {},
   "outputs": [],
   "source": [
    "null_dates = null_data.index.tolist()"
   ]
  },
  {
   "cell_type": "code",
   "execution_count": 25,
   "metadata": {},
   "outputs": [
    {
     "name": "stdout",
     "output_type": "stream",
     "text": [
      "[Timestamp('2012-10-29 00:00:00'), Timestamp('2012-10-30 00:00:00')]\n"
     ]
    }
   ],
   "source": [
    "import calendar\n",
    "import datetime\n",
    "\n",
    "holidays = []\n",
    "\n",
    "for date in null_dates:\n",
    "    week, day, month, year = date.weekday(), date.day, date.month, date.year\n",
    "    week_day = calendar.day_name[week]\n",
    "\n",
    "    if month==1:\n",
    "        if day==1:\n",
    "            # New year day\n",
    "            holidays.append(date)\n",
    "        elif day==2 and week_day=='Monday':\n",
    "            # Observed New Year Day\n",
    "            holidays.append(date)\n",
    "        elif day>=15 and day<=21 and week_day=='Monday':\n",
    "            # Martin Luther King, Jr. Day\n",
    "            holidays.append(date)\n",
    "\n",
    "    elif month==2:\n",
    "        # Washington's Birthday\n",
    "        if day>=15 and day<=21 and week_day=='Monday':\n",
    "            holidays.append(date)\n",
    "\n",
    "    elif month==5:\n",
    "        # Memorial day\n",
    "        if day>=25 and day<=31 and week_day=='Monday':\n",
    "            holidays.append(date)\n",
    "\n",
    "    elif month==7:\n",
    "        # Independence day\n",
    "        if day==4:\n",
    "            holidays.append(date)\n",
    "        # Observed Independence  Day\n",
    "        elif day==5 and week_day=='Monday':\n",
    "            holidays.append(date)\n",
    "        elif day==3 and week_day=='Friday':\n",
    "            holidays.append(date)\n",
    "\n",
    "    elif month == 9:\n",
    "        # Labour day\n",
    "        if day>=1 and day<=7 and week_day=='Monday':\n",
    "            holidays.append(date)\n",
    "\n",
    "    elif month==11:\n",
    "        # Thanksgiving Day\n",
    "        if week_day=='Thursday' and day>=22 and day<=28:\n",
    "            holidays.append(date)\n",
    "\n",
    "    elif month==12:\n",
    "        # Christmas Day\n",
    "        if day==25:\n",
    "            holidays.append(date)\n",
    "        # Observed Christmas Day\n",
    "        elif day==24 and week_day=='Friday':\n",
    "            holidays.append(date)\n",
    "        elif day==26 and week_day=='Monday':\n",
    "            holidays.append(date)\n",
    "\n",
    "good_fridays = [ datetime.date(2010,4,2), datetime.date(2011,4,22), datetime.date(2012,4,6), datetime.date(2013,3,29), datetime.date(2014,4,18), datetime.date(2015,4,3), datetime.date(2016,3,25) ]\n",
    "holidays = holidays + [pd.to_datetime(date) for date in good_fridays]\n",
    "\n",
    "non_holidays = [x for x in null_dates if x not in holidays]\n",
    "print(non_holidays)"
   ]
  },
  {
   "cell_type": "code",
   "execution_count": 26,
   "metadata": {},
   "outputs": [
    {
     "name": "stdout",
     "output_type": "stream",
     "text": [
      "(1825, 6)\n"
     ]
    }
   ],
   "source": [
    "print(yahoo_data.shape)"
   ]
  },
  {
   "cell_type": "code",
   "execution_count": 27,
   "metadata": {},
   "outputs": [],
   "source": [
    "modified_df = yahoo_data.drop(holidays)"
   ]
  },
  {
   "cell_type": "code",
   "execution_count": 28,
   "metadata": {},
   "outputs": [
    {
     "name": "stdout",
     "output_type": "stream",
     "text": [
      "(1764, 6)\n"
     ]
    }
   ],
   "source": [
    "print(modified_df.shape)"
   ]
  },
  {
   "cell_type": "code",
   "execution_count": 29,
   "metadata": {},
   "outputs": [
    {
     "name": "stdout",
     "output_type": "stream",
     "text": [
      "Before filling missing values:\n",
      " symbol    2\n",
      "open      2\n",
      "close     2\n",
      "low       2\n",
      "high      2\n",
      "volume    2\n",
      "dtype: int64\n"
     ]
    }
   ],
   "source": [
    "print(\"Before filling missing values:\\n\", modified_df.isna().sum())"
   ]
  },
  {
   "cell_type": "code",
   "execution_count": 30,
   "metadata": {},
   "outputs": [],
   "source": [
    "modified_df = modified_df.bfill(axis='rows')"
   ]
  },
  {
   "cell_type": "code",
   "execution_count": 31,
   "metadata": {},
   "outputs": [
    {
     "name": "stdout",
     "output_type": "stream",
     "text": [
      "\n",
      "After filling missing values:\n",
      " symbol    0\n",
      "open      0\n",
      "close     0\n",
      "low       0\n",
      "high      0\n",
      "volume    0\n",
      "dtype: int64\n"
     ]
    }
   ],
   "source": [
    "print(\"\\nAfter filling missing values:\\n\",modified_df.isna().sum())"
   ]
  },
  {
   "cell_type": "code",
   "execution_count": 32,
   "metadata": {},
   "outputs": [
    {
     "data": {
      "image/png": "[encoded data removed]",
      "text/plain": [
       "<Figure size 432x288 with 1 Axes>"
      ]
     },
     "metadata": {
      "needs_background": "light"
     },
     "output_type": "display_data"
    }
   ],
   "source": [
    "def plotter(code):\n",
    "    global closing_stock\n",
    "    plt.subplot(211)\n",
    "    company_close = modified_df[modified_df['symbol']==code]\n",
    "    company_close = company_close.close.values.astype('float32')\n",
    "    company_close = company_close.reshape(-1, 1)\n",
    "    closing_stock = company_close\n",
    "    plt.xlabel('Time')\n",
    "    plt.ylabel(code + \" close stock prices\")\n",
    "    plt.title('prices Vs Time')\n",
    "    plt.grid(True)\n",
    "    plt.plot(company_close , 'b')\n",
    "    plt.show()\n",
    "\n",
    "plotter(\"YHOO\")"
   ]
  },
  {
   "cell_type": "code",
   "execution_count": 33,
   "metadata": {},
   "outputs": [
    {
     "name": "stdout",
     "output_type": "stream",
     "text": [
      "Train samples: 1411 Validation Samples: 176 Test Samples: 177\n"
     ]
    }
   ],
   "source": [
    "n_train = int(len(closing_stock) * 0.80)\n",
    "n_remaining = len(closing_stock) - n_train\n",
    "\n",
    "n_val = int(n_remaining * 0.50)\n",
    "n_test = n_remaining - n_val\n",
    "print(\"Train samples:\", n_train, \"Validation Samples:\",n_val, \"Test Samples:\", n_test)"
   ]
  },
  {
   "cell_type": "code",
   "execution_count": 34,
   "metadata": {},
   "outputs": [
    {
     "name": "stdout",
     "output_type": "stream",
     "text": [
      "(1411, 1)\n"
     ]
    }
   ],
   "source": [
    "train_data = closing_stock[0:n_train]\n",
    "print(train_data.shape)"
   ]
  },
  {
   "cell_type": "code",
   "execution_count": 35,
   "metadata": {},
   "outputs": [],
   "source": [
    "val_data = closing_stock[n_train: n_train + n_val]"
   ]
  },
  {
   "cell_type": "code",
   "execution_count": 36,
   "metadata": {},
   "outputs": [],
   "source": [
    "test_data = closing_stock[n_train + n_val:]"
   ]
  },
  {
   "cell_type": "code",
   "execution_count": 37,
   "metadata": {},
   "outputs": [
    {
     "name": "stdout",
     "output_type": "stream",
     "text": [
      "(177, 1)\n"
     ]
    }
   ],
   "source": [
    "print(test_data.shape)"
   ]
  },
  {
   "cell_type": "code",
   "execution_count": 38,
   "metadata": {},
   "outputs": [],
   "source": [
    "from sklearn.preprocessing import MinMaxScaler\n",
    "scaler = MinMaxScaler(feature_range=(0,1))"
   ]
  },
  {
   "cell_type": "code",
   "execution_count": 39,
   "metadata": {},
   "outputs": [],
   "source": [
    "train = scaler.fit_transform(train_data)"
   ]
  },
  {
   "cell_type": "code",
   "execution_count": 40,
   "metadata": {},
   "outputs": [],
   "source": [
    "val = scaler.transform(val_data)"
   ]
  },
  {
   "cell_type": "code",
   "execution_count": 41,
   "metadata": {},
   "outputs": [],
   "source": [
    "test = scaler.transform(test_data)"
   ]
  },
  {
   "cell_type": "code",
   "execution_count": 42,
   "metadata": {},
   "outputs": [],
   "source": [
    "def create_dataset(data , n_features):\n",
    "    dataX, dataY = [], []\n",
    "    for i in range(len(data)-n_features-1):\n",
    "        a = data[i:(i+n_features), 0]\n",
    "        dataX.append(a)\n",
    "        dataY.append(data[i + n_features, 0])\n",
    "    return np.array(dataX), np.array(dataY)"
   ]
  },
  {
   "cell_type": "code",
   "execution_count": 43,
   "metadata": {},
   "outputs": [],
   "source": [
    "n_features = 2"
   ]
  },
  {
   "cell_type": "code",
   "execution_count": 44,
   "metadata": {},
   "outputs": [],
   "source": [
    "trainX, trainY = create_dataset(train, n_features)\n",
    "valX, valY = create_dataset(val, n_features)\n",
    "testX, testY = create_dataset(test, n_features)"
   ]
  },
  {
   "cell_type": "code",
   "execution_count": 45,
   "metadata": {},
   "outputs": [
    {
     "name": "stdout",
     "output_type": "stream",
     "text": [
      "(1408, 2) (1408,) (173, 2) (173,) (174, 2) (174,)\n"
     ]
    }
   ],
   "source": [
    "print(trainX.shape, trainY.shape, valX.shape, valY.shape, testX.shape, testY.shape)"
   ]
  },
  {
   "cell_type": "code",
   "execution_count": 46,
   "metadata": {},
   "outputs": [],
   "source": [
    "trainX = trainX.reshape(trainX.shape[0], 1, trainX.shape[1])\n",
    "valX = valX.reshape(valX.shape[0], 1, valX.shape[1])\n",
    "testX = testX.reshape(testX.shape[0], 1, testX.shape[1])"
   ]
  },
  {
   "cell_type": "code",
   "execution_count": 47,
   "metadata": {},
   "outputs": [
    {
     "name": "stdout",
     "output_type": "stream",
     "text": [
      "(1408, 1, 2) (1408,) (173, 1, 2) (173,) (174, 1, 2) (174,)\n"
     ]
    }
   ],
   "source": [
    "print(trainX.shape, trainY.shape, valX.shape, valY.shape, testX.shape, testY.shape)"
   ]
  },
  {
   "cell_type": "code",
   "execution_count": 48,
   "metadata": {},
   "outputs": [],
   "source": [
    "import tensorflow as tf\n",
    "tf.random.set_seed(42)\n",
    "\n",
    "from tensorflow import keras\n",
    "from tensorflow.keras import layers\n",
    "from tensorflow.keras.optimizers import Adam"
   ]
  },
  {
   "cell_type": "code",
   "execution_count": 49,
   "metadata": {},
   "outputs": [],
   "source": [
    "model = keras.models.Sequential()"
   ]
  },
  {
   "cell_type": "code",
   "execution_count": 50,
   "metadata": {},
   "outputs": [],
   "source": [
    "#First GRU layer\n",
    "model.add(layers.GRU(units=100, return_sequences=True, input_shape=(1,n_features),activation='tanh'))\n",
    "model.add(layers.Dropout(0.2))\n",
    "\n",
    "#Second GRU layer\n",
    "model.add(layers.GRU(units=150, return_sequences=True, input_shape=(1, n_features), activation='tanh'))\n",
    "model.add(layers.Dropout(0.2))\n",
    "\n",
    "#Third GRU layer\n",
    "model.add(layers.GRU(units=100, activation='tanh'))\n",
    "model.add(layers.Dropout(0.2))\n",
    "\n",
    "#The output layer\n",
    "model.add(layers.Dense(units=1, kernel_initializer='he_uniform', activation='linear'))"
   ]
  },
  {
   "cell_type": "code",
   "execution_count": 51,
   "metadata": {},
   "outputs": [
    {
     "name": "stderr",
     "output_type": "stream",
     "text": [
      "/usr/local/anaconda/envs/tensorflow2/lib/python3.6/site-packages/keras/optimizer_v2/optimizer_v2.py:356: UserWarning: The `lr` argument is deprecated, use `learning_rate` instead.\n",
      "  \"The `lr` argument is deprecated, use `learning_rate` instead.\")\n"
     ]
    }
   ],
   "source": [
    "model.compile(loss='mean_squared_error', optimizer=Adam(lr = 0.0005), metrics = ['mean_squared_error'])"
   ]
  },
  {
   "cell_type": "code",
   "execution_count": 52,
   "metadata": {},
   "outputs": [
    {
     "name": "stdout",
     "output_type": "stream",
     "text": [
      "Model: \"sequential\"\n",
      "_________________________________________________________________\n",
      "Layer (type)                 Output Shape              Param #   \n",
      "=================================================================\n",
      "gru (GRU)                    (None, 1, 100)            31200     \n",
      "_________________________________________________________________\n",
      "dropout (Dropout)            (None, 1, 100)            0         \n",
      "_________________________________________________________________\n",
      "gru_1 (GRU)                  (None, 1, 150)            113400    \n",
      "_________________________________________________________________\n",
      "dropout_1 (Dropout)          (None, 1, 150)            0         \n",
      "_________________________________________________________________\n",
      "gru_2 (GRU)                  (None, 100)               75600     \n",
      "_________________________________________________________________\n",
      "dropout_2 (Dropout)          (None, 100)               0         \n",
      "_________________________________________________________________\n",
      "dense (Dense)                (None, 1)                 101       \n",
      "=================================================================\n",
      "Total params: 220,301\n",
      "Trainable params: 220,301\n",
      "Non-trainable params: 0\n",
      "_________________________________________________________________\n",
      "None\n"
     ]
    }
   ],
   "source": [
    "print(model.summary())"
   ]
  },
  {
   "cell_type": "code",
   "execution_count": 53,
   "metadata": {},
   "outputs": [
    {
     "name": "stdout",
     "output_type": "stream",
     "text": [
      "Epoch 1/100\n",
      "11/11 [==============================] - 5s 131ms/step - loss: 0.1341 - mean_squared_error: 0.1341 - val_loss: 0.0953 - val_mean_squared_error: 0.0953\n",
      "Epoch 2/100\n",
      "11/11 [==============================] - 0s 10ms/step - loss: 0.0387 - mean_squared_error: 0.0387 - val_loss: 0.0014 - val_mean_squared_error: 0.0014\n",
      "Epoch 3/100\n",
      "11/11 [==============================] - 0s 9ms/step - loss: 0.0264 - mean_squared_error: 0.0264 - val_loss: 7.2537e-04 - val_mean_squared_error: 7.2537e-04\n",
      "Epoch 4/100\n",
      "11/11 [==============================] - 0s 10ms/step - loss: 0.0131 - mean_squared_error: 0.0131 - val_loss: 0.0044 - val_mean_squared_error: 0.0044\n",
      "Epoch 5/100\n",
      "11/11 [==============================] - 0s 9ms/step - loss: 0.0053 - mean_squared_error: 0.0053 - val_loss: 4.9766e-04 - val_mean_squared_error: 4.9766e-04\n",
      "Epoch 6/100\n",
      "11/11 [==============================] - 0s 10ms/step - loss: 0.0024 - mean_squared_error: 0.0024 - val_loss: 9.8298e-04 - val_mean_squared_error: 9.8298e-04\n",
      "Epoch 7/100\n",
      "11/11 [==============================] - 0s 9ms/step - loss: 0.0022 - mean_squared_error: 0.0022 - val_loss: 4.0266e-04 - val_mean_squared_error: 4.0266e-04\n",
      "Epoch 8/100\n",
      "11/11 [==============================] - 0s 9ms/step - loss: 0.0023 - mean_squared_error: 0.0023 - val_loss: 8.5219e-04 - val_mean_squared_error: 8.5219e-04\n",
      "Epoch 9/100\n",
      "11/11 [==============================] - 0s 12ms/step - loss: 0.0021 - mean_squared_error: 0.0021 - val_loss: 3.8591e-04 - val_mean_squared_error: 3.8591e-04\n",
      "Epoch 10/100\n",
      "11/11 [==============================] - 0s 11ms/step - loss: 0.0022 - mean_squared_error: 0.0022 - val_loss: 4.6885e-04 - val_mean_squared_error: 4.6885e-04\n",
      "Epoch 11/100\n",
      "11/11 [==============================] - 0s 9ms/step - loss: 0.0023 - mean_squared_error: 0.0023 - val_loss: 4.6394e-04 - val_mean_squared_error: 4.6394e-04\n",
      "Epoch 12/100\n",
      "11/11 [==============================] - 0s 11ms/step - loss: 0.0019 - mean_squared_error: 0.0019 - val_loss: 4.3671e-04 - val_mean_squared_error: 4.3671e-04\n",
      "Epoch 13/100\n",
      "11/11 [==============================] - 0s 11ms/step - loss: 0.0021 - mean_squared_error: 0.0021 - val_loss: 5.3431e-04 - val_mean_squared_error: 5.3431e-04\n",
      "Epoch 14/100\n",
      "11/11 [==============================] - 0s 10ms/step - loss: 0.0020 - mean_squared_error: 0.0020 - val_loss: 4.6426e-04 - val_mean_squared_error: 4.6426e-04\n",
      "Epoch 15/100\n",
      "11/11 [==============================] - 0s 10ms/step - loss: 0.0018 - mean_squared_error: 0.0018 - val_loss: 4.0850e-04 - val_mean_squared_error: 4.0850e-04\n",
      "Epoch 16/100\n",
      "11/11 [==============================] - 0s 10ms/step - loss: 0.0020 - mean_squared_error: 0.0020 - val_loss: 4.9908e-04 - val_mean_squared_error: 4.9908e-04\n",
      "Epoch 17/100\n",
      "11/11 [==============================] - 0s 10ms/step - loss: 0.0021 - mean_squared_error: 0.0021 - val_loss: 4.2390e-04 - val_mean_squared_error: 4.2390e-04\n",
      "Epoch 18/100\n",
      "11/11 [==============================] - 0s 11ms/step - loss: 0.0019 - mean_squared_error: 0.0019 - val_loss: 3.8848e-04 - val_mean_squared_error: 3.8848e-04\n",
      "Epoch 19/100\n",
      "11/11 [==============================] - 0s 10ms/step - loss: 0.0019 - mean_squared_error: 0.0019 - val_loss: 5.5109e-04 - val_mean_squared_error: 5.5109e-04\n",
      "Epoch 20/100\n",
      "11/11 [==============================] - 0s 11ms/step - loss: 0.0019 - mean_squared_error: 0.0019 - val_loss: 3.8139e-04 - val_mean_squared_error: 3.8139e-04\n",
      "Epoch 21/100\n",
      "11/11 [==============================] - 0s 11ms/step - loss: 0.0018 - mean_squared_error: 0.0018 - val_loss: 5.8009e-04 - val_mean_squared_error: 5.8009e-04\n",
      "Epoch 22/100\n",
      "11/11 [==============================] - 0s 11ms/step - loss: 0.0017 - mean_squared_error: 0.0017 - val_loss: 4.2259e-04 - val_mean_squared_error: 4.2259e-04\n",
      "Epoch 23/100\n",
      "11/11 [==============================] - 0s 12ms/step - loss: 0.0018 - mean_squared_error: 0.0018 - val_loss: 3.7098e-04 - val_mean_squared_error: 3.7098e-04\n",
      "Epoch 24/100\n",
      "11/11 [==============================] - 0s 11ms/step - loss: 0.0018 - mean_squared_error: 0.0018 - val_loss: 4.6196e-04 - val_mean_squared_error: 4.6196e-04\n",
      "Epoch 25/100\n",
      "11/11 [==============================] - 0s 12ms/step - loss: 0.0018 - mean_squared_error: 0.0018 - val_loss: 3.7055e-04 - val_mean_squared_error: 3.7055e-04\n",
      "Epoch 26/100\n",
      "11/11 [==============================] - 0s 11ms/step - loss: 0.0016 - mean_squared_error: 0.0016 - val_loss: 3.7625e-04 - val_mean_squared_error: 3.7625e-04\n",
      "Epoch 27/100\n",
      "11/11 [==============================] - 0s 11ms/step - loss: 0.0016 - mean_squared_error: 0.0016 - val_loss: 3.8844e-04 - val_mean_squared_error: 3.8844e-04\n",
      "Epoch 28/100\n",
      "11/11 [==============================] - 0s 11ms/step - loss: 0.0016 - mean_squared_error: 0.0016 - val_loss: 4.7066e-04 - val_mean_squared_error: 4.7066e-04\n",
      "Epoch 29/100\n",
      "11/11 [==============================] - 0s 11ms/step - loss: 0.0017 - mean_squared_error: 0.0017 - val_loss: 3.9793e-04 - val_mean_squared_error: 3.9793e-04\n",
      "Epoch 30/100\n",
      "11/11 [==============================] - 0s 11ms/step - loss: 0.0016 - mean_squared_error: 0.0016 - val_loss: 3.6802e-04 - val_mean_squared_error: 3.6802e-04\n",
      "Epoch 31/100\n",
      "11/11 [==============================] - 0s 11ms/step - loss: 0.0016 - mean_squared_error: 0.0016 - val_loss: 3.7650e-04 - val_mean_squared_error: 3.7650e-04\n",
      "Epoch 32/100\n",
      "11/11 [==============================] - 0s 9ms/step - loss: 0.0014 - mean_squared_error: 0.0014 - val_loss: 3.6759e-04 - val_mean_squared_error: 3.6759e-04\n",
      "Epoch 33/100\n",
      "11/11 [==============================] - 0s 10ms/step - loss: 0.0014 - mean_squared_error: 0.0014 - val_loss: 3.6370e-04 - val_mean_squared_error: 3.6370e-04\n",
      "Epoch 34/100\n",
      "11/11 [==============================] - 0s 10ms/step - loss: 0.0014 - mean_squared_error: 0.0014 - val_loss: 3.9104e-04 - val_mean_squared_error: 3.9104e-04\n",
      "Epoch 35/100\n",
      "11/11 [==============================] - 0s 10ms/step - loss: 0.0014 - mean_squared_error: 0.0014 - val_loss: 3.7623e-04 - val_mean_squared_error: 3.7623e-04\n",
      "Epoch 36/100\n",
      "11/11 [==============================] - 0s 9ms/step - loss: 0.0016 - mean_squared_error: 0.0016 - val_loss: 4.6603e-04 - val_mean_squared_error: 4.6603e-04\n",
      "Epoch 37/100\n",
      "11/11 [==============================] - 0s 10ms/step - loss: 0.0015 - mean_squared_error: 0.0015 - val_loss: 3.9354e-04 - val_mean_squared_error: 3.9354e-04\n",
      "Epoch 38/100\n",
      "11/11 [==============================] - 0s 10ms/step - loss: 0.0015 - mean_squared_error: 0.0015 - val_loss: 3.7294e-04 - val_mean_squared_error: 3.7294e-04\n",
      "Epoch 39/100\n",
      "11/11 [==============================] - 0s 11ms/step - loss: 0.0015 - mean_squared_error: 0.0015 - val_loss: 4.1085e-04 - val_mean_squared_error: 4.1085e-04\n",
      "Epoch 40/100\n",
      "11/11 [==============================] - 0s 11ms/step - loss: 0.0014 - mean_squared_error: 0.0014 - val_loss: 4.3209e-04 - val_mean_squared_error: 4.3209e-04\n",
      "Epoch 41/100\n",
      "11/11 [==============================] - 0s 10ms/step - loss: 0.0014 - mean_squared_error: 0.0014 - val_loss: 3.6417e-04 - val_mean_squared_error: 3.6417e-04\n",
      "Epoch 42/100\n",
      "11/11 [==============================] - 0s 10ms/step - loss: 0.0012 - mean_squared_error: 0.0012 - val_loss: 3.5994e-04 - val_mean_squared_error: 3.5994e-04\n",
      "Epoch 43/100\n",
      "11/11 [==============================] - 0s 10ms/step - loss: 0.0012 - mean_squared_error: 0.0012 - val_loss: 3.6112e-04 - val_mean_squared_error: 3.6112e-04\n",
      "Epoch 44/100\n",
      "11/11 [==============================] - 0s 12ms/step - loss: 0.0013 - mean_squared_error: 0.0013 - val_loss: 3.5964e-04 - val_mean_squared_error: 3.5964e-04\n",
      "Epoch 45/100\n",
      "11/11 [==============================] - 0s 11ms/step - loss: 0.0014 - mean_squared_error: 0.0014 - val_loss: 4.1834e-04 - val_mean_squared_error: 4.1834e-04\n",
      "Epoch 46/100\n",
      "11/11 [==============================] - 0s 11ms/step - loss: 0.0014 - mean_squared_error: 0.0014 - val_loss: 4.7071e-04 - val_mean_squared_error: 4.7071e-04\n",
      "Epoch 47/100\n",
      "11/11 [==============================] - 0s 12ms/step - loss: 0.0013 - mean_squared_error: 0.0013 - val_loss: 5.6612e-04 - val_mean_squared_error: 5.6612e-04\n",
      "Epoch 48/100\n",
      "11/11 [==============================] - 0s 11ms/step - loss: 0.0012 - mean_squared_error: 0.0012 - val_loss: 3.6326e-04 - val_mean_squared_error: 3.6326e-04\n",
      "Epoch 49/100\n"
     ]
    },
    {
     "name": "stdout",
     "output_type": "stream",
     "text": [
      "11/11 [==============================] - 0s 10ms/step - loss: 0.0013 - mean_squared_error: 0.0013 - val_loss: 4.0267e-04 - val_mean_squared_error: 4.0267e-04\n",
      "Epoch 50/100\n",
      "11/11 [==============================] - 0s 10ms/step - loss: 0.0012 - mean_squared_error: 0.0012 - val_loss: 3.5982e-04 - val_mean_squared_error: 3.5982e-04\n",
      "Epoch 51/100\n",
      "11/11 [==============================] - 0s 12ms/step - loss: 0.0012 - mean_squared_error: 0.0012 - val_loss: 3.5439e-04 - val_mean_squared_error: 3.5439e-04\n",
      "Epoch 52/100\n",
      "11/11 [==============================] - 0s 11ms/step - loss: 0.0013 - mean_squared_error: 0.0013 - val_loss: 3.6088e-04 - val_mean_squared_error: 3.6088e-04\n",
      "Epoch 53/100\n",
      "11/11 [==============================] - 0s 11ms/step - loss: 0.0014 - mean_squared_error: 0.0014 - val_loss: 5.8256e-04 - val_mean_squared_error: 5.8256e-04\n",
      "Epoch 54/100\n",
      "11/11 [==============================] - 0s 11ms/step - loss: 0.0016 - mean_squared_error: 0.0016 - val_loss: 3.6432e-04 - val_mean_squared_error: 3.6432e-04\n",
      "Epoch 55/100\n",
      "11/11 [==============================] - 0s 10ms/step - loss: 0.0015 - mean_squared_error: 0.0015 - val_loss: 5.3029e-04 - val_mean_squared_error: 5.3029e-04\n",
      "Epoch 56/100\n",
      "11/11 [==============================] - 0s 11ms/step - loss: 0.0012 - mean_squared_error: 0.0012 - val_loss: 3.8656e-04 - val_mean_squared_error: 3.8656e-04\n",
      "Epoch 57/100\n",
      "11/11 [==============================] - 0s 11ms/step - loss: 0.0011 - mean_squared_error: 0.0011 - val_loss: 4.0744e-04 - val_mean_squared_error: 4.0744e-04\n",
      "Epoch 58/100\n",
      "11/11 [==============================] - 0s 11ms/step - loss: 0.0013 - mean_squared_error: 0.0013 - val_loss: 4.5164e-04 - val_mean_squared_error: 4.5164e-04\n",
      "Epoch 59/100\n",
      "11/11 [==============================] - 0s 11ms/step - loss: 0.0012 - mean_squared_error: 0.0012 - val_loss: 3.6310e-04 - val_mean_squared_error: 3.6310e-04\n",
      "Epoch 60/100\n",
      "11/11 [==============================] - 0s 13ms/step - loss: 0.0012 - mean_squared_error: 0.0012 - val_loss: 3.5902e-04 - val_mean_squared_error: 3.5902e-04\n",
      "Epoch 61/100\n",
      "11/11 [==============================] - 0s 13ms/step - loss: 0.0013 - mean_squared_error: 0.0013 - val_loss: 3.5133e-04 - val_mean_squared_error: 3.5133e-04\n",
      "Epoch 62/100\n",
      "11/11 [==============================] - 0s 11ms/step - loss: 0.0012 - mean_squared_error: 0.0012 - val_loss: 3.5886e-04 - val_mean_squared_error: 3.5886e-04\n",
      "Epoch 63/100\n",
      "11/11 [==============================] - 0s 11ms/step - loss: 0.0012 - mean_squared_error: 0.0012 - val_loss: 3.7251e-04 - val_mean_squared_error: 3.7251e-04\n",
      "Epoch 64/100\n",
      "11/11 [==============================] - 0s 10ms/step - loss: 0.0012 - mean_squared_error: 0.0012 - val_loss: 4.8973e-04 - val_mean_squared_error: 4.8973e-04\n",
      "Epoch 65/100\n",
      "11/11 [==============================] - 0s 10ms/step - loss: 0.0013 - mean_squared_error: 0.0013 - val_loss: 3.6217e-04 - val_mean_squared_error: 3.6217e-04\n",
      "Epoch 66/100\n",
      "11/11 [==============================] - 0s 10ms/step - loss: 0.0010 - mean_squared_error: 0.0010 - val_loss: 3.5894e-04 - val_mean_squared_error: 3.5894e-04\n",
      "Epoch 67/100\n",
      "11/11 [==============================] - 0s 9ms/step - loss: 0.0012 - mean_squared_error: 0.0012 - val_loss: 3.6144e-04 - val_mean_squared_error: 3.6144e-04\n",
      "Epoch 68/100\n",
      "11/11 [==============================] - 0s 10ms/step - loss: 0.0011 - mean_squared_error: 0.0011 - val_loss: 3.8490e-04 - val_mean_squared_error: 3.8490e-04\n",
      "Epoch 69/100\n",
      "11/11 [==============================] - 0s 10ms/step - loss: 0.0013 - mean_squared_error: 0.0013 - val_loss: 3.6022e-04 - val_mean_squared_error: 3.6022e-04\n",
      "Epoch 70/100\n",
      "11/11 [==============================] - 0s 10ms/step - loss: 0.0013 - mean_squared_error: 0.0013 - val_loss: 3.9732e-04 - val_mean_squared_error: 3.9732e-04\n",
      "Epoch 71/100\n",
      "11/11 [==============================] - 0s 9ms/step - loss: 0.0011 - mean_squared_error: 0.0011 - val_loss: 3.8349e-04 - val_mean_squared_error: 3.8349e-04\n",
      "Epoch 72/100\n",
      "11/11 [==============================] - 0s 11ms/step - loss: 0.0011 - mean_squared_error: 0.0011 - val_loss: 3.4845e-04 - val_mean_squared_error: 3.4845e-04\n",
      "Epoch 73/100\n",
      "11/11 [==============================] - 0s 10ms/step - loss: 0.0011 - mean_squared_error: 0.0011 - val_loss: 3.6607e-04 - val_mean_squared_error: 3.6607e-04\n",
      "Epoch 74/100\n",
      "11/11 [==============================] - 0s 10ms/step - loss: 0.0012 - mean_squared_error: 0.0012 - val_loss: 3.6169e-04 - val_mean_squared_error: 3.6169e-04\n",
      "Epoch 75/100\n",
      "11/11 [==============================] - 0s 9ms/step - loss: 0.0010 - mean_squared_error: 0.0010 - val_loss: 3.4940e-04 - val_mean_squared_error: 3.4940e-04\n",
      "Epoch 76/100\n",
      "11/11 [==============================] - 0s 9ms/step - loss: 0.0011 - mean_squared_error: 0.0011 - val_loss: 3.5615e-04 - val_mean_squared_error: 3.5615e-04\n",
      "Epoch 77/100\n",
      "11/11 [==============================] - 0s 10ms/step - loss: 0.0011 - mean_squared_error: 0.0011 - val_loss: 3.5293e-04 - val_mean_squared_error: 3.5293e-04\n",
      "Epoch 78/100\n",
      "11/11 [==============================] - 0s 10ms/step - loss: 0.0012 - mean_squared_error: 0.0012 - val_loss: 4.5418e-04 - val_mean_squared_error: 4.5418e-04\n",
      "Epoch 79/100\n",
      "11/11 [==============================] - 0s 10ms/step - loss: 0.0011 - mean_squared_error: 0.0011 - val_loss: 3.5034e-04 - val_mean_squared_error: 3.5034e-04\n",
      "Epoch 80/100\n",
      "11/11 [==============================] - 0s 9ms/step - loss: 0.0011 - mean_squared_error: 0.0011 - val_loss: 3.7197e-04 - val_mean_squared_error: 3.7197e-04\n",
      "Epoch 81/100\n",
      "11/11 [==============================] - 0s 10ms/step - loss: 0.0011 - mean_squared_error: 0.0011 - val_loss: 3.6093e-04 - val_mean_squared_error: 3.6093e-04\n",
      "Epoch 82/100\n",
      "11/11 [==============================] - 0s 10ms/step - loss: 0.0011 - mean_squared_error: 0.0011 - val_loss: 3.8108e-04 - val_mean_squared_error: 3.8108e-04\n",
      "Epoch 83/100\n",
      "11/11 [==============================] - 0s 9ms/step - loss: 0.0011 - mean_squared_error: 0.0011 - val_loss: 3.6038e-04 - val_mean_squared_error: 3.6038e-04\n",
      "Epoch 84/100\n",
      "11/11 [==============================] - 0s 9ms/step - loss: 0.0011 - mean_squared_error: 0.0011 - val_loss: 5.0640e-04 - val_mean_squared_error: 5.0640e-04\n",
      "Epoch 85/100\n",
      "11/11 [==============================] - 0s 9ms/step - loss: 0.0011 - mean_squared_error: 0.0011 - val_loss: 4.3119e-04 - val_mean_squared_error: 4.3119e-04\n",
      "Epoch 86/100\n",
      "11/11 [==============================] - 0s 9ms/step - loss: 0.0011 - mean_squared_error: 0.0011 - val_loss: 3.4369e-04 - val_mean_squared_error: 3.4369e-04\n",
      "Epoch 87/100\n",
      "11/11 [==============================] - 0s 11ms/step - loss: 0.0011 - mean_squared_error: 0.0011 - val_loss: 3.6957e-04 - val_mean_squared_error: 3.6957e-04\n",
      "Epoch 88/100\n",
      "11/11 [==============================] - 0s 10ms/step - loss: 0.0012 - mean_squared_error: 0.0012 - val_loss: 3.4824e-04 - val_mean_squared_error: 3.4824e-04\n",
      "Epoch 89/100\n",
      "11/11 [==============================] - 0s 10ms/step - loss: 0.0011 - mean_squared_error: 0.0011 - val_loss: 3.7838e-04 - val_mean_squared_error: 3.7838e-04\n",
      "Epoch 90/100\n",
      "11/11 [==============================] - 0s 10ms/step - loss: 0.0011 - mean_squared_error: 0.0011 - val_loss: 5.0198e-04 - val_mean_squared_error: 5.0198e-04\n",
      "Epoch 91/100\n",
      "11/11 [==============================] - 0s 10ms/step - loss: 0.0011 - mean_squared_error: 0.0011 - val_loss: 3.7261e-04 - val_mean_squared_error: 3.7261e-04\n",
      "Epoch 92/100\n",
      "11/11 [==============================] - 0s 9ms/step - loss: 0.0011 - mean_squared_error: 0.0011 - val_loss: 3.7743e-04 - val_mean_squared_error: 3.7743e-04\n",
      "Epoch 93/100\n",
      "11/11 [==============================] - 0s 10ms/step - loss: 0.0012 - mean_squared_error: 0.0012 - val_loss: 3.6303e-04 - val_mean_squared_error: 3.6303e-04\n",
      "Epoch 94/100\n",
      "11/11 [==============================] - 0s 10ms/step - loss: 0.0011 - mean_squared_error: 0.0011 - val_loss: 3.6875e-04 - val_mean_squared_error: 3.6875e-04\n",
      "Epoch 95/100\n",
      "11/11 [==============================] - 0s 11ms/step - loss: 0.0011 - mean_squared_error: 0.0011 - val_loss: 3.7240e-04 - val_mean_squared_error: 3.7240e-04\n",
      "Epoch 96/100\n",
      "11/11 [==============================] - 0s 10ms/step - loss: 0.0010 - mean_squared_error: 0.0010 - val_loss: 3.8231e-04 - val_mean_squared_error: 3.8231e-04\n",
      "Epoch 97/100\n"
     ]
    },
    {
     "name": "stdout",
     "output_type": "stream",
     "text": [
      "11/11 [==============================] - 0s 9ms/step - loss: 0.0011 - mean_squared_error: 0.0011 - val_loss: 3.6808e-04 - val_mean_squared_error: 3.6808e-04\n",
      "Epoch 98/100\n",
      "11/11 [==============================] - 0s 9ms/step - loss: 9.6624e-04 - mean_squared_error: 9.6624e-04 - val_loss: 3.8209e-04 - val_mean_squared_error: 3.8209e-04\n",
      "Epoch 99/100\n",
      "11/11 [==============================] - 0s 9ms/step - loss: 0.0010 - mean_squared_error: 0.0010 - val_loss: 3.8474e-04 - val_mean_squared_error: 3.8474e-04\n",
      "Epoch 100/100\n",
      "11/11 [==============================] - 0s 10ms/step - loss: 0.0011 - mean_squared_error: 0.0011 - val_loss: 3.6550e-04 - val_mean_squared_error: 3.6550e-04\n"
     ]
    }
   ],
   "source": [
    "history = model.fit(trainX, trainY, epochs=100, batch_size=128, verbose=1, validation_data=(valX,valY))"
   ]
  },
  {
   "cell_type": "code",
   "execution_count": 57,
   "metadata": {},
   "outputs": [
    {
     "name": "stdout",
     "output_type": "stream",
     "text": [
      "Train Score:\n",
      "MSE:  0.00018 , RMSE: 0.01\n",
      "Validation Score:\n",
      "MSE: 0.00037, RMSE: 0.02\n",
      "Test Score:\n",
      "MSE: 0.00023, RMSE: 0.02\n"
     ]
    }
   ],
   "source": [
    "import math\n",
    "\n",
    "def model_score(model, X_train, y_train, X_val, y_val, X_test, y_test):\n",
    "    print('Train Score:')\n",
    "    train_score = model.evaluate(X_train, y_train, verbose=0)\n",
    "    print(\"MSE: {: .5f} , RMSE: {:.2f}\".format(train_score[0], math.sqrt(train_score[0])) )\n",
    "    \n",
    "    print(\"Validation Score:\")\n",
    "    val_score = model.evaluate(X_val, y_val, verbose=0)\n",
    "    print(\"MSE: {:.5f}, RMSE: {:.2f}\".format(val_score[0], math.sqrt(val_score[0])))\n",
    "    \n",
    "    print('Test Score:')\n",
    "    test_score = model.evaluate(X_test, y_test, verbose=0)\n",
    "    print(\"MSE: {:.5f}, RMSE: {:.2f}\".format (test_score[0], math.sqrt(test_score[0])))\n",
    "    \n",
    "model_score(model, trainX, trainY, valX, valY, testX, testY)"
   ]
  },
  {
   "cell_type": "code",
   "execution_count": 60,
   "metadata": {},
   "outputs": [
    {
     "name": "stdout",
     "output_type": "stream",
     "text": [
      "dict_keys(['loss', 'mean_squared_error', 'val_loss', 'val_mean_squared_error'])\n"
     ]
    }
   ],
   "source": [
    "print(history.history.keys())"
   ]
  },
  {
   "cell_type": "code",
   "execution_count": 61,
   "metadata": {},
   "outputs": [
    {
     "data": {
      "image/png": "[encoded data removed]",
      "text/plain": [
       "<Figure size 432x288 with 1 Axes>"
      ]
     },
     "metadata": {
      "needs_background": "light"
     },
     "output_type": "display_data"
    }
   ],
   "source": [
    "plt.plot(history.history['loss'])\n",
    "plt.plot(history.history['val_loss'])\n",
    "\n",
    "plt.title('model loss')\n",
    "plt.ylabel('loss')\n",
    "plt.xlabel('epoch')\n",
    "plt.legend(['train', 'val'], loc='upper left')\n",
    "plt.show()"
   ]
  },
  {
   "cell_type": "code",
   "execution_count": 62,
   "metadata": {},
   "outputs": [],
   "source": [
    "pred = model.predict(testX)"
   ]
  },
  {
   "cell_type": "code",
   "execution_count": 65,
   "metadata": {},
   "outputs": [
    {
     "name": "stdout",
     "output_type": "stream",
     "text": [
      "[[37.652534]\n",
      " [37.42834 ]\n",
      " [37.271576]\n",
      " [37.128403]\n",
      " [36.84003 ]\n",
      " [36.735134]\n",
      " [36.691746]\n",
      " [36.32445 ]\n",
      " [36.156303]\n",
      " [36.77799 ]]\n"
     ]
    }
   ],
   "source": [
    "pred = scaler.inverse_transform(pred)\n",
    "print(pred[:10])"
   ]
  },
  {
   "cell_type": "code",
   "execution_count": 66,
   "metadata": {},
   "outputs": [
    {
     "name": "stdout",
     "output_type": "stream",
     "text": [
      "[[37.23]\n",
      " [37.11]\n",
      " [36.95]\n",
      " [36.59]\n",
      " [36.6 ]\n",
      " [36.53]\n",
      " [36.01]\n",
      " [36.  ]\n",
      " [36.94]\n",
      " [37.23]]\n"
     ]
    }
   ],
   "source": [
    "testY_actual = testY.reshape(testY.shape[0], 1)\n",
    "testY_actual = scaler.inverse_transform(testY_actual)\n",
    "print(testY_actual[:10])"
   ]
  },
  {
   "cell_type": "code",
   "execution_count": null,
   "metadata": {},
   "outputs": [],
   "source": [
    "plt.plot(testY_actual, 'b')\n",
    "plt.plot(pred, 'r')\n",
    "\n",
    "plt.xlabel('Time')\n",
    "plt.ylabel('Stock Prices')"
   ]
  }
 ],
 "metadata": {
  "kernelspec": {
   "display_name": "tensorflow2",
   "language": "python",
   "name": "tensorflow2"
  },
  "language_info": {
   "codemirror_mode": {
    "name": "ipython",
    "version": 3
   },
   "file_extension": ".py",
   "mimetype": "text/x-python",
   "name": "python",
   "nbconvert_exporter": "python",
   "pygments_lexer": "ipython3",
   "version": "3.6.8"
  },
  "toc": {
   "base_numbering": 1,
   "nav_menu": {},
   "number_sections": true,
   "sideBar": true,
   "skip_h1_title": false,
   "title_cell": "Table of Contents",
   "title_sidebar": "Contents",
   "toc_cell": false,
   "toc_position": {},
   "toc_section_display": true,
   "toc_window_display": false
  }
 },
 "nbformat": 4,
 "nbformat_minor": 2
}
