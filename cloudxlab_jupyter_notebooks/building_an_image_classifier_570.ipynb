{
 "cells": [
  {
   "cell_type": "code",
   "execution_count": 1,
   "metadata": {},
   "outputs": [],
   "source": [
    "import tensorflow as tf\n",
    "from tensorflow import keras\n",
    "fashion_mnist = keras.datasets.fashion_mnist\n",
    "(X_train_full, y_train_full), (X_test, y_test) = fashion_mnist.load_data()"
   ]
  },
  {
   "cell_type": "code",
   "execution_count": 2,
   "metadata": {},
   "outputs": [],
   "source": [
    "X_valid, X_train = X_train_full[0:5000]/255.0, X_train_full[5000:]/255.0\n",
    "y_valid, y_train = y_train_full[0:5000], y_train_full[5000:]"
   ]
  },
  {
   "cell_type": "code",
   "execution_count": 3,
   "metadata": {},
   "outputs": [],
   "source": [
    " class_names = [\"T-shirt/top\", \"Trouser\", \"Pullover\",\"Dress\", \"Coat\",\"Sandal\", \"Shirt\", \"Sneaker\", \"Bag\", \"Ankle boot\"] "
   ]
  },
  {
   "cell_type": "code",
   "execution_count": 4,
   "metadata": {},
   "outputs": [],
   "source": [
    "model = keras.models.Sequential()\n",
    "model.add(keras.layers.Flatten(input_shape=[28,28]))\n",
    "model.add(keras.layers.Dense(300, activation=\"relu\"))\n",
    "model.add(keras.layers.Dense(100, activation=\"relu\"))\n",
    "model.add(keras.layers.Dense(10, activation=\"softmax\"))"
   ]
  },
  {
   "cell_type": "code",
   "execution_count": 5,
   "metadata": {},
   "outputs": [],
   "source": [
    "model.compile(loss=\"sparse_categorical_crossentropy\", optimizer=\"sgd\", metrics=[\"accuracy\"])"
   ]
  },
  {
   "cell_type": "code",
   "execution_count": 6,
   "metadata": {},
   "outputs": [
    {
     "name": "stdout",
     "output_type": "stream",
     "text": [
      "Epoch 1/30\n",
      "1719/1719 [==============================] - 6s 3ms/step - loss: 0.7292 - accuracy: 0.7635 - val_loss: 0.4946 - val_accuracy: 0.8338\n",
      "Epoch 2/30\n",
      "1719/1719 [==============================] - 7s 4ms/step - loss: 0.4878 - accuracy: 0.8280 - val_loss: 0.4483 - val_accuracy: 0.8434\n",
      "Epoch 3/30\n",
      "1719/1719 [==============================] - 6s 3ms/step - loss: 0.4437 - accuracy: 0.8445 - val_loss: 0.5067 - val_accuracy: 0.8178\n",
      "Epoch 4/30\n",
      "1719/1719 [==============================] - 5s 3ms/step - loss: 0.4169 - accuracy: 0.8526 - val_loss: 0.3919 - val_accuracy: 0.8654\n",
      "Epoch 5/30\n",
      "1719/1719 [==============================] - 5s 3ms/step - loss: 0.3961 - accuracy: 0.8619 - val_loss: 0.3967 - val_accuracy: 0.8612\n",
      "Epoch 6/30\n",
      "1719/1719 [==============================] - 5s 3ms/step - loss: 0.3799 - accuracy: 0.8650 - val_loss: 0.3751 - val_accuracy: 0.8662\n",
      "Epoch 7/30\n",
      "1719/1719 [==============================] - 5s 3ms/step - loss: 0.3664 - accuracy: 0.8696 - val_loss: 0.3656 - val_accuracy: 0.8690\n",
      "Epoch 8/30\n",
      "1719/1719 [==============================] - 5s 3ms/step - loss: 0.3551 - accuracy: 0.8744 - val_loss: 0.3497 - val_accuracy: 0.8746\n",
      "Epoch 9/30\n",
      "1719/1719 [==============================] - 5s 3ms/step - loss: 0.3448 - accuracy: 0.8762 - val_loss: 0.3494 - val_accuracy: 0.8780\n",
      "Epoch 10/30\n",
      "1719/1719 [==============================] - 5s 3ms/step - loss: 0.3349 - accuracy: 0.8802 - val_loss: 0.3635 - val_accuracy: 0.8696\n",
      "Epoch 11/30\n",
      "1719/1719 [==============================] - 5s 3ms/step - loss: 0.3256 - accuracy: 0.8841 - val_loss: 0.3425 - val_accuracy: 0.8750\n",
      "Epoch 12/30\n",
      "1719/1719 [==============================] - 5s 3ms/step - loss: 0.3193 - accuracy: 0.8854 - val_loss: 0.3320 - val_accuracy: 0.8846\n",
      "Epoch 13/30\n",
      "1719/1719 [==============================] - 5s 3ms/step - loss: 0.3111 - accuracy: 0.8884 - val_loss: 0.3325 - val_accuracy: 0.8820\n",
      "Epoch 14/30\n",
      "1719/1719 [==============================] - 5s 3ms/step - loss: 0.3043 - accuracy: 0.8897 - val_loss: 0.3298 - val_accuracy: 0.8820\n",
      "Epoch 15/30\n",
      "1719/1719 [==============================] - 5s 3ms/step - loss: 0.2973 - accuracy: 0.8927 - val_loss: 0.3227 - val_accuracy: 0.8854\n",
      "Epoch 16/30\n",
      "1719/1719 [==============================] - 5s 3ms/step - loss: 0.2916 - accuracy: 0.8952 - val_loss: 0.3194 - val_accuracy: 0.8826\n",
      "Epoch 17/30\n",
      "1719/1719 [==============================] - 5s 3ms/step - loss: 0.2850 - accuracy: 0.8965 - val_loss: 0.3268 - val_accuracy: 0.8822\n",
      "Epoch 18/30\n",
      "1719/1719 [==============================] - 5s 3ms/step - loss: 0.2791 - accuracy: 0.8991 - val_loss: 0.3091 - val_accuracy: 0.8882\n",
      "Epoch 19/30\n",
      "1719/1719 [==============================] - 5s 3ms/step - loss: 0.2740 - accuracy: 0.9013 - val_loss: 0.3103 - val_accuracy: 0.8880\n",
      "Epoch 20/30\n",
      "1719/1719 [==============================] - 5s 3ms/step - loss: 0.2683 - accuracy: 0.9029 - val_loss: 0.3274 - val_accuracy: 0.8822\n",
      "Epoch 21/30\n",
      "1719/1719 [==============================] - 5s 3ms/step - loss: 0.2644 - accuracy: 0.9045 - val_loss: 0.3135 - val_accuracy: 0.8868\n",
      "Epoch 22/30\n",
      "1719/1719 [==============================] - 5s 3ms/step - loss: 0.2589 - accuracy: 0.9066 - val_loss: 0.3019 - val_accuracy: 0.8906\n",
      "Epoch 23/30\n",
      "1719/1719 [==============================] - 5s 3ms/step - loss: 0.2541 - accuracy: 0.9077 - val_loss: 0.3027 - val_accuracy: 0.8912\n",
      "Epoch 24/30\n",
      "1719/1719 [==============================] - 5s 3ms/step - loss: 0.2506 - accuracy: 0.9091 - val_loss: 0.2974 - val_accuracy: 0.8932\n",
      "Epoch 25/30\n",
      "1719/1719 [==============================] - 5s 3ms/step - loss: 0.2451 - accuracy: 0.9116 - val_loss: 0.3147 - val_accuracy: 0.8874\n",
      "Epoch 26/30\n",
      "1719/1719 [==============================] - 6s 3ms/step - loss: 0.2414 - accuracy: 0.9132 - val_loss: 0.2962 - val_accuracy: 0.8928\n",
      "Epoch 27/30\n",
      "1719/1719 [==============================] - 5s 3ms/step - loss: 0.2365 - accuracy: 0.9143 - val_loss: 0.3026 - val_accuracy: 0.8904\n",
      "Epoch 28/30\n",
      "1719/1719 [==============================] - 5s 3ms/step - loss: 0.2323 - accuracy: 0.9164 - val_loss: 0.3099 - val_accuracy: 0.8892\n",
      "Epoch 29/30\n",
      "1719/1719 [==============================] - 6s 3ms/step - loss: 0.2281 - accuracy: 0.9182 - val_loss: 0.3381 - val_accuracy: 0.8826\n",
      "Epoch 30/30\n",
      "1719/1719 [==============================] - 5s 3ms/step - loss: 0.2250 - accuracy: 0.9195 - val_loss: 0.3008 - val_accuracy: 0.8936\n"
     ]
    },
    {
     "data": {
      "text/plain": [
       "<keras.callbacks.History at 0x7f526c0b8f28>"
      ]
     },
     "execution_count": 6,
     "metadata": {},
     "output_type": "execute_result"
    }
   ],
   "source": [
    "model.fit(X_train, y_train, epochs=30, validation_data=(X_valid, y_valid))"
   ]
  },
  {
   "cell_type": "code",
   "execution_count": 7,
   "metadata": {},
   "outputs": [
    {
     "name": "stdout",
     "output_type": "stream",
     "text": [
      "313/313 [==============================] - 1s 3ms/step - loss: 67.2104 - accuracy: 0.8499\n"
     ]
    },
    {
     "data": {
      "text/plain": [
       "[67.2104263305664, 0.8499000072479248]"
      ]
     },
     "execution_count": 7,
     "metadata": {},
     "output_type": "execute_result"
    }
   ],
   "source": [
    "model.evaluate(X_test, y_test)"
   ]
  },
  {
   "cell_type": "code",
   "execution_count": 178,
   "metadata": {},
   "outputs": [],
   "source": [
    "import numpy as np"
   ]
  },
  {
   "cell_type": "code",
   "execution_count": 179,
   "metadata": {},
   "outputs": [
    {
     "data": {
      "text/plain": [
       "'2.6.0'"
      ]
     },
     "execution_count": 179,
     "metadata": {},
     "output_type": "execute_result"
    }
   ],
   "source": [
    "tf.__version__"
   ]
  },
  {
   "cell_type": "code",
   "execution_count": 180,
   "metadata": {},
   "outputs": [
    {
     "name": "stdout",
     "output_type": "stream",
     "text": [
      "keras version 2.6.0\n"
     ]
    }
   ],
   "source": [
    "from tensorflow import keras\n",
    "print(\"keras version\", keras.__version__)"
   ]
  },
  {
   "cell_type": "code",
   "execution_count": 181,
   "metadata": {},
   "outputs": [],
   "source": [
    "import matplotlib.pyplot as plt"
   ]
  },
  {
   "cell_type": "code",
   "execution_count": 182,
   "metadata": {},
   "outputs": [],
   "source": [
    "np.random.seed(42)\n",
    "tf.random.set_seed(42)"
   ]
  },
  {
   "cell_type": "code",
   "execution_count": 183,
   "metadata": {},
   "outputs": [],
   "source": [
    "fashion_mnist = keras.datasets.fashion_mnist"
   ]
  },
  {
   "cell_type": "code",
   "execution_count": 184,
   "metadata": {},
   "outputs": [],
   "source": [
    "(X_train_full, y_train_full), (X_test, y_test) = fashion_mnist.load_data()"
   ]
  },
  {
   "cell_type": "code",
   "execution_count": 185,
   "metadata": {},
   "outputs": [
    {
     "data": {
      "text/plain": [
       "(60000, 28, 28)"
      ]
     },
     "execution_count": 185,
     "metadata": {},
     "output_type": "execute_result"
    }
   ],
   "source": [
    "X_train_full.shape"
   ]
  },
  {
   "cell_type": "code",
   "execution_count": 186,
   "metadata": {},
   "outputs": [],
   "source": [
    "X_valid = X_train_full[0:5000]/255"
   ]
  },
  {
   "cell_type": "code",
   "execution_count": 187,
   "metadata": {},
   "outputs": [],
   "source": [
    "y_valid = y_train_full[:5000]/255"
   ]
  },
  {
   "cell_type": "code",
   "execution_count": 188,
   "metadata": {},
   "outputs": [],
   "source": [
    "X_train = X_train_full[5000:]/255"
   ]
  },
  {
   "cell_type": "code",
   "execution_count": 189,
   "metadata": {},
   "outputs": [],
   "source": [
    "y_train = y_train_full[5000:]/255"
   ]
  },
  {
   "cell_type": "code",
   "execution_count": 190,
   "metadata": {},
   "outputs": [
    {
     "name": "stdout",
     "output_type": "stream",
     "text": [
      "Train data shape: (55000, 28, 28)\n",
      "Validation data shape: (5000, 28, 28)\n",
      "Test data shape: (10000, 28, 28)\n"
     ]
    }
   ],
   "source": [
    "print(\"Train data shape:\",X_train.shape)\n",
    "print(\"Validation data shape:\",X_valid.shape)\n",
    "print(\"Test data shape:\", X_test.shape)"
   ]
  },
  {
   "cell_type": "code",
   "execution_count": 191,
   "metadata": {},
   "outputs": [],
   "source": [
    "X_test = X_test/255"
   ]
  },
  {
   "cell_type": "code",
   "execution_count": 192,
   "metadata": {},
   "outputs": [],
   "source": [
    "class_names = [\"T-shirt/top\", \"Trouser\", \"Pullover\", \"Dress\", \"Coat\",\"Sandal\", \"Shirt\", \"Sneaker\", \"Bag\", \"Ankle boot\"]"
   ]
  },
  {
   "cell_type": "code",
   "execution_count": 193,
   "metadata": {},
   "outputs": [
    {
     "name": "stdout",
     "output_type": "stream",
     "text": [
      "Class label is: 0.01568627450980392\n",
      "Class name is: T-shirt/top\n"
     ]
    },
    {
     "data": {
      "image/png": "[encoded data removed]",
      "text/plain": [
       "<Figure size 432x288 with 1 Axes>"
      ]
     },
     "metadata": {
      "needs_background": "light"
     },
     "output_type": "display_data"
    }
   ],
   "source": [
    "print(\"Class label is:\", y_train[0])\n",
    "print(\"Class name is:\", class_names[y_train[0].astype(np.int64)])\n",
    "plt.imshow(X_train[0], cmap=\"binary\")\n",
    "plt.axis('off')\n",
    "plt.show()"
   ]
  },
  {
   "cell_type": "code",
   "execution_count": 194,
   "metadata": {},
   "outputs": [
    {
     "data": {
      "image/png": "[encoded data removed]",
      "text/plain": [
       "<Figure size 1080x432 with 40 Axes>"
      ]
     },
     "metadata": {
      "needs_background": "light"
     },
     "output_type": "display_data"
    }
   ],
   "source": [
    "n_rows = 4\n",
    "n_cols = 10\n",
    "plt.figure(figsize=(15, 6))\n",
    "for row in range(n_rows):\n",
    "    for col in range(n_cols):\n",
    "        index = n_cols * row + col\n",
    "        plt.subplot(n_rows, n_cols, index + 1)\n",
    "        plt.imshow(X_train[index],cmap=\"binary\")\n",
    "        plt.axis('off')\n",
    "        plt.title(class_names[y_train[index].astype(np.int64)], fontsize=12)\n",
    "plt.subplots_adjust(wspace=0.2, hspace=0.5)\n",
    "plt.show()"
   ]
  },
  {
   "cell_type": "code",
   "execution_count": 195,
   "metadata": {},
   "outputs": [],
   "source": [
    "keras.backend.clear_session()"
   ]
  },
  {
   "cell_type": "code",
   "execution_count": 196,
   "metadata": {},
   "outputs": [],
   "source": [
    "model = keras.models.Sequential([\n",
    "    keras.layers.Flatten(input_shape=[28, 28]),\n",
    "    keras.layers.Dense(300, activation=\"relu\"),\n",
    "    keras.layers.Dense(100, activation=\"relu\"),\n",
    "    keras.layers.Dense(10, activation=\"softmax\")\n",
    "])"
   ]
  },
  {
   "cell_type": "code",
   "execution_count": 197,
   "metadata": {},
   "outputs": [
    {
     "data": {
      "text/plain": [
       "[<keras.layers.core.Flatten at 0x7f52c99e46d8>,\n",
       " <keras.layers.core.Dense at 0x7f52c99e47f0>,\n",
       " <keras.layers.core.Dense at 0x7f52d43a7a58>,\n",
       " <keras.layers.core.Dense at 0x7f52d439ea20>]"
      ]
     },
     "execution_count": 197,
     "metadata": {},
     "output_type": "execute_result"
    }
   ],
   "source": [
    "model.layers"
   ]
  },
  {
   "cell_type": "code",
   "execution_count": 198,
   "metadata": {},
   "outputs": [
    {
     "name": "stdout",
     "output_type": "stream",
     "text": [
      "Model: \"sequential\"\n",
      "_________________________________________________________________\n",
      "Layer (type)                 Output Shape              Param #   \n",
      "=================================================================\n",
      "flatten (Flatten)            (None, 784)               0         \n",
      "_________________________________________________________________\n",
      "dense (Dense)                (None, 300)               235500    \n",
      "_________________________________________________________________\n",
      "dense_1 (Dense)              (None, 100)               30100     \n",
      "_________________________________________________________________\n",
      "dense_2 (Dense)              (None, 10)                1010      \n",
      "=================================================================\n",
      "Total params: 266,610\n",
      "Trainable params: 266,610\n",
      "Non-trainable params: 0\n",
      "_________________________________________________________________\n"
     ]
    }
   ],
   "source": [
    "model.summary()"
   ]
  },
  {
   "cell_type": "code",
   "execution_count": 199,
   "metadata": {},
   "outputs": [
    {
     "data": {
      "image/png": "[encoded data removed]",
      "text/plain": [
       "<IPython.core.display.Image object>"
      ]
     },
     "execution_count": 199,
     "metadata": {},
     "output_type": "execute_result"
    }
   ],
   "source": [
    "keras.utils.plot_model(model, \"my_fashion_mnist_model.png\", show_shapes=True)"
   ]
  },
  {
   "cell_type": "code",
   "execution_count": 200,
   "metadata": {},
   "outputs": [],
   "source": [
    "sgd = keras.optimizers.SGD(learning_rate=0.01)"
   ]
  },
  {
   "cell_type": "code",
   "execution_count": 201,
   "metadata": {},
   "outputs": [],
   "source": [
    "model.compile(loss=\"sparse_categorical_crossentropy\", optimizer=sgd, metrics=[\"accuracy\"])"
   ]
  },
  {
   "cell_type": "code",
   "execution_count": 202,
   "metadata": {},
   "outputs": [
    {
     "name": "stdout",
     "output_type": "stream",
     "text": [
      "Epoch 1/30\n",
      "1719/1719 [==============================] - 5s 3ms/step - loss: 0.0117 - accuracy: 0.1008 - val_loss: 0.0010 - val_accuracy: 0.0914\n",
      "Epoch 2/30\n",
      "1719/1719 [==============================] - 5s 3ms/step - loss: 7.3909e-04 - accuracy: 0.1008 - val_loss: 4.6916e-04 - val_accuracy: 0.0914\n",
      "Epoch 3/30\n",
      "1719/1719 [==============================] - 5s 3ms/step - loss: 4.0634e-04 - accuracy: 0.1008 - val_loss: 3.0270e-04 - val_accuracy: 0.0914\n",
      "Epoch 4/30\n",
      "1719/1719 [==============================] - 4s 3ms/step - loss: 2.7769e-04 - accuracy: 0.1008 - val_loss: 2.2211e-04 - val_accuracy: 0.0914\n",
      "Epoch 5/30\n",
      "1719/1719 [==============================] - 4s 3ms/step - loss: 2.0974e-04 - accuracy: 0.1008 - val_loss: 1.7489e-04 - val_accuracy: 0.0914\n",
      "Epoch 6/30\n",
      "1719/1719 [==============================] - 5s 3ms/step - loss: 1.6792e-04 - accuracy: 0.1008 - val_loss: 1.4392e-04 - val_accuracy: 0.0914\n",
      "Epoch 7/30\n",
      "1719/1719 [==============================] - 5s 3ms/step - loss: 1.3966e-04 - accuracy: 0.1008 - val_loss: 1.2209e-04 - val_accuracy: 0.0914\n",
      "Epoch 8/30\n",
      "1719/1719 [==============================] - 5s 3ms/step - loss: 1.1933e-04 - accuracy: 0.1008 - val_loss: 1.0594e-04 - val_accuracy: 0.0914\n",
      "Epoch 9/30\n",
      "1719/1719 [==============================] - 5s 3ms/step - loss: 1.0402e-04 - accuracy: 0.1008 - val_loss: 9.3451e-05 - val_accuracy: 0.0914\n",
      "Epoch 10/30\n",
      "1719/1719 [==============================] - 5s 3ms/step - loss: 9.2089e-05 - accuracy: 0.1008 - val_loss: 8.3550e-05 - val_accuracy: 0.0914\n",
      "Epoch 11/30\n",
      "1719/1719 [==============================] - 8s 4ms/step - loss: 8.2547e-05 - accuracy: 0.1008 - val_loss: 7.5501e-05 - val_accuracy: 0.0914\n",
      "Epoch 12/30\n",
      "1719/1719 [==============================] - 6s 4ms/step - loss: 7.4741e-05 - accuracy: 0.1008 - val_loss: 6.8840e-05 - val_accuracy: 0.0914\n",
      "Epoch 13/30\n",
      "1719/1719 [==============================] - 5s 3ms/step - loss: 6.8247e-05 - accuracy: 0.1008 - val_loss: 6.3238e-05 - val_accuracy: 0.0914\n",
      "Epoch 14/30\n",
      "1719/1719 [==============================] - 5s 3ms/step - loss: 6.2761e-05 - accuracy: 0.1008 - val_loss: 5.8457e-05 - val_accuracy: 0.0914\n",
      "Epoch 15/30\n",
      "1719/1719 [==============================] - 5s 3ms/step - loss: 5.8067e-05 - accuracy: 0.1008 - val_loss: 5.4335e-05 - val_accuracy: 0.0914\n",
      "Epoch 16/30\n",
      "1719/1719 [==============================] - 5s 3ms/step - loss: 5.4007e-05 - accuracy: 0.1008 - val_loss: 5.0743e-05 - val_accuracy: 0.0914\n",
      "Epoch 17/30\n",
      "1719/1719 [==============================] - 5s 3ms/step - loss: 5.0461e-05 - accuracy: 0.1008 - val_loss: 4.7588e-05 - val_accuracy: 0.0914\n",
      "Epoch 18/30\n",
      "1719/1719 [==============================] - 5s 3ms/step - loss: 4.7341e-05 - accuracy: 0.1008 - val_loss: 4.4794e-05 - val_accuracy: 0.0914\n",
      "Epoch 19/30\n",
      "1719/1719 [==============================] - 6s 3ms/step - loss: 4.4574e-05 - accuracy: 0.1008 - val_loss: 4.2304e-05 - val_accuracy: 0.0914\n",
      "Epoch 20/30\n",
      "1719/1719 [==============================] - 6s 3ms/step - loss: 4.2103e-05 - accuracy: 0.1008 - val_loss: 4.0070e-05 - val_accuracy: 0.0914\n",
      "Epoch 21/30\n",
      "1719/1719 [==============================] - 6s 3ms/step - loss: 3.9885e-05 - accuracy: 0.1008 - val_loss: 3.8055e-05 - val_accuracy: 0.0914\n",
      "Epoch 22/30\n",
      "1719/1719 [==============================] - 6s 3ms/step - loss: 3.7882e-05 - accuracy: 0.1008 - val_loss: 3.6229e-05 - val_accuracy: 0.0914\n",
      "Epoch 23/30\n",
      "1719/1719 [==============================] - 6s 3ms/step - loss: 3.6066e-05 - accuracy: 0.1008 - val_loss: 3.4566e-05 - val_accuracy: 0.0914\n",
      "Epoch 24/30\n",
      "1719/1719 [==============================] - 5s 3ms/step - loss: 3.4411e-05 - accuracy: 0.1008 - val_loss: 3.3045e-05 - val_accuracy: 0.0914\n",
      "Epoch 25/30\n",
      "1719/1719 [==============================] - 6s 3ms/step - loss: 3.2896e-05 - accuracy: 0.1008 - val_loss: 3.1649e-05 - val_accuracy: 0.0914\n",
      "Epoch 26/30\n",
      "1719/1719 [==============================] - 6s 3ms/step - loss: 3.1506e-05 - accuracy: 0.1008 - val_loss: 3.0364e-05 - val_accuracy: 0.0914\n",
      "Epoch 27/30\n",
      "1719/1719 [==============================] - 5s 3ms/step - loss: 3.0224e-05 - accuracy: 0.1008 - val_loss: 2.9177e-05 - val_accuracy: 0.0914\n",
      "Epoch 28/30\n",
      "1719/1719 [==============================] - 5s 3ms/step - loss: 2.9040e-05 - accuracy: 0.1008 - val_loss: 2.8077e-05 - val_accuracy: 0.0914\n",
      "Epoch 29/30\n",
      "1719/1719 [==============================] - 5s 3ms/step - loss: 2.7943e-05 - accuracy: 0.1008 - val_loss: 2.7056e-05 - val_accuracy: 0.0914\n",
      "Epoch 30/30\n",
      "1719/1719 [==============================] - 5s 3ms/step - loss: 2.6924e-05 - accuracy: 0.1008 - val_loss: 2.6104e-05 - val_accuracy: 0.0914\n"
     ]
    }
   ],
   "source": [
    "history = model.fit(X_train, y_train, epochs=30, validation_data=(X_valid, y_valid))"
   ]
  },
  {
   "cell_type": "code",
   "execution_count": 203,
   "metadata": {},
   "outputs": [
    {
     "data": {
      "text/plain": [
       "{'verbose': 1, 'epochs': 30, 'steps': 1719}"
      ]
     },
     "execution_count": 203,
     "metadata": {},
     "output_type": "execute_result"
    }
   ],
   "source": [
    "history.params"
   ]
  },
  {
   "cell_type": "code",
   "execution_count": 204,
   "metadata": {},
   "outputs": [
    {
     "name": "stdout",
     "output_type": "stream",
     "text": [
      "dense\n"
     ]
    }
   ],
   "source": [
    "hidden1 = model.layers[1]\n",
    "print(hidden1.name)"
   ]
  },
  {
   "cell_type": "code",
   "execution_count": 205,
   "metadata": {},
   "outputs": [
    {
     "name": "stdout",
     "output_type": "stream",
     "text": [
      "(784, 300) [[ 0.02448617 -0.00877795 -0.02189048 ... -0.02766038  0.03859074\n",
      "  -0.0688939 ]\n",
      " [ 0.00476518 -0.03105379 -0.0586676  ...  0.0060304  -0.02763776\n",
      "  -0.04165363]\n",
      " [-0.06189268 -0.06901957  0.07102343 ... -0.04238047  0.07121518\n",
      "  -0.07331639]\n",
      " ...\n",
      " [-0.03048314  0.02157563 -0.05401033 ... -0.00099384  0.00225105\n",
      "   0.05592814]\n",
      " [ 0.07061885 -0.06959603  0.07037686 ... -0.00372812  0.00032505\n",
      "   0.02888224]\n",
      " [-0.0602258   0.01578107 -0.0258562  ... -0.00526755  0.00271854\n",
      "  -0.06792966]]\n",
      "[ 2.32004491e-03  1.76938588e-03 -1.95810266e-04 -5.99713111e-03\n",
      "  1.83662139e-02 -4.31722403e-03  3.38976434e-03 -3.65307089e-03\n",
      " -1.37668103e-04  8.54713842e-03 -6.43927371e-03  1.26313331e-04\n",
      "  8.54681991e-03  3.48359183e-03  1.42787416e-02  8.92734213e-04\n",
      "  3.81359868e-02  8.19909852e-03 -3.07077914e-03  1.75255293e-03\n",
      "  4.12468612e-02  3.38570289e-02 -6.86028413e-03  1.84906814e-02\n",
      "  1.54927615e-02  2.18246486e-02  4.06090367e-05  3.10101267e-03\n",
      "  2.31279549e-03  8.20130017e-03  2.27533225e-02 -3.08257807e-03\n",
      "  2.08795387e-02  1.06167817e-03 -2.50845170e-03  1.71346627e-02\n",
      "  2.12581316e-03 -1.19159161e-03 -1.02080479e-02  1.68197427e-03\n",
      "  6.91801310e-03  1.63745936e-02  1.25131477e-02 -5.16142277e-03\n",
      " -9.66620818e-03 -7.21507100e-03 -1.54908630e-03  1.19852857e-03\n",
      "  1.59425545e-03  6.92487461e-03  1.21818827e-02  1.59445009e-03\n",
      "  1.91644803e-02  1.27681438e-02  8.17421302e-02 -2.74918275e-03\n",
      " -4.20921802e-04 -1.31235074e-03 -6.01469260e-03  6.80997444e-04\n",
      "  5.29417722e-03 -1.08515043e-02  1.11203035e-02 -5.38968807e-03\n",
      " -1.09839533e-03 -3.02580837e-03  1.94898900e-02  9.63443238e-03\n",
      "  8.80828477e-04 -3.42361536e-03  8.15910939e-03 -1.33670156e-03\n",
      "  4.94949939e-03  7.80888274e-03  4.12496887e-02  2.20077089e-03\n",
      "  3.44178677e-02  1.57169737e-02 -7.01017119e-03  2.12061387e-02\n",
      "  3.94583028e-03  7.68443104e-03 -6.03888882e-04  7.81839192e-02\n",
      "  1.25547899e-02 -1.86682714e-03  1.06350100e-03 -7.78247882e-03\n",
      "  6.01290073e-03  2.04341573e-04 -2.86043435e-03  3.09770112e-03\n",
      "  2.34940043e-03  1.52904252e-02  3.30679090e-04 -6.19828468e-03\n",
      "  4.09995839e-02  2.00131629e-02 -6.08065818e-03  1.09343668e-02\n",
      " -1.48530887e-03  1.68249791e-03  6.36403728e-03 -9.07368679e-03\n",
      " -1.96187664e-03  2.00950205e-02 -3.26156063e-04  1.87069643e-02\n",
      "  1.53602948e-02 -3.40452348e-03  3.85361388e-02  6.32043881e-03\n",
      "  1.67080865e-03 -7.01802131e-03  3.61799374e-02 -8.07895884e-03\n",
      "  2.94614467e-03  6.92628964e-04  2.77644172e-02  8.25963262e-03\n",
      " -5.57648158e-03 -2.65115668e-04  2.55663749e-02  4.26661363e-03\n",
      " -8.07362841e-04 -7.40199629e-03  2.76769366e-04  3.81445959e-02\n",
      "  9.48244054e-03  1.05904159e-03 -3.83890350e-03 -4.75635659e-03\n",
      "  1.86345924e-03 -7.46196089e-03  1.71566363e-02  1.32431500e-02\n",
      "  1.07943686e-02  3.58914165e-03 -1.44220493e-03 -7.22338445e-04\n",
      "  6.05114503e-03 -4.25889017e-03 -1.26642054e-02  5.28619178e-02\n",
      " -9.01792780e-04 -3.38778039e-03 -5.04590198e-03  9.69542097e-03\n",
      "  7.22879544e-03  2.59235874e-03 -1.35878809e-02  1.23841665e-03\n",
      "  1.60254948e-02  4.12415117e-02  4.13215756e-02 -4.21355525e-03\n",
      "  5.91112487e-03  7.90520664e-03  3.50758582e-02  6.57263724e-03\n",
      "  6.89986534e-03  9.60871670e-03  1.83902886e-02  3.46247805e-03\n",
      "  3.08750719e-02  7.91987218e-03 -8.72387365e-03  2.07843957e-03\n",
      " -1.33229112e-02 -3.65213677e-03  5.88541999e-02 -7.52232689e-03\n",
      " -3.53383832e-03 -7.78728211e-03 -6.66843913e-03  9.92994476e-03\n",
      " -1.65589508e-02 -1.75697333e-03  1.27317160e-02 -1.52176106e-03\n",
      " -8.21887795e-03 -8.76731891e-03  7.96939479e-04  4.49145027e-03\n",
      "  3.44491750e-02 -1.00725209e-02  4.12296364e-03  1.47832334e-02\n",
      "  4.15568845e-03 -4.93194256e-03  1.43540269e-02  3.72622386e-02\n",
      " -1.11944973e-02 -6.15435839e-03 -1.18383334e-03 -1.79883675e-03\n",
      " -2.51829531e-03  3.47418897e-02  1.55385956e-02 -2.68189679e-03\n",
      "  3.06697842e-03 -5.26067195e-03 -4.14769078e-04 -1.11505194e-02\n",
      "  2.88259960e-03 -3.25932796e-03 -9.97781008e-03 -8.97046085e-03\n",
      "  1.89835497e-03  1.18731204e-02  4.93183173e-03  4.48484235e-02\n",
      "  4.32973988e-02  5.24139963e-03  1.31644271e-02 -6.02191593e-03\n",
      "  1.09420195e-02 -7.86035508e-03 -6.75647799e-03  1.90784652e-02\n",
      "  4.15762980e-03 -4.06175526e-03  2.19314150e-03  3.11023265e-04\n",
      "  2.36299019e-02  1.43375425e-02 -6.91923918e-03  8.48199613e-03\n",
      "  4.04013728e-04  1.31213525e-02 -5.42762130e-03  9.00862366e-03\n",
      " -2.19901814e-03  4.55961935e-02  7.19695236e-04 -2.43842689e-04\n",
      " -7.23608537e-03  6.16686512e-03  2.14272495e-02  1.13646109e-02\n",
      " -1.25543699e-02  7.10609881e-03  6.63479418e-03 -1.12427748e-03\n",
      "  6.30878005e-03  1.97429885e-03 -2.48248759e-03  1.06934356e-02\n",
      "  7.05141574e-03  2.78691221e-02 -1.50275817e-02  1.06943958e-02\n",
      "  5.49113788e-02 -2.44093081e-03 -3.47244949e-03  2.58063804e-02\n",
      "  8.02656729e-03  3.33825946e-02  2.97937468e-02  1.26062392e-03\n",
      " -6.38328912e-03  4.81147058e-02 -1.05589097e-02 -1.22915616e-03\n",
      " -1.12935798e-02  2.55065202e-03  8.87187105e-03  8.29834491e-03\n",
      "  4.12013605e-02  1.49174063e-02  6.85507292e-03  9.45462938e-03\n",
      " -3.37189971e-03 -2.82821781e-03  6.24174625e-03  4.68980446e-02\n",
      " -7.18542258e-04  3.27588618e-02  8.89403373e-03  2.20761597e-02\n",
      " -1.71148987e-03 -4.85701347e-03  5.72928460e-03  5.89483418e-03\n",
      " -7.78959040e-03  1.71865076e-02  1.13858515e-02 -1.19501632e-03\n",
      " -2.90493760e-03  5.34273349e-02  1.32797367e-03 -1.67326955e-03\n",
      " -4.18425584e-03 -1.06996950e-02  3.05132917e-03 -2.40030419e-03\n",
      "  3.42685319e-02  2.19591018e-02 -3.46758240e-03  2.10413989e-02]\n"
     ]
    }
   ],
   "source": [
    "weights, biases = hidden1.get_weights()\n",
    "print(weights.shape, weights)\n",
    "print(biases)"
   ]
  },
  {
   "cell_type": "code",
   "execution_count": 206,
   "metadata": {},
   "outputs": [
    {
     "data": {
      "text/plain": [
       "<function matplotlib.pyplot.show(*args, **kw)>"
      ]
     },
     "execution_count": 206,
     "metadata": {},
     "output_type": "execute_result"
    },
    {
     "data": {
      "image/png": "[encoded data removed]",
      "text/plain": [
       "<Figure size 576x360 with 1 Axes>"
      ]
     },
     "metadata": {
      "needs_background": "light"
     },
     "output_type": "display_data"
    }
   ],
   "source": [
    "import pandas as pd\n",
    "\n",
    "pd.DataFrame(history.history).plot(figsize=(8, 5))\n",
    "plt.grid(True)\n",
    "plt.gca().set_ylim(0, 1)\n",
    "plt.show"
   ]
  },
  {
   "cell_type": "code",
   "execution_count": 210,
   "metadata": {},
   "outputs": [
    {
     "name": "stdout",
     "output_type": "stream",
     "text": [
      "313/313 [==============================] - 1s 2ms/step - loss: 31.1878 - accuracy: 0.1000\n"
     ]
    },
    {
     "data": {
      "text/plain": [
       "[31.187789916992188, 0.10000000149011612]"
      ]
     },
     "execution_count": 210,
     "metadata": {},
     "output_type": "execute_result"
    }
   ],
   "source": [
    "model.evaluate(X_test, y_test)"
   ]
  },
  {
   "cell_type": "code",
   "execution_count": 212,
   "metadata": {},
   "outputs": [
    {
     "name": "stdout",
     "output_type": "stream",
     "text": [
      "[0 0 0]\n",
      "['T-shirt/top', 'T-shirt/top', 'T-shirt/top']\n"
     ]
    }
   ],
   "source": [
    "y_pred = np.argmax(model.predict(X_test[:3]), 1)\n",
    "print(y_pred)\n",
    "print([class_names[index] for index in y_pred])"
   ]
  },
  {
   "cell_type": "code",
   "execution_count": 217,
   "metadata": {},
   "outputs": [
    {
     "data": {
      "image/png": "[encoded data removed]",
      "text/plain": [
       "<Figure size 504x216 with 3 Axes>"
      ]
     },
     "metadata": {
      "needs_background": "light"
     },
     "output_type": "display_data"
    }
   ],
   "source": [
    "plt.figure(figsize=(7, 3))\n",
    "\n",
    "for index, image in enumerate(X_test[:3]):\n",
    "    plt.subplot(1, 3, index+1)\n",
    "    plt.imshow(image, cmap=\"binary\")\n",
    "    plt.axis(\"off\")\n",
    "    plt.title(class_names[y_pred[index]], fontsize=12)\n",
    "plt.subplots_adjust(wspace=0.2, hspace=0.5)\n",
    "\n",
    "plt.show()"
   ]
  },
  {
   "cell_type": "code",
   "execution_count": null,
   "metadata": {},
   "outputs": [],
   "source": []
  }
 ],
 "metadata": {
  "kernelspec": {
   "display_name": "tensorflow2",
   "language": "python",
   "name": "tensorflow2"
  },
  "language_info": {
   "codemirror_mode": {
    "name": "ipython",
    "version": 3
   },
   "file_extension": ".py",
   "mimetype": "text/x-python",
   "name": "python",
   "nbconvert_exporter": "python",
   "pygments_lexer": "ipython3",
   "version": "3.6.8"
  },
  "toc": {
   "base_numbering": 1,
   "nav_menu": {},
   "number_sections": true,
   "sideBar": true,
   "skip_h1_title": false,
   "title_cell": "Table of Contents",
   "title_sidebar": "Contents",
   "toc_cell": false,
   "toc_position": {},
   "toc_section_display": true,
   "toc_window_display": false
  }
 },
 "nbformat": 4,
 "nbformat_minor": 2
}
