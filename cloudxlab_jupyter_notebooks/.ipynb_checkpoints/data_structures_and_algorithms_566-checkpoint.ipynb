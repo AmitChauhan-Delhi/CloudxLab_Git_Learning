{
 "cells": [
  {
   "cell_type": "code",
   "execution_count": 67,
   "metadata": {},
   "outputs": [],
   "source": [
    "def max_profit(prices: list) -> int:\n",
    "    if(1 <= len(prices) <= 105):\n",
    "        min_val: Int = 0\n",
    "        min_val_index = 0\n",
    "        \n",
    "        max_val: Int = 0\n",
    "        max_val_index = 0\n",
    "        \n",
    "        for (idx, price) in enumerate(prices):            \n",
    "            if price < min_val or min_val == 0:\n",
    "                min_val = price\n",
    "                min_val_index = idx\n",
    "            elif price >= max_val > min_val and idx > 0:\n",
    "                max_val = price\n",
    "                max_val_index = idx\n",
    "            elif price >= min_val > max_val:\n",
    "                max_val = price\n",
    "                max_val_index = idx  \n",
    "                   \n",
    "        if(max_val_index > min_val_index):\n",
    "            return max_val-min_val\n",
    "        else:\n",
    "            return 0\n",
    "        \n",
    "    else:\n",
    "        return 0"
   ]
  },
  {
   "cell_type": "code",
   "execution_count": 68,
   "metadata": {},
   "outputs": [
    {
     "data": {
      "text/plain": [
       "5"
      ]
     },
     "execution_count": 68,
     "metadata": {},
     "output_type": "execute_result"
    }
   ],
   "source": [
    "prices = [7,1,5,3,6,4] \n",
    "max_profit(prices)"
   ]
  },
  {
   "cell_type": "code",
   "execution_count": 69,
   "metadata": {},
   "outputs": [
    {
     "data": {
      "text/plain": [
       "0"
      ]
     },
     "execution_count": 69,
     "metadata": {},
     "output_type": "execute_result"
    }
   ],
   "source": [
    "max_profit([7,6,4,3,1])"
   ]
  },
  {
   "cell_type": "code",
   "execution_count": 70,
   "metadata": {},
   "outputs": [
    {
     "data": {
      "text/plain": [
       "7"
      ]
     },
     "execution_count": 70,
     "metadata": {},
     "output_type": "execute_result"
    }
   ],
   "source": [
    "max_profit([-7, -6, -4, 0,-3, 0])"
   ]
  },
  {
   "cell_type": "code",
   "execution_count": 46,
   "metadata": {},
   "outputs": [],
   "source": [
    "def maximum_profit(prices: list) -> int:\n",
    "    profit = 0\n",
    "    if(1 <= len(prices) <= 105):\n",
    "        min_val = 0\n",
    "        min_val_index = 0\n",
    "        least_min_val = 0\n",
    "        least_min_val_index = 0\n",
    "        \n",
    "        max_val = 0\n",
    "        max_val_index = 0\n",
    "        final_max_val = 0\n",
    "        final_max_val_index = 0\n",
    "        \n",
    "        for (idx, price) in enumerate(prices): \n",
    "            if(max_val_index > min_val_index):\n",
    "    \n",
    "                    if profit == 0 or least_min_val > min_val:\n",
    "                        least_min_val = min_val\n",
    "                        least_min_val_index = min_val_index\n",
    "                        final_max_val = max_val\n",
    "                        final_max_val_index = max_val_index\n",
    "                    profit = profit + (max_val - min_val)\n",
    "                    min_val = 0\n",
    "                    max_val = 0\n",
    "                    \n",
    "            if price < min_val or min_val == 0:\n",
    "                min_val = price\n",
    "                min_val_index = idx\n",
    "            elif price >= max_val > min_val and idx > 0:\n",
    "                max_val = price\n",
    "                max_val_index = idx                    \n",
    "            elif price > min_val > max_val:\n",
    "                max_val = price\n",
    "                max_val_index = idx  \n",
    "            \n",
    "            if price > final_max_val:\n",
    "                final_max_val = price\n",
    "                final_max_val_index = idx   \n",
    "        \n",
    "        if final_max_val_index > least_min_val_index and ((final_max_val - least_min_val) > profit):\n",
    "            profit = final_max_val - least_min_val\n",
    "                \n",
    "        return profit\n",
    "    else:\n",
    "        return 0"
   ]
  },
  {
   "cell_type": "code",
   "execution_count": 47,
   "metadata": {},
   "outputs": [
    {
     "data": {
      "text/plain": [
       "7"
      ]
     },
     "execution_count": 47,
     "metadata": {},
     "output_type": "execute_result"
    }
   ],
   "source": [
    "maximum_profit([7,1,5,3,6,4])"
   ]
  },
  {
   "cell_type": "code",
   "execution_count": 48,
   "metadata": {},
   "outputs": [
    {
     "data": {
      "text/plain": [
       "4"
      ]
     },
     "execution_count": 48,
     "metadata": {},
     "output_type": "execute_result"
    }
   ],
   "source": [
    "maximum_profit([1,2,3,4,5])"
   ]
  },
  {
   "cell_type": "code",
   "execution_count": 49,
   "metadata": {},
   "outputs": [
    {
     "data": {
      "text/plain": [
       "0"
      ]
     },
     "execution_count": 49,
     "metadata": {},
     "output_type": "execute_result"
    }
   ],
   "source": [
    "maximum_profit([7,6,4,3,1])"
   ]
  },
  {
   "cell_type": "code",
   "execution_count": 16,
   "metadata": {},
   "outputs": [],
   "source": [
    "def validate_parentheses(P: str) -> bool:\n",
    "    stack = []\n",
    "    bracket_map = {')': '(', '}': '{', ']': '['}\n",
    "    for char in P:\n",
    "        if char in bracket_map:\n",
    "            top_element = stack.pop() if stack else '#'\n",
    "            if bracket_map[char] != top_element:\n",
    "                return False\n",
    "        else:\n",
    "            stack.append(char)\n",
    "    return not stack"
   ]
  },
  {
   "cell_type": "code",
   "execution_count": 17,
   "metadata": {},
   "outputs": [
    {
     "data": {
      "text/plain": [
       "True"
      ]
     },
     "execution_count": 17,
     "metadata": {},
     "output_type": "execute_result"
    }
   ],
   "source": [
    "validate_parentheses(\"()\")"
   ]
  },
  {
   "cell_type": "code",
   "execution_count": 18,
   "metadata": {},
   "outputs": [
    {
     "data": {
      "text/plain": [
       "True"
      ]
     },
     "execution_count": 18,
     "metadata": {},
     "output_type": "execute_result"
    }
   ],
   "source": [
    "validate_parentheses(\"()[]{}\")"
   ]
  },
  {
   "cell_type": "code",
   "execution_count": 19,
   "metadata": {},
   "outputs": [
    {
     "data": {
      "text/plain": [
       "False"
      ]
     },
     "execution_count": 19,
     "metadata": {},
     "output_type": "execute_result"
    }
   ],
   "source": [
    "validate_parentheses(\"(]\")"
   ]
  },
  {
   "cell_type": "code",
   "execution_count": 20,
   "metadata": {},
   "outputs": [
    {
     "data": {
      "text/plain": [
       "False"
      ]
     },
     "execution_count": 20,
     "metadata": {},
     "output_type": "execute_result"
    }
   ],
   "source": [
    "validate_parentheses(\"([)]\")"
   ]
  },
  {
   "cell_type": "code",
   "execution_count": 21,
   "metadata": {},
   "outputs": [
    {
     "data": {
      "text/plain": [
       "True"
      ]
     },
     "execution_count": 21,
     "metadata": {},
     "output_type": "execute_result"
    }
   ],
   "source": [
    "validate_parentheses(\"{[]}\")"
   ]
  },
  {
   "cell_type": "code",
   "execution_count": 22,
   "metadata": {},
   "outputs": [
    {
     "data": {
      "text/plain": [
       "True"
      ]
     },
     "execution_count": 22,
     "metadata": {},
     "output_type": "execute_result"
    }
   ],
   "source": [
    "validate_parentheses(\"{{}}()[()]\")"
   ]
  },
  {
   "cell_type": "code",
   "execution_count": 31,
   "metadata": {},
   "outputs": [],
   "source": [
    "def unique_emails(emails: list) -> int:\n",
    "    unique_emails = set()\n",
    "    \n",
    "    for email in emails:\n",
    "        local, domain = email.split('@')\n",
    "        local = local.split('+')[0] \n",
    "        local = local.replace('.', '')\n",
    "        processed_email = f\"{local}@{domain}\"\n",
    "        unique_emails.add(processed_email)\n",
    "    \n",
    "    return len(unique_emails)"
   ]
  },
  {
   "cell_type": "code",
   "execution_count": 32,
   "metadata": {},
   "outputs": [
    {
     "data": {
      "text/plain": [
       "2"
      ]
     },
     "execution_count": 32,
     "metadata": {},
     "output_type": "execute_result"
    }
   ],
   "source": [
    "unique_emails([\"main.email+check@cloudxlab.com\",\"main.e.mail+bobby.caty@cloudxlab.com\",\"mai.n.e.m.ail+monalisa@cloud.x.lab.com\"])"
   ]
  },
  {
   "cell_type": "code",
   "execution_count": 38,
   "metadata": {},
   "outputs": [],
   "source": [
    "def remove_duplicates(S: str) -> str:\n",
    "    stack = []\n",
    "    \n",
    "    for char in S:\n",
    "        if stack and stack[-1] == char:\n",
    "            stack.pop()  # Remove the duplicate character\n",
    "        else:\n",
    "            stack.append(char)\n",
    "    \n",
    "    return ''.join(stack)"
   ]
  },
  {
   "cell_type": "code",
   "execution_count": 39,
   "metadata": {},
   "outputs": [
    {
     "data": {
      "text/plain": [
       "'ca'"
      ]
     },
     "execution_count": 39,
     "metadata": {},
     "output_type": "execute_result"
    }
   ],
   "source": [
    "remove_duplicates(\"abbaca\")"
   ]
  },
  {
   "cell_type": "code",
   "execution_count": 1,
   "metadata": {},
   "outputs": [],
   "source": [
    "def nextGreaterElement(nums1: list, nums2: list) -> list:\n",
    "    next_greater = {}\n",
    "    stack = []\n",
    "    \n",
    "    # Iterate over nums2\n",
    "    for num in nums2:\n",
    "        while stack and stack[-1] < num:\n",
    "            next_greater[stack.pop()] = num\n",
    "            \n",
    "        stack.append(num)\n",
    "        \n",
    "    while stack:\n",
    "        next_greater[stack.pop()] = -1\n",
    "    \n",
    "    result = [next_greater.get(num, -1) for num in nums1]\n",
    "    \n",
    "    return result"
   ]
  },
  {
   "cell_type": "code",
   "execution_count": 2,
   "metadata": {},
   "outputs": [
    {
     "data": {
      "text/plain": [
       "[-1, 3, -1]"
      ]
     },
     "execution_count": 2,
     "metadata": {},
     "output_type": "execute_result"
    }
   ],
   "source": [
    "nums1 = [4,1,2]\n",
    "nums2 = [1,3,4,2]\n",
    "nextGreaterElement(nums1, nums2)"
   ]
  },
  {
   "cell_type": "code",
   "execution_count": 3,
   "metadata": {},
   "outputs": [
    {
     "data": {
      "text/plain": [
       "[3, -1]"
      ]
     },
     "execution_count": 3,
     "metadata": {},
     "output_type": "execute_result"
    }
   ],
   "source": [
    "nextGreaterElement([2,4], [1,2,3,4])"
   ]
  },
  {
   "cell_type": "code",
   "execution_count": 4,
   "metadata": {},
   "outputs": [
    {
     "data": {
      "text/plain": [
       "[-1]"
      ]
     },
     "execution_count": 4,
     "metadata": {},
     "output_type": "execute_result"
    }
   ],
   "source": [
    "nextGreaterElement([2], [0])"
   ]
  },
  {
   "cell_type": "code",
   "execution_count": 12,
   "metadata": {},
   "outputs": [],
   "source": [
    "from collections import deque\n",
    "\n",
    "class RecentCounter:\n",
    "    def __init__(self):\n",
    "        self.queue = deque()\n",
    "\n",
    "    def ping(self, t: int) -> int:\n",
    "        self.queue.append(t)\n",
    "        \n",
    "        while self.queue and self.queue[0] < t - 3000:\n",
    "            self.queue.popleft()\n",
    "        \n",
    "        return len(self.queue)\n",
    "\n",
    "def recent_counter_main(calls: list) -> list:\n",
    "    output_list = []\n",
    "    rc = RecentCounter()\n",
    "    for call in calls:\n",
    "        output_list.append(rc.ping(call))\n",
    "    return output_list"
   ]
  },
  {
   "cell_type": "code",
   "execution_count": 13,
   "metadata": {},
   "outputs": [
    {
     "data": {
      "text/plain": [
       "[1, 2, 3, 3]"
      ]
     },
     "execution_count": 13,
     "metadata": {},
     "output_type": "execute_result"
    }
   ],
   "source": [
    "recent_counter_main([1, 100, 3001, 3002])"
   ]
  },
  {
   "cell_type": "code",
   "execution_count": 18,
   "metadata": {},
   "outputs": [],
   "source": [
    "class Tree:\n",
    "    def __str__(self):\n",
    "        if self.left or self.right:\n",
    "            return \"[%s, %s, %s]\" % (self.value, self.left, self.right)\n",
    "        else:\n",
    "            return \"%s\" % (self.value)\n",
    "    \n",
    "    def __repr__(self):\n",
    "        return str(self)\n",
    "    \n",
    "    def __init__(self, arr):\n",
    "        self.left = None\n",
    "        self.right = None\n",
    "        if type(arr) is list:\n",
    "            self.value = arr[0]\n",
    "            if arr[1]:\n",
    "                self.left = Tree(arr[1])\n",
    "            if arr[2]:\n",
    "                self.right = Tree(arr[2])\n",
    "        else:\n",
    "            self.value = arr\n",
    "\n",
    "from collections import deque\n",
    "\n",
    "def level_order_traversal(root):\n",
    "    if not root:\n",
    "        return []\n",
    "    \n",
    "    result = []\n",
    "    queue = deque([root])\n",
    "    \n",
    "    while queue:\n",
    "        level_size = len(queue)\n",
    "        current_level = []\n",
    "        \n",
    "        for _ in range(level_size):\n",
    "            node = queue.popleft()\n",
    "            current_level.append(node.value)\n",
    "            \n",
    "            if node.left:\n",
    "                queue.append(node.left)\n",
    "            if node.right:\n",
    "                queue.append(node.right)\n",
    "        \n",
    "        result.append(current_level)\n",
    "    \n",
    "    return result"
   ]
  },
  {
   "cell_type": "code",
   "execution_count": 19,
   "metadata": {},
   "outputs": [
    {
     "name": "stdout",
     "output_type": "stream",
     "text": [
      "[[100], [50, 200], [25, 75, 350]]\n"
     ]
    }
   ],
   "source": [
    "tree = Tree([100, [50, 25, 75], [200, None, 350]])\n",
    "print(level_order_traversal(tree))"
   ]
  },
  {
   "cell_type": "code",
   "execution_count": 73,
   "metadata": {},
   "outputs": [],
   "source": [
    "def is_one_edit_distance(s: str, t: str) -> bool:\n",
    "    len_s, len_t = len(s), len(t)\n",
    "    \n",
    "    if abs(len_s - len_t) > 1:\n",
    "        return False\n",
    "    \n",
    "    def is_one_insertion_away(s: str, t: str) -> bool:\n",
    "        if len(s) + 1 != len(t):\n",
    "            return False\n",
    "        \n",
    "        for i in range(len(t)):\n",
    "            if s == t[:i] + t[i+1:]:\n",
    "                return True\n",
    "        return False\n",
    "\n",
    "    def is_one_replacement_away(s: str, t: str) -> bool:\n",
    "        if len(s) != len(t):\n",
    "            return False\n",
    "        \n",
    "        diff_count = 0\n",
    "        for cs, ct in zip(s, t):\n",
    "            if cs != ct:\n",
    "                diff_count += 1\n",
    "            if diff_count > 1:\n",
    "                return False\n",
    "        return diff_count == 1\n",
    "    \n",
    "    if len_s == len_t:\n",
    "        return is_one_replacement_away(s, t)\n",
    "    elif len_s + 1 == len_t:\n",
    "        return is_one_insertion_away(s, t)\n",
    "    elif len_s == len_t + 1:\n",
    "        return is_one_insertion_away(t, s)\n",
    "    else:\n",
    "        return False"
   ]
  },
  {
   "cell_type": "code",
   "execution_count": 74,
   "metadata": {},
   "outputs": [
    {
     "data": {
      "text/plain": [
       "True"
      ]
     },
     "execution_count": 74,
     "metadata": {},
     "output_type": "execute_result"
    }
   ],
   "source": [
    "s = \"ab\"\n",
    "t = \"acb\"\n",
    "is_one_edit_distance(s, t)"
   ]
  },
  {
   "cell_type": "code",
   "execution_count": 75,
   "metadata": {},
   "outputs": [
    {
     "data": {
      "text/plain": [
       "False"
      ]
     },
     "execution_count": 75,
     "metadata": {},
     "output_type": "execute_result"
    }
   ],
   "source": [
    "s = \"\"\n",
    "t = \"\"\n",
    "is_one_edit_distance(s, t)"
   ]
  },
  {
   "cell_type": "code",
   "execution_count": 76,
   "metadata": {},
   "outputs": [
    {
     "data": {
      "text/plain": [
       "True"
      ]
     },
     "execution_count": 76,
     "metadata": {},
     "output_type": "execute_result"
    }
   ],
   "source": [
    "s = \"a\"\n",
    "t = \"\"\n",
    "is_one_edit_distance(s, t)"
   ]
  },
  {
   "cell_type": "code",
   "execution_count": 77,
   "metadata": {},
   "outputs": [
    {
     "data": {
      "text/plain": [
       "True"
      ]
     },
     "execution_count": 77,
     "metadata": {},
     "output_type": "execute_result"
    }
   ],
   "source": [
    "s = \"\"\n",
    "t = \"A\"\n",
    "is_one_edit_distance(s, t)"
   ]
  },
  {
   "cell_type": "code",
   "execution_count": 87,
   "metadata": {},
   "outputs": [],
   "source": [
    "def minimum_swaps(A: list, B: list) -> int:\n",
    "    n = len(A)\n",
    "    \n",
    "    dp = [[float('inf')] * 2 for _ in range(n)]\n",
    "    \n",
    "    dp[0][0] = 0\n",
    "    dp[0][1] = 1\n",
    "    \n",
    "    for i in range(1, n):\n",
    "        \n",
    "        if A[i-1] < A[i] and B[i-1] < B[i]:\n",
    "            dp[i][0] = min(dp[i][0], dp[i-1][0])\n",
    "        if B[i-1] < A[i] and A[i-1] < B[i]:\n",
    "            dp[i][0] = min(dp[i][0], dp[i-1][1])\n",
    "\n",
    "        if A[i-1] < B[i] and B[i-1] < A[i]:\n",
    "            dp[i][1] = min(dp[i][1], dp[i-1][0] + 1)\n",
    "        if B[i-1] < B[i] and A[i-1] < A[i]:\n",
    "            dp[i][1] = min(dp[i][1], dp[i-1][1] + 1)\n",
    "    \n",
    "    return min(dp[n-1][0], dp[n-1][1])"
   ]
  },
  {
   "cell_type": "code",
   "execution_count": 88,
   "metadata": {},
   "outputs": [
    {
     "data": {
      "text/plain": [
       "1"
      ]
     },
     "execution_count": 88,
     "metadata": {},
     "output_type": "execute_result"
    }
   ],
   "source": [
    "A=[5, 2, 14]\n",
    "B=[1, 6, 12]\n",
    "minimum_swaps(A, B)"
   ]
  },
  {
   "cell_type": "code",
   "execution_count": 89,
   "metadata": {},
   "outputs": [
    {
     "data": {
      "text/plain": [
       "0"
      ]
     },
     "execution_count": 89,
     "metadata": {},
     "output_type": "execute_result"
    }
   ],
   "source": [
    "A=[1, 2, 14]\n",
    "B=[5, 6, 12]\n",
    "minimum_swaps(A, B)"
   ]
  },
  {
   "cell_type": "code",
   "execution_count": 97,
   "metadata": {},
   "outputs": [],
   "source": [
    "def longest_substring(s: str, k: int) -> int:\n",
    "    def count_frequencies(s: str) -> dict:\n",
    "        freq = {}\n",
    "        for char in s:\n",
    "            freq[char] = freq.get(char, 0) + 1\n",
    "        return freq\n",
    "\n",
    "    def divide_and_conquer(s: str, k: int) -> int:\n",
    "        freq = count_frequencies(s)\n",
    "        if len(s) == 0 or k > len(s):\n",
    "            return 0\n",
    "        \n",
    "        for char in freq:\n",
    "            if freq[char] < k:\n",
    "                return max(divide_and_conquer(substring, k) for substring in s.split(char))\n",
    "        \n",
    "        return len(s)\n",
    "    \n",
    "    return divide_and_conquer(s, k)"
   ]
  },
  {
   "cell_type": "code",
   "execution_count": 98,
   "metadata": {},
   "outputs": [
    {
     "data": {
      "text/plain": [
       "3"
      ]
     },
     "execution_count": 98,
     "metadata": {},
     "output_type": "execute_result"
    }
   ],
   "source": [
    "s = \"aaabb\"\n",
    "k = 3\n",
    "longest_substring(s, k)"
   ]
  },
  {
   "cell_type": "code",
   "execution_count": 99,
   "metadata": {},
   "outputs": [
    {
     "data": {
      "text/plain": [
       "5"
      ]
     },
     "execution_count": 99,
     "metadata": {},
     "output_type": "execute_result"
    }
   ],
   "source": [
    "s = \"ababbc\"\n",
    "k = 2\n",
    "longest_substring(s, k)"
   ]
  },
  {
   "cell_type": "code",
   "execution_count": 105,
   "metadata": {},
   "outputs": [],
   "source": [
    "def min_operations(nums:int, x: int) -> int:\n",
    "    total_sum = sum(nums)\n",
    "    target_sum = total_sum - x\n",
    "    \n",
    "    if target_sum < 0:\n",
    "        return -1\n",
    "    if target_sum == 0:\n",
    "        return len(nums)\n",
    "    \n",
    "    left = 0\n",
    "    current_sum = 0\n",
    "    max_len = 0\n",
    "    found = False\n",
    "    \n",
    "    for right in range(len(nums)):\n",
    "        current_sum += nums[right]\n",
    "        \n",
    "        while current_sum > target_sum and left <= right:\n",
    "            current_sum -= nums[left]\n",
    "            left += 1\n",
    "            \n",
    "        if current_sum == target_sum:\n",
    "            found = True\n",
    "            max_len = max(max_len, right - left + 1)\n",
    "    \n",
    "    return len(nums) - max_len if found else -1"
   ]
  },
  {
   "cell_type": "code",
   "execution_count": 106,
   "metadata": {},
   "outputs": [
    {
     "data": {
      "text/plain": [
       "2"
      ]
     },
     "execution_count": 106,
     "metadata": {},
     "output_type": "execute_result"
    }
   ],
   "source": [
    "nums = [1,1,4,2,3]\n",
    "x = 5\n",
    "min_operations(nums, x)"
   ]
  },
  {
   "cell_type": "code",
   "execution_count": 107,
   "metadata": {},
   "outputs": [
    {
     "data": {
      "text/plain": [
       "-1"
      ]
     },
     "execution_count": 107,
     "metadata": {},
     "output_type": "execute_result"
    }
   ],
   "source": [
    "nums = [5,6,7,8,9]\n",
    "x = 4\n",
    "min_operations(nums, x)"
   ]
  },
  {
   "cell_type": "code",
   "execution_count": 25,
   "metadata": {},
   "outputs": [],
   "source": [
    "def smallest_range(A: list, K: int) -> int:\n",
    "    A.sort()\n",
    "    n = len(A)\n",
    "    min_diff = A[-1] - A[0]\n",
    "    \n",
    "    for i in range(n - 1):\n",
    "        high = max(A[-1] - K, A[i] + K)\n",
    "        low = min(A[0] + K, A[i + 1] - K)\n",
    "        min_diff = min(min_diff, high - low)\n",
    "    \n",
    "    return min_diff"
   ]
  },
  {
   "cell_type": "code",
   "execution_count": 26,
   "metadata": {},
   "outputs": [
    {
     "data": {
      "text/plain": [
       "0"
      ]
     },
     "execution_count": 26,
     "metadata": {},
     "output_type": "execute_result"
    }
   ],
   "source": [
    "A = [1]\n",
    "K = 0\n",
    "smallest_range(A, K)"
   ]
  },
  {
   "cell_type": "code",
   "execution_count": 27,
   "metadata": {},
   "outputs": [
    {
     "data": {
      "text/plain": [
       "6"
      ]
     },
     "execution_count": 27,
     "metadata": {},
     "output_type": "execute_result"
    }
   ],
   "source": [
    "A = [0,10]\n",
    "K = 2\n",
    "smallest_range(A, K)"
   ]
  },
  {
   "cell_type": "code",
   "execution_count": 28,
   "metadata": {},
   "outputs": [
    {
     "data": {
      "text/plain": [
       "0"
      ]
     },
     "execution_count": 28,
     "metadata": {},
     "output_type": "execute_result"
    }
   ],
   "source": [
    "smallest_range([1000, 1000, 1000], 23)"
   ]
  },
  {
   "cell_type": "code",
   "execution_count": null,
   "metadata": {},
   "outputs": [],
   "source": []
  }
 ],
 "metadata": {
  "kernelspec": {
   "display_name": "Python 3",
   "language": "python",
   "name": "python3"
  },
  "language_info": {
   "codemirror_mode": {
    "name": "ipython",
    "version": 3
   },
   "file_extension": ".py",
   "mimetype": "text/x-python",
   "name": "python",
   "nbconvert_exporter": "python",
   "pygments_lexer": "ipython3",
   "version": "3.6.8"
  },
  "toc": {
   "base_numbering": 1,
   "nav_menu": {},
   "number_sections": true,
   "sideBar": true,
   "skip_h1_title": false,
   "title_cell": "Table of Contents",
   "title_sidebar": "Contents",
   "toc_cell": false,
   "toc_position": {},
   "toc_section_display": true,
   "toc_window_display": false
  }
 },
 "nbformat": 4,
 "nbformat_minor": 2
}
