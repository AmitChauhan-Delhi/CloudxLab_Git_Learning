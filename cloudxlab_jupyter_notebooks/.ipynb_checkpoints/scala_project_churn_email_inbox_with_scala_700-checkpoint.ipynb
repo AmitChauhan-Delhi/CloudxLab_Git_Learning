{
 "cells": [
  {
   "cell_type": "code",
   "execution_count": 2,
   "metadata": {},
   "outputs": [
    {
     "data": {
      "text/plain": [
       "number_of_lines: ()Int\n"
      ]
     },
     "metadata": {},
     "output_type": "display_data"
    }
   ],
   "source": [
    "import scala.io.Source\n",
    "\n",
    "def number_of_lines(): Int = {\n",
    "    var count: Int = 0    \n",
    "    for(_ <- Source.fromFile(\"/cxldata/datasets/project/mbox-short.txt\").getLines()) {\n",
    "        count+=1\n",
    "    }\n",
    "    return count\n",
    "}"
   ]
  },
  {
   "cell_type": "code",
   "execution_count": 3,
   "metadata": {},
   "outputs": [
    {
     "data": {
      "text/plain": [
       "1910"
      ]
     },
     "execution_count": 3,
     "metadata": {},
     "output_type": "execute_result"
    }
   ],
   "source": [
    "number_of_lines"
   ]
  },
  {
   "cell_type": "code",
   "execution_count": 4,
   "metadata": {},
   "outputs": [
    {
     "data": {
      "text/plain": [
       "count_subject_lines: ()Int\n"
      ]
     },
     "metadata": {},
     "output_type": "display_data"
    }
   ],
   "source": [
    "import scala.io.Source\n",
    "\n",
    "def count_subject_lines() : Int = {\n",
    "    var countLines = 0\n",
    "    val filename = \"/cxldata/datasets/project/mbox-short.txt\"\n",
    "    for (line <- Source.fromFile(filename).getLines) {\n",
    "        if (line.startsWith(\"Subject:\")) {\n",
    "            countLines = countLines + 1\n",
    "        }\n",
    "    }\n",
    "    return(countLines)\n",
    "}"
   ]
  },
  {
   "cell_type": "code",
   "execution_count": 5,
   "metadata": {},
   "outputs": [
    {
     "data": {
      "text/plain": [
       "27"
      ]
     },
     "execution_count": 5,
     "metadata": {},
     "output_type": "execute_result"
    }
   ],
   "source": [
    "count_subject_lines"
   ]
  },
  {
   "cell_type": "code",
   "execution_count": 74,
   "metadata": {},
   "outputs": [
    {
     "data": {
      "text/plain": [
       "warning: there was one deprecation warning; re-run with -deprecation for details\n",
       "average_spam_confidence: ()Double\n"
      ]
     },
     "metadata": {},
     "output_type": "display_data"
    }
   ],
   "source": [
    "import scala.io.Source\n",
    "import scala.math.BigDecimal.RoundingMode\n",
    "\n",
    "def average_spam_confidence() : Double = {\n",
    "    var countLines = 0\n",
    "    var totalScore: Float = 0\n",
    "    val filename = \"/cxldata/datasets/project/mbox-short.txt\"\n",
    "    for (line <- Source.fromFile(filename).getLines) {\n",
    "        if (line.startsWith(\"X-DSPAM-Confidence:\")) {\n",
    "            countLines = countLines + 1\n",
    "            totalScore = totalScore + line.split(\":\")(1).toFloat\n",
    "        }\n",
    "    }\n",
    "    val avg = totalScore / countLines\n",
    "    return  BigDecimal(avg).setScale(7, RoundingMode.HALF_UP).toDouble\n",
    "}"
   ]
  },
  {
   "cell_type": "code",
   "execution_count": 75,
   "metadata": {},
   "outputs": [
    {
     "data": {
      "text/plain": [
       "0.7507186"
      ]
     },
     "execution_count": 75,
     "metadata": {},
     "output_type": "execute_result"
    }
   ],
   "source": [
    "average_spam_confidence"
   ]
  },
  {
   "cell_type": "code",
   "execution_count": 76,
   "metadata": {},
   "outputs": [
    {
     "data": {
      "text/plain": [
       "find_email_sent_days: ()Unit\n"
      ]
     },
     "metadata": {},
     "output_type": "display_data"
    }
   ],
   "source": [
    "import scala.io.Source\n",
    "import scala.collection.mutable.Map\n",
    "\n",
    "def find_email_sent_days() = {\n",
    "    var sampleMap:Map[Char,Int] = Map()\n",
    "    val filename = \"/cxldata/datasets/project/mbox-short.txt\"\n",
    "    for (line <- Source.fromFile(filename).getLines) {\n",
    "        if (line.startsWith(\"From:\")) {\n",
    "            \n",
    "            println(line)\n",
    "        }\n",
    "    }\n",
    "}"
   ]
  },
  {
   "cell_type": "code",
   "execution_count": 77,
   "metadata": {},
   "outputs": [
    {
     "name": "stdout",
     "output_type": "stream",
     "text": [
      "From: stephen.marquard@uct.ac.za\n",
      "From: louis@media.berkeley.edu\n",
      "From: zqian@umich.edu\n",
      "From: rjlowe@iupui.edu\n",
      "From: zqian@umich.edu\n",
      "From: rjlowe@iupui.edu\n",
      "From: cwen@iupui.edu\n",
      "From: cwen@iupui.edu\n",
      "From: gsilver@umich.edu\n",
      "From: gsilver@umich.edu\n",
      "From: zqian@umich.edu\n",
      "From: gsilver@umich.edu\n",
      "From: wagnermr@iupui.edu\n",
      "From: zqian@umich.edu\n",
      "From: antranig@caret.cam.ac.uk\n",
      "From: gopal.ramasammycook@gmail.com\n",
      "From: david.horwitz@uct.ac.za\n",
      "From: david.horwitz@uct.ac.za\n",
      "From: david.horwitz@uct.ac.za\n",
      "From: david.horwitz@uct.ac.za\n",
      "From: stephen.marquard@uct.ac.za\n",
      "From: louis@media.berkeley.edu\n",
      "From: louis@media.berkeley.edu\n",
      "From: ray@media.berkeley.edu\n",
      "From: cwen@iupui.edu\n",
      "From: cwen@iupui.edu\n",
      "From: cwen@iupui.edu\n"
     ]
    }
   ],
   "source": [
    "find_email_sent_days"
   ]
  },
  {
   "cell_type": "code",
   "execution_count": null,
   "metadata": {},
   "outputs": [],
   "source": []
  }
 ],
 "metadata": {
  "kernelspec": {
   "display_name": "Apache Toree - Scala",
   "language": "scala",
   "name": "apache_toree_scala"
  },
  "language_info": {
   "codemirror_mode": "text/x-scala",
   "file_extension": ".scala",
   "mimetype": "text/x-scala",
   "name": "scala",
   "pygments_lexer": "scala",
   "version": "2.11.8"
  },
  "toc": {
   "base_numbering": 1,
   "nav_menu": {},
   "number_sections": true,
   "sideBar": true,
   "skip_h1_title": false,
   "title_cell": "Table of Contents",
   "title_sidebar": "Contents",
   "toc_cell": false,
   "toc_position": {},
   "toc_section_display": true,
   "toc_window_display": false
  }
 },
 "nbformat": 4,
 "nbformat_minor": 2
}
