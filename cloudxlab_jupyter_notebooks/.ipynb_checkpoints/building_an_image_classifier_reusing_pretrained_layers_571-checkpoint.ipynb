{
 "cells": [
  {
   "cell_type": "code",
   "execution_count": 8,
   "metadata": {},
   "outputs": [],
   "source": [
    "import numpy as np\n",
    "import tensorflow as tf\n",
    "from tensorflow import keras"
   ]
  },
  {
   "cell_type": "code",
   "execution_count": 9,
   "metadata": {},
   "outputs": [],
   "source": [
    "(X_train_full, y_train_full), (X_test, y_test) = keras.datasets.fashion_mnist.load_data()"
   ]
  },
  {
   "cell_type": "code",
   "execution_count": 10,
   "metadata": {},
   "outputs": [],
   "source": [
    "X_train_full = X_train_full[:30000]\n",
    "y_train_full = y_train_full[:30000]"
   ]
  },
  {
   "cell_type": "code",
   "execution_count": 11,
   "metadata": {},
   "outputs": [],
   "source": [
    "X_test = X_test[:5000]\n",
    "y_test = y_test[:5000]"
   ]
  },
  {
   "cell_type": "code",
   "execution_count": 12,
   "metadata": {},
   "outputs": [],
   "source": [
    "X_train_full = X_train_full / 255\n",
    "X_test = X_test / 255"
   ]
  },
  {
   "cell_type": "code",
   "execution_count": 13,
   "metadata": {},
   "outputs": [],
   "source": [
    "X_valid, X_train = X_train_full[:5000], X_train_full[5000:]\n",
    "y_valid, y_train = y_train_full[:5000], y_train_full[5000:]"
   ]
  },
  {
   "cell_type": "code",
   "execution_count": 16,
   "metadata": {},
   "outputs": [],
   "source": [
    "def split_dataset(X, y):\n",
    "    y_5_or_6 = (y==5) | (y==6)\n",
    "    y_A = y[~y_5_or_6]\n",
    "    y_A[y_A > 6] -= 2\n",
    "    y_B = (y[y_5_or_6] == 6).astype(np.float32)\n",
    "    return ((X[~y_5_or_6], y_A), (X[y_5_or_6], y_B))"
   ]
  },
  {
   "cell_type": "code",
   "execution_count": 17,
   "metadata": {},
   "outputs": [],
   "source": [
    "(X_train_A, y_train_A), (X_train_B, y_train_B) = split_dataset(X_train, y_train)"
   ]
  },
  {
   "cell_type": "code",
   "execution_count": 18,
   "metadata": {},
   "outputs": [],
   "source": [
    "(X_valid_A, y_valid_A), (X_valid_B, y_valid_B) = split_dataset(X_valid, y_valid)"
   ]
  },
  {
   "cell_type": "code",
   "execution_count": 19,
   "metadata": {},
   "outputs": [],
   "source": [
    "(X_test_A, y_test_A), (X_test_B, y_test_B) = split_dataset(X_test, y_test)"
   ]
  },
  {
   "cell_type": "code",
   "execution_count": 21,
   "metadata": {},
   "outputs": [],
   "source": [
    "tf.random.set_seed(42)\n",
    "np.random.seed(42)"
   ]
  },
  {
   "cell_type": "code",
   "execution_count": 48,
   "metadata": {},
   "outputs": [],
   "source": [
    "model_A = keras.models.Sequential()\n",
    "model_A.add(keras.layers.Flatten(input_shape=[28, 28]))\n",
    "for n_hidden in (300, 100, 50, 50, 50):\n",
    "    model_A.add(keras.layers.Dense(n_hidden, activation=\"selu\"))\n",
    "model_A.add(keras.layers.Dense(8, activation=\"softmax\"))"
   ]
  },
  {
   "cell_type": "code",
   "execution_count": 51,
   "metadata": {},
   "outputs": [],
   "source": [
    "sgd = keras.optimizers.SGD(lr=1e-3)"
   ]
  },
  {
   "cell_type": "code",
   "execution_count": 52,
   "metadata": {},
   "outputs": [],
   "source": [
    "model_A.compile(loss=\"sparse_categorical_crossentropy\", optimizer=sgd, metrics=[\"accuracy\"])"
   ]
  },
  {
   "cell_type": "code",
   "execution_count": 53,
   "metadata": {},
   "outputs": [
    {
     "name": "stdout",
     "output_type": "stream",
     "text": [
      "Epoch 1/5\n",
      "622/622 [==============================] - 3s 4ms/step - loss: 0.7691 - accuracy: 0.7588 - val_loss: 0.4674 - val_accuracy: 0.8495\n",
      "Epoch 2/5\n",
      "622/622 [==============================] - 2s 4ms/step - loss: 0.4379 - accuracy: 0.8545 - val_loss: 0.3844 - val_accuracy: 0.8729\n",
      "Epoch 3/5\n",
      "622/622 [==============================] - 2s 4ms/step - loss: 0.3788 - accuracy: 0.8679 - val_loss: 0.3743 - val_accuracy: 0.8705\n",
      "Epoch 4/5\n",
      "622/622 [==============================] - 2s 4ms/step - loss: 0.3480 - accuracy: 0.8790 - val_loss: 0.3246 - val_accuracy: 0.8936\n",
      "Epoch 5/5\n",
      "622/622 [==============================] - 2s 4ms/step - loss: 0.3289 - accuracy: 0.8848 - val_loss: 0.3179 - val_accuracy: 0.8939\n"
     ]
    }
   ],
   "source": [
    "history = model_A.fit(X_train_A, y_train_A, epochs=5, validation_data=(X_valid_A, y_valid_A))"
   ]
  },
  {
   "cell_type": "code",
   "execution_count": null,
   "metadata": {},
   "outputs": [
    {
     "ename": "RuntimeError",
     "evalue": "Can't decrement id ref count (file write failed: time = Fri Apr 19 12:14:14 2024\n, filename = 'my_model_A.h5', file descriptor = 44, errno = 5, error message = 'Input/output error', buf = 0x55f45c8f2408, total write size = 10000, bytes this sub-write = 10000, bytes actually written = 18446744073709551615, offset = 0)",
     "output_type": "error",
     "traceback": [
      "\u001b[0;31m---------------------------------------------------------------------------\u001b[0m",
      "\u001b[0;31mRuntimeError\u001b[0m                              Traceback (most recent call last)",
      "\u001b[0;32mh5py/_objects.pyx\u001b[0m in \u001b[0;36mh5py._objects.ObjectID.__dealloc__\u001b[0;34m()\u001b[0m\n",
      "\u001b[0;31mRuntimeError\u001b[0m: Can't decrement id ref count (file write failed: time = Fri Apr 19 12:14:14 2024\n, filename = 'my_model_A.h5', file descriptor = 44, errno = 5, error message = 'Input/output error', buf = 0x55f45c8f2408, total write size = 10000, bytes this sub-write = 10000, bytes actually written = 18446744073709551615, offset = 0)"
     ]
    },
    {
     "name": "stderr",
     "output_type": "stream",
     "text": [
      "Exception ignored in: 'h5py._objects.ObjectID.__dealloc__'\n",
      "Traceback (most recent call last):\n",
      "  File \"h5py/_objects.pyx\", line 199, in h5py._objects.ObjectID.__dealloc__\n",
      "RuntimeError: Can't decrement id ref count (file write failed: time = Fri Apr 19 12:14:14 2024\n",
      ", filename = 'my_model_A.h5', file descriptor = 44, errno = 5, error message = 'Input/output error', buf = 0x55f45c8f2408, total write size = 10000, bytes this sub-write = 10000, bytes actually written = 18446744073709551615, offset = 0)\n"
     ]
    },
    {
     "ename": "RuntimeError",
     "evalue": "Can't decrement id ref count (file write failed: time = Fri Apr 19 12:14:14 2024\n, filename = 'my_model_A.h5', file descriptor = 44, errno = 5, error message = 'Input/output error', buf = 0x55f45c9a3628, total write size = 200, bytes this sub-write = 200, bytes actually written = 18446744073709551615, offset = 0)",
     "output_type": "error",
     "traceback": [
      "\u001b[0;31m---------------------------------------------------------------------------\u001b[0m",
      "\u001b[0;31mRuntimeError\u001b[0m                              Traceback (most recent call last)",
      "\u001b[0;32mh5py/_objects.pyx\u001b[0m in \u001b[0;36mh5py._objects.ObjectID.__dealloc__\u001b[0;34m()\u001b[0m\n",
      "\u001b[0;31mRuntimeError\u001b[0m: Can't decrement id ref count (file write failed: time = Fri Apr 19 12:14:14 2024\n, filename = 'my_model_A.h5', file descriptor = 44, errno = 5, error message = 'Input/output error', buf = 0x55f45c9a3628, total write size = 200, bytes this sub-write = 200, bytes actually written = 18446744073709551615, offset = 0)"
     ]
    },
    {
     "name": "stderr",
     "output_type": "stream",
     "text": [
      "Exception ignored in: 'h5py._objects.ObjectID.__dealloc__'\n",
      "Traceback (most recent call last):\n",
      "  File \"h5py/_objects.pyx\", line 199, in h5py._objects.ObjectID.__dealloc__\n",
      "RuntimeError: Can't decrement id ref count (file write failed: time = Fri Apr 19 12:14:14 2024\n",
      ", filename = 'my_model_A.h5', file descriptor = 44, errno = 5, error message = 'Input/output error', buf = 0x55f45c9a3628, total write size = 200, bytes this sub-write = 200, bytes actually written = 18446744073709551615, offset = 0)\n"
     ]
    },
    {
     "ename": "RuntimeError",
     "evalue": "Can't decrement id ref count (file write failed: time = Fri Apr 19 12:14:14 2024\n, filename = 'my_model_A.h5', file descriptor = 44, errno = 5, error message = 'Input/output error', buf = 0x55f45c901918, total write size = 1600, bytes this sub-write = 1600, bytes actually written = 18446744073709551615, offset = 0)",
     "output_type": "error",
     "traceback": [
      "\u001b[0;31m---------------------------------------------------------------------------\u001b[0m",
      "\u001b[0;31mRuntimeError\u001b[0m                              Traceback (most recent call last)",
      "\u001b[0;32mh5py/_objects.pyx\u001b[0m in \u001b[0;36mh5py._objects.ObjectID.__dealloc__\u001b[0;34m()\u001b[0m\n",
      "\u001b[0;31mRuntimeError\u001b[0m: Can't decrement id ref count (file write failed: time = Fri Apr 19 12:14:14 2024\n, filename = 'my_model_A.h5', file descriptor = 44, errno = 5, error message = 'Input/output error', buf = 0x55f45c901918, total write size = 1600, bytes this sub-write = 1600, bytes actually written = 18446744073709551615, offset = 0)"
     ]
    },
    {
     "name": "stderr",
     "output_type": "stream",
     "text": [
      "Exception ignored in: 'h5py._objects.ObjectID.__dealloc__'\n",
      "Traceback (most recent call last):\n",
      "  File \"h5py/_objects.pyx\", line 199, in h5py._objects.ObjectID.__dealloc__\n",
      "RuntimeError: Can't decrement id ref count (file write failed: time = Fri Apr 19 12:14:14 2024\n",
      ", filename = 'my_model_A.h5', file descriptor = 44, errno = 5, error message = 'Input/output error', buf = 0x55f45c901918, total write size = 1600, bytes this sub-write = 1600, bytes actually written = 18446744073709551615, offset = 0)\n"
     ]
    },
    {
     "ename": "RuntimeError",
     "evalue": "Can't decrement id ref count (file write failed: time = Fri Apr 19 12:14:14 2024\n, filename = 'my_model_A.h5', file descriptor = 44, errno = 5, error message = 'Input/output error', buf = 0x55f45c957868, total write size = 32, bytes this sub-write = 32, bytes actually written = 18446744073709551615, offset = 0)",
     "output_type": "error",
     "traceback": [
      "\u001b[0;31m---------------------------------------------------------------------------\u001b[0m",
      "\u001b[0;31mRuntimeError\u001b[0m                              Traceback (most recent call last)",
      "\u001b[0;32mh5py/_objects.pyx\u001b[0m in \u001b[0;36mh5py._objects.ObjectID.__dealloc__\u001b[0;34m()\u001b[0m\n",
      "\u001b[0;31mRuntimeError\u001b[0m: Can't decrement id ref count (file write failed: time = Fri Apr 19 12:14:14 2024\n, filename = 'my_model_A.h5', file descriptor = 44, errno = 5, error message = 'Input/output error', buf = 0x55f45c957868, total write size = 32, bytes this sub-write = 32, bytes actually written = 18446744073709551615, offset = 0)"
     ]
    }
   ],
   "source": [
    "model_A.save(\"my_model_A.h5\")"
   ]
  },
  {
   "cell_type": "code",
   "execution_count": null,
   "metadata": {},
   "outputs": [],
   "source": []
  }
 ],
 "metadata": {
  "kernelspec": {
   "display_name": "tensorflow2",
   "language": "python",
   "name": "tensorflow2"
  },
  "language_info": {
   "codemirror_mode": {
    "name": "ipython",
    "version": 3
   },
   "file_extension": ".py",
   "mimetype": "text/x-python",
   "name": "python",
   "nbconvert_exporter": "python",
   "pygments_lexer": "ipython3",
   "version": "3.6.8"
  },
  "toc": {
   "base_numbering": 1,
   "nav_menu": {},
   "number_sections": true,
   "sideBar": true,
   "skip_h1_title": false,
   "title_cell": "Table of Contents",
   "title_sidebar": "Contents",
   "toc_cell": false,
   "toc_position": {},
   "toc_section_display": true,
   "toc_window_display": false
  }
 },
 "nbformat": 4,
 "nbformat_minor": 2
}
