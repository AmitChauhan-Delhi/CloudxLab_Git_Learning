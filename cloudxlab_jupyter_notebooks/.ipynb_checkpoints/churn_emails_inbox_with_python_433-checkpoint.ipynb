{
 "cells": [
  {
   "cell_type": "code",
   "execution_count": 1,
   "metadata": {},
   "outputs": [
    {
     "name": "stdout",
     "output_type": "stream",
     "text": [
      "From stephen.marquard@uct.ac.za Sat Jan  5 09:14:16 2008\r\n",
      "Return-Path: <postmaster@collab.sakaiproject.org>\r\n",
      "Received: from murder (mail.umich.edu [141.211.14.90])\r\n",
      "\t by frankenstein.mail.umich.edu (Cyrus v2.3.8) with LMTPA;\r\n",
      "\t Sat, 05 Jan 2008 09:14:16 -0500\r\n",
      "X-Sieve: CMU Sieve 2.3\r\n",
      "Received: from murder ([unix socket])\r\n",
      "\t by mail.umich.edu (Cyrus v2.2.12) with LMTPA;\r\n",
      "\t Sat, 05 Jan 2008 09:14:16 -0500\r\n",
      "Received: from holes.mr.itd.umich.edu (holes.mr.itd.umich.edu [141.211.14.79])\r\n",
      "\tby flawless.mail.umich.edu () with ESMTP id m05EEFR1013674;\r\n",
      "\tSat, 5 Jan 2008 09:14:15 -0500\r\n",
      "Received: FROM paploo.uhi.ac.uk (app1.prod.collab.uhi.ac.uk [194.35.219.184])\r\n",
      "\tBY holes.mr.itd.umich.edu ID 477F90B0.2DB2F.12494 ; \r\n",
      "\t 5 Jan 2008 09:14:10 -0500\r\n"
     ]
    }
   ],
   "source": [
    "!head -n15 /cxldata/datasets/project/mbox-short.txt"
   ]
  },
  {
   "cell_type": "code",
   "execution_count": null,
   "metadata": {},
   "outputs": [],
   "source": []
  }
 ],
 "metadata": {
  "kernelspec": {
   "display_name": "Python 3",
   "language": "python",
   "name": "python3"
  },
  "language_info": {
   "codemirror_mode": {
    "name": "ipython",
    "version": 3
   },
   "file_extension": ".py",
   "mimetype": "text/x-python",
   "name": "python",
   "nbconvert_exporter": "python",
   "pygments_lexer": "ipython3",
   "version": "3.6.8"
  },
  "toc": {
   "base_numbering": 1,
   "nav_menu": {},
   "number_sections": true,
   "sideBar": true,
   "skip_h1_title": false,
   "title_cell": "Table of Contents",
   "title_sidebar": "Contents",
   "toc_cell": false,
   "toc_position": {},
   "toc_section_display": true,
   "toc_window_display": false
  }
 },
 "nbformat": 4,
 "nbformat_minor": 2
}
