{
 "cells": [
  {
   "cell_type": "code",
   "execution_count": 8,
   "metadata": {},
   "outputs": [
    {
     "data": {
      "text/plain": [
       "my_imx = 10\n"
      ]
     },
     "metadata": {},
     "output_type": "display_data"
    },
    {
     "data": {
      "text/plain": [
       "10"
      ]
     },
     "execution_count": 8,
     "metadata": {},
     "output_type": "execute_result"
    }
   ],
   "source": [
    "val my_imx: Int = 10"
   ]
  },
  {
   "cell_type": "code",
   "execution_count": 9,
   "metadata": {},
   "outputs": [
    {
     "data": {
      "text/plain": [
       "my_mutx = 20\n"
      ]
     },
     "metadata": {},
     "output_type": "display_data"
    },
    {
     "data": {
      "text/plain": [
       "20"
      ]
     },
     "execution_count": 9,
     "metadata": {},
     "output_type": "execute_result"
    }
   ],
   "source": [
    "var my_mutx: Int = 20"
   ]
  },
  {
   "cell_type": "code",
   "execution_count": 10,
   "metadata": {},
   "outputs": [
    {
     "data": {
      "text/plain": [
       "myname = hi\n"
      ]
     },
     "metadata": {},
     "output_type": "display_data"
    },
    {
     "data": {
      "text/plain": [
       "hi"
      ]
     },
     "execution_count": 10,
     "metadata": {},
     "output_type": "execute_result"
    }
   ],
   "source": [
    "var myname: String = \"hi\""
   ]
  },
  {
   "cell_type": "code",
   "execution_count": 11,
   "metadata": {},
   "outputs": [
    {
     "data": {
      "text/plain": [
       "state = New York\n"
      ]
     },
     "metadata": {},
     "output_type": "display_data"
    },
    {
     "data": {
      "text/plain": [
       "New York"
      ]
     },
     "execution_count": 11,
     "metadata": {},
     "output_type": "execute_result"
    }
   ],
   "source": [
    "var state: String = \"New York\""
   ]
  },
  {
   "cell_type": "code",
   "execution_count": 12,
   "metadata": {},
   "outputs": [
    {
     "data": {
      "text/plain": [
       "principal = 500\n"
      ]
     },
     "metadata": {},
     "output_type": "display_data"
    },
    {
     "data": {
      "text/plain": [
       "500"
      ]
     },
     "execution_count": 12,
     "metadata": {},
     "output_type": "execute_result"
    }
   ],
   "source": [
    "var principal = 500"
   ]
  },
  {
   "cell_type": "code",
   "execution_count": 20,
   "metadata": {},
   "outputs": [
    {
     "data": {
      "text/plain": [
       "interest_rate = 12\n"
      ]
     },
     "metadata": {},
     "output_type": "display_data"
    },
    {
     "data": {
      "text/plain": [
       "12"
      ]
     },
     "execution_count": 20,
     "metadata": {},
     "output_type": "execute_result"
    }
   ],
   "source": [
    "var interest_rate = 12"
   ]
  },
  {
   "cell_type": "code",
   "execution_count": 21,
   "metadata": {},
   "outputs": [
    {
     "data": {
      "text/plain": [
       "years = 5\n"
      ]
     },
     "metadata": {},
     "output_type": "display_data"
    },
    {
     "data": {
      "text/plain": [
       "5"
      ]
     },
     "execution_count": 21,
     "metadata": {},
     "output_type": "execute_result"
    }
   ],
   "source": [
    "var years = 5"
   ]
  },
  {
   "cell_type": "code",
   "execution_count": 22,
   "metadata": {},
   "outputs": [
    {
     "data": {
      "text/plain": [
       "interest = 300\n"
      ]
     },
     "metadata": {},
     "output_type": "display_data"
    },
    {
     "data": {
      "text/plain": [
       "300"
      ]
     },
     "execution_count": 22,
     "metadata": {},
     "output_type": "execute_result"
    }
   ],
   "source": [
    "var interest = principal * interest_rate * years / 100"
   ]
  },
  {
   "cell_type": "code",
   "execution_count": 23,
   "metadata": {},
   "outputs": [
    {
     "data": {
      "text/plain": [
       "defined object Hello\n"
      ]
     },
     "metadata": {},
     "output_type": "display_data"
    }
   ],
   "source": [
    "object Hello {\n",
    "   def main(args: Array[String]) {\n",
    "      var str:String = \"hello\"\n",
    "      println(str)\n",
    "      str = \"hello all\"\n",
    "      println(str)\n",
    "      str.concat(\" there\")\n",
    "      println(str)\n",
    "      str = str.concat(\" there\")\n",
    "      println(str)\n",
    "   }\n",
    "}"
   ]
  },
  {
   "cell_type": "code",
   "execution_count": 36,
   "metadata": {
    "scrolled": true
   },
   "outputs": [
    {
     "name": "stdout",
     "output_type": "stream",
     "text": [
      "hello\n",
      "hello all\n",
      "hello all\n",
      "hello all there\n"
     ]
    }
   ],
   "source": [
    "Hello.main(Array(\"raju\", \"ram\", \"shyam\"))"
   ]
  },
  {
   "cell_type": "code",
   "execution_count": 5,
   "metadata": {},
   "outputs": [
    {
     "data": {
      "text/plain": [
       "defined object Purge\n"
      ]
     },
     "metadata": {},
     "output_type": "display_data"
    },
    {
     "data": {
      "text/plain": [
       "Nw Yrk"
      ]
     },
     "execution_count": 5,
     "metadata": {},
     "output_type": "execute_result"
    }
   ],
   "source": [
    "object Purge {\n",
    "    def purgeVowels(str: String) : String = {\n",
    "        return str.replaceAll(\"a|A|e|E|i|I|o|O|u|U\", \"\")\n",
    "    }\n",
    "}\n",
    "\n",
    "Purge.purgeVowels(\"New York\")"
   ]
  },
  {
   "cell_type": "code",
   "execution_count": 6,
   "metadata": {},
   "outputs": [
    {
     "name": "stdout",
     "output_type": "stream",
     "text": [
      "Value of a: 1\n",
      "Value of b: 1\n",
      "Value of a: 1\n",
      "Value of b: 2\n",
      "Value of a: 1\n",
      "Value of b: 3\n",
      "Value of a: 2\n",
      "Value of b: 1\n",
      "Value of a: 2\n",
      "Value of b: 2\n",
      "Value of a: 2\n",
      "Value of b: 3\n",
      "Value of a: 3\n",
      "Value of b: 1\n",
      "Value of a: 3\n",
      "Value of b: 2\n",
      "Value of a: 3\n",
      "Value of b: 3\n",
      "Value of a: 4\n",
      "Value of b: 1\n",
      "Value of a: 4\n",
      "Value of b: 2\n",
      "Value of a: 4\n",
      "Value of b: 3\n",
      "Value of a: 5\n",
      "Value of b: 1\n",
      "Value of a: 5\n",
      "Value of b: 2\n",
      "Value of a: 5\n",
      "Value of b: 3\n"
     ]
    }
   ],
   "source": [
    " for( a <- 1 to 5; b <- 1 to 3){\n",
    "         println( \"Value of a: \" + a );\n",
    "         println( \"Value of b: \" + b );\n",
    "      }"
   ]
  },
  {
   "cell_type": "code",
   "execution_count": 15,
   "metadata": {},
   "outputs": [
    {
     "data": {
      "text/plain": [
       "defined object Greet\n"
      ]
     },
     "metadata": {},
     "output_type": "display_data"
    }
   ],
   "source": [
    "object Greet{ \n",
    "    def greet(hour:Int):String = { \n",
    "        if (hour >= 4 && hour < 12){ \n",
    "            return \"Good Morning\" \n",
    "        } else if (hour >= 12 && hour < 16){ \n",
    "            return \"Good Afternoon\" \n",
    "        } else if (hour >= 16 && hour < 21){ \n",
    "            return \"Good Evening\" \n",
    "        } else { \n",
    "            return \"Good Night\" \n",
    "        }\n",
    "    } \n",
    "}"
   ]
  },
  {
   "cell_type": "code",
   "execution_count": 16,
   "metadata": {},
   "outputs": [
    {
     "data": {
      "text/plain": [
       "Good Morning"
      ]
     },
     "execution_count": 16,
     "metadata": {},
     "output_type": "execute_result"
    }
   ],
   "source": [
    "Greet.greet(5)"
   ]
  },
  {
   "cell_type": "code",
   "execution_count": 17,
   "metadata": {},
   "outputs": [
    {
     "data": {
      "text/plain": [
       "Good Afternoon"
      ]
     },
     "execution_count": 17,
     "metadata": {},
     "output_type": "execute_result"
    }
   ],
   "source": [
    "Greet.greet(12)"
   ]
  },
  {
   "cell_type": "code",
   "execution_count": 18,
   "metadata": {},
   "outputs": [
    {
     "data": {
      "text/plain": [
       "defined class Car\n",
       "defined object Demo\n"
      ]
     },
     "metadata": {},
     "output_type": "display_data"
    }
   ],
   "source": [
    "class Car(makeOfCar: String, modelOfCar: String, yearOfCar: Int) {\n",
    "   var make: String = makeOfCar;\n",
    "   var model: String = modelOfCar;\n",
    "   var year: Int = yearOfCar;\n",
    "   var color = \"\";\n",
    "   def changeColor(colorOfCar: String) {\n",
    "      color = colorOfCar;\n",
    "      println (\"New color of car:\" + color);\n",
    "   }\n",
    "}\n",
    "\n",
    "object Demo {\n",
    "   def main(args: Array[String]) {\n",
    "      var car1 = new Car(\"Honda\", \"City\", 1996);\n",
    "      var car2 = new Car(\"Honda\", \"Accord\", 1999);\n",
    "      var car3 = new Car(\"Honda\", \"Amaze\", 2015);\n",
    "      println(\"Car details:\" + car1.make + \" \" + car1.model + \" \" + car1.year + \" \" + car1.color)\n",
    "      println(\"Car details:\" + car2.make + \" \" + car2.model + \" \" + car2.year + \" \" + car2.color)\n",
    "      println(\"Car details:\" + car3.make + \" \" + car3.model + \" \" + car3.year + \" \" + car3.color)\n",
    "   }\n",
    "}"
   ]
  },
  {
   "cell_type": "code",
   "execution_count": 20,
   "metadata": {},
   "outputs": [
    {
     "name": "stdout",
     "output_type": "stream",
     "text": [
      "Car details:Honda City 1996 \n",
      "Car details:Honda Accord 1999 \n",
      "Car details:Honda Amaze 2015 \n"
     ]
    }
   ],
   "source": [
    "Demo.main(Array())"
   ]
  },
  {
   "cell_type": "code",
   "execution_count": 21,
   "metadata": {},
   "outputs": [
    {
     "data": {
      "text/plain": [
       "defined class Car\n",
       "defined object Demo\n"
      ]
     },
     "metadata": {},
     "output_type": "display_data"
    }
   ],
   "source": [
    "import java.io._\n",
    "\n",
    "class Car() {\n",
    "    var make: String = \"\";\n",
    "    var model: String = \"\";\n",
    "    var year: Int = 0;\n",
    "    var color = \"\";\n",
    "\n",
    "    def this(makeOfCar: String, modelOfCar: String, yearOfCar: Int) {\n",
    "        this()\n",
    "        println(\"Creating new car object per first constructor\")\n",
    "        this.make = makeOfCar;\n",
    "        this.model = modelOfCar;\n",
    "        this.year = yearOfCar;\n",
    "        this.color = \"Black\";\n",
    "    }\n",
    "\n",
    "    def this(makeOfCar: String, modelOfCar: String) {\n",
    "        this()\n",
    "        println(\"Creating new car object per second constructor\")\n",
    "        this.make = makeOfCar;\n",
    "        this.model = modelOfCar;\n",
    "        this.year = 1990;\n",
    "        this.color = \"Blue\";\n",
    "    }\n",
    "\n",
    "    def dispCar() {\n",
    "        println(\"Car details:\" + this.make + \" \" + this.model + \" \" + this.year + \" \" + this.color)\n",
    "    }\n",
    "}\n",
    "\n",
    "\n",
    "object Demo {\n",
    "    def main(args: Array[String]) {\n",
    "        var car1 = new Car(\"Honda\", \"City\", 1996);\n",
    "        var car2 = new Car(\"Honda\", \"Accord\");\n",
    "        var car3 = new Car(\"Honda\", \"Amaze\", 2015);\n",
    "        println(\"\")\n",
    "        println(\"Displaying car info in main program:\")\n",
    "        println(\"Car details:\" + car1.make + \" \" + car1.model + \" \" + car1.year + \" \" + car1.color)\n",
    "        println(\"Car details:\" + car2.make + \" \" + car2.model + \" \" + car2.year + \" \" + car2.color)\n",
    "        println(\"Car details:\" + car3.make + \" \" + car3.model + \" \" + car3.year + \" \" + car3.color)\n",
    "        println(\"\")\n",
    "        println(\"Displaying car info via function:\")\n",
    "        dispCarDetails(car1)\n",
    "        dispCarDetails(car2)\n",
    "        dispCarDetails(car3)\n",
    "        println(\"\")\n",
    "        println(\"Display car info via class func:\")\n",
    "        car1.dispCar()\n",
    "        car2.dispCar()\n",
    "        car3.dispCar()\n",
    "    }\n",
    "\n",
    "    def dispCarDetails(car:Car) = {\n",
    "        println(\"Car details via func:\" + car.make + \" \" + car.model + \" \" + car.year + \" \" + car.color)\n",
    "    }\n",
    "\n",
    "}"
   ]
  },
  {
   "cell_type": "code",
   "execution_count": 22,
   "metadata": {},
   "outputs": [
    {
     "name": "stdout",
     "output_type": "stream",
     "text": [
      "Creating new car object per first constructor\n",
      "Creating new car object per second constructor\n",
      "Creating new car object per first constructor\n",
      "\n",
      "Displaying car info in main program:\n",
      "Car details:Honda City 1996 Black\n",
      "Car details:Honda Accord 1990 Blue\n",
      "Car details:Honda Amaze 2015 Black\n",
      "\n",
      "Displaying car info via function:\n",
      "Car details via func:Honda City 1996 Black\n",
      "Car details via func:Honda Accord 1990 Blue\n",
      "Car details via func:Honda Amaze 2015 Black\n",
      "\n",
      "Display car info via class func:\n",
      "Car details:Honda City 1996 Black\n",
      "Car details:Honda Accord 1990 Blue\n",
      "Car details:Honda Amaze 2015 Black\n"
     ]
    }
   ],
   "source": [
    "Demo.main(Array())"
   ]
  },
  {
   "cell_type": "code",
   "execution_count": 28,
   "metadata": {},
   "outputs": [
    {
     "data": {
      "text/plain": [
       "defined class Student\n",
       "stu1 = Student@2c20e9c8\n",
       "name_stu = John Doe\n",
       "sex_stu = M\n",
       "grade_stu = 15\n",
       "age_stu = 23\n"
      ]
     },
     "metadata": {},
     "output_type": "display_data"
    },
    {
     "data": {
      "text/plain": [
       "23"
      ]
     },
     "execution_count": 28,
     "metadata": {},
     "output_type": "execute_result"
    }
   ],
   "source": [
    "class Student() {\n",
    "    var name: String = \"\";\n",
    "    var sex: Char = ' ';\n",
    "    var grade: Int = 0;\n",
    "    var age: Int = 0;\n",
    "    def this(name: String, sex: Char, grade: Int, age: Int) {\n",
    "        this()\n",
    "        this.name = name;\n",
    "        this.sex = sex;\n",
    "        this.grade = grade;\n",
    "        this.age = age;\n",
    "    }\n",
    "}\n",
    "\n",
    "var stu1 = new Student(\"John Doe\", 'M', 15, 23 );\n",
    "var name_stu = stu1.name\n",
    "var sex_stu = stu1.sex\n",
    "var grade_stu = stu1.grade\n",
    "var age_stu = stu1.age"
   ]
  },
  {
   "cell_type": "code",
   "execution_count": 33,
   "metadata": {},
   "outputs": [
    {
     "data": {
      "text/plain": [
       "defined class Student\n"
      ]
     },
     "metadata": {},
     "output_type": "display_data"
    }
   ],
   "source": [
    "class Student() {\n",
    "    var name: String = \"\";\n",
    "    var sex: Char = ' ';\n",
    "    var grade: Int = 0;\n",
    "    var age: Int = 0;\n",
    "    def this(name: String, sex: Char, grade: Int, age: Int) {\n",
    "        this()\n",
    "        this.name = name;\n",
    "        this.sex = sex;\n",
    "        this.grade = grade;\n",
    "        this.age = age;\n",
    "    }\n",
    "    def this(name: String, sex: Char) {\n",
    "        this()\n",
    "        this.name = name;\n",
    "        this.sex = sex;\n",
    "        this.grade = 5;\n",
    "        this.age = 12;\n",
    "    }\n",
    "    def this(name: String) {\n",
    "        this()\n",
    "        this.name = name;\n",
    "        this.sex = 'F';\n",
    "        this.grade = 5;\n",
    "        this.age = 12;\n",
    "    }\n",
    "}"
   ]
  },
  {
   "cell_type": "code",
   "execution_count": 37,
   "metadata": {},
   "outputs": [
    {
     "data": {
      "text/plain": [
       "stu = Student@37feaea\n",
       "name_stu = Dey\n",
       "sex_stu = F\n",
       "grade_stu = 5\n",
       "age_stu = 12\n"
      ]
     },
     "metadata": {},
     "output_type": "display_data"
    },
    {
     "data": {
      "text/plain": [
       "12"
      ]
     },
     "execution_count": 37,
     "metadata": {},
     "output_type": "execute_result"
    }
   ],
   "source": [
    "var stu = new Student(\"Dey\");\n",
    "var name_stu = stu.name\n",
    "var sex_stu = stu.sex\n",
    "var grade_stu = stu.grade\n",
    "var age_stu = stu.age"
   ]
  },
  {
   "cell_type": "code",
   "execution_count": 38,
   "metadata": {},
   "outputs": [
    {
     "data": {
      "text/plain": [
       "stu = Student@4165852\n",
       "name_stu = Mack\n",
       "sex_stu = F\n",
       "grade_stu = 5\n",
       "age_stu = 12\n"
      ]
     },
     "metadata": {},
     "output_type": "display_data"
    },
    {
     "data": {
      "text/plain": [
       "12"
      ]
     },
     "execution_count": 38,
     "metadata": {},
     "output_type": "execute_result"
    }
   ],
   "source": [
    "var stu = new Student(\"Mack\", 'F');\n",
    "var name_stu = stu.name\n",
    "var sex_stu = stu.sex\n",
    "var grade_stu = stu.grade\n",
    "var age_stu = stu.age"
   ]
  },
  {
   "cell_type": "code",
   "execution_count": 39,
   "metadata": {},
   "outputs": [
    {
     "data": {
      "text/plain": [
       "stu = Student@470c810b\n",
       "name_stu = Doe\n",
       "sex_stu = F\n",
       "grade_stu = 8\n",
       "age_stu = 16\n"
      ]
     },
     "metadata": {},
     "output_type": "display_data"
    },
    {
     "data": {
      "text/plain": [
       "16"
      ]
     },
     "execution_count": 39,
     "metadata": {},
     "output_type": "execute_result"
    }
   ],
   "source": [
    "var stu = new Student(\"Doe\", 'F', 8, 16);\n",
    "var name_stu = stu.name\n",
    "var sex_stu = stu.sex\n",
    "var grade_stu = stu.grade\n",
    "var age_stu = stu.age"
   ]
  },
  {
   "cell_type": "code",
   "execution_count": null,
   "metadata": {},
   "outputs": [],
   "source": []
  }
 ],
 "metadata": {
  "kernelspec": {
   "display_name": "Apache Toree - Scala",
   "language": "scala",
   "name": "apache_toree_scala"
  },
  "language_info": {
   "codemirror_mode": "text/x-scala",
   "file_extension": ".scala",
   "mimetype": "text/x-scala",
   "name": "scala",
   "pygments_lexer": "scala",
   "version": "2.11.8"
  },
  "toc": {
   "base_numbering": 1,
   "nav_menu": {},
   "number_sections": true,
   "sideBar": true,
   "skip_h1_title": false,
   "title_cell": "Table of Contents",
   "title_sidebar": "Contents",
   "toc_cell": false,
   "toc_position": {},
   "toc_section_display": true,
   "toc_window_display": false
  }
 },
 "nbformat": 4,
 "nbformat_minor": 2
}
