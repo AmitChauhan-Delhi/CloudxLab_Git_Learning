{
 "cells": [
  {
   "cell_type": "code",
   "execution_count": 67,
   "metadata": {},
   "outputs": [],
   "source": [
    "def max_profit(prices: list) -> int:\n",
    "    if(1 <= len(prices) <= 105):\n",
    "        min_val: Int = 0\n",
    "        min_val_index = 0\n",
    "        \n",
    "        max_val: Int = 0\n",
    "        max_val_index = 0\n",
    "        \n",
    "        for (idx, price) in enumerate(prices):            \n",
    "            if price < min_val or min_val == 0:\n",
    "                min_val = price\n",
    "                min_val_index = idx\n",
    "            elif price >= max_val > min_val and idx > 0:\n",
    "                max_val = price\n",
    "                max_val_index = idx\n",
    "            elif price >= min_val > max_val:\n",
    "                max_val = price\n",
    "                max_val_index = idx  \n",
    "                   \n",
    "        if(max_val_index > min_val_index):\n",
    "            return max_val-min_val\n",
    "        else:\n",
    "            return 0\n",
    "        \n",
    "    else:\n",
    "        return 0"
   ]
  },
  {
   "cell_type": "code",
   "execution_count": 68,
   "metadata": {},
   "outputs": [
    {
     "data": {
      "text/plain": [
       "5"
      ]
     },
     "execution_count": 68,
     "metadata": {},
     "output_type": "execute_result"
    }
   ],
   "source": [
    "prices = [7,1,5,3,6,4] \n",
    "max_profit(prices)"
   ]
  },
  {
   "cell_type": "code",
   "execution_count": 69,
   "metadata": {},
   "outputs": [
    {
     "data": {
      "text/plain": [
       "0"
      ]
     },
     "execution_count": 69,
     "metadata": {},
     "output_type": "execute_result"
    }
   ],
   "source": [
    "max_profit([7,6,4,3,1])"
   ]
  },
  {
   "cell_type": "code",
   "execution_count": 70,
   "metadata": {},
   "outputs": [
    {
     "data": {
      "text/plain": [
       "7"
      ]
     },
     "execution_count": 70,
     "metadata": {},
     "output_type": "execute_result"
    }
   ],
   "source": [
    "max_profit([-7, -6, -4, 0,-3, 0])"
   ]
  },
  {
   "cell_type": "code",
   "execution_count": 46,
   "metadata": {},
   "outputs": [],
   "source": [
    "def maximum_profit(prices: list) -> int:\n",
    "    profit = 0\n",
    "    if(1 <= len(prices) <= 105):\n",
    "        min_val = 0\n",
    "        min_val_index = 0\n",
    "        least_min_val = 0\n",
    "        least_min_val_index = 0\n",
    "        \n",
    "        max_val = 0\n",
    "        max_val_index = 0\n",
    "        final_max_val = 0\n",
    "        final_max_val_index = 0\n",
    "        \n",
    "        for (idx, price) in enumerate(prices): \n",
    "            if(max_val_index > min_val_index):\n",
    "    \n",
    "                    if profit == 0 or least_min_val > min_val:\n",
    "                        least_min_val = min_val\n",
    "                        least_min_val_index = min_val_index\n",
    "                        final_max_val = max_val\n",
    "                        final_max_val_index = max_val_index\n",
    "                    profit = profit + (max_val - min_val)\n",
    "                    min_val = 0\n",
    "                    max_val = 0\n",
    "                    \n",
    "            if price < min_val or min_val == 0:\n",
    "                min_val = price\n",
    "                min_val_index = idx\n",
    "            elif price >= max_val > min_val and idx > 0:\n",
    "                max_val = price\n",
    "                max_val_index = idx                    \n",
    "            elif price > min_val > max_val:\n",
    "                max_val = price\n",
    "                max_val_index = idx  \n",
    "            \n",
    "            if price > final_max_val:\n",
    "                final_max_val = price\n",
    "                final_max_val_index = idx   \n",
    "        \n",
    "        if final_max_val_index > least_min_val_index and ((final_max_val - least_min_val) > profit):\n",
    "            profit = final_max_val - least_min_val\n",
    "                \n",
    "        return profit\n",
    "    else:\n",
    "        return 0"
   ]
  },
  {
   "cell_type": "code",
   "execution_count": 47,
   "metadata": {},
   "outputs": [
    {
     "data": {
      "text/plain": [
       "7"
      ]
     },
     "execution_count": 47,
     "metadata": {},
     "output_type": "execute_result"
    }
   ],
   "source": [
    "maximum_profit([7,1,5,3,6,4])"
   ]
  },
  {
   "cell_type": "code",
   "execution_count": 48,
   "metadata": {},
   "outputs": [
    {
     "data": {
      "text/plain": [
       "4"
      ]
     },
     "execution_count": 48,
     "metadata": {},
     "output_type": "execute_result"
    }
   ],
   "source": [
    "maximum_profit([1,2,3,4,5])"
   ]
  },
  {
   "cell_type": "code",
   "execution_count": 49,
   "metadata": {},
   "outputs": [
    {
     "data": {
      "text/plain": [
       "0"
      ]
     },
     "execution_count": 49,
     "metadata": {},
     "output_type": "execute_result"
    }
   ],
   "source": [
    "maximum_profit([7,6,4,3,1])"
   ]
  },
  {
   "cell_type": "code",
   "execution_count": null,
   "metadata": {},
   "outputs": [],
   "source": [
    "def validate_parentheses(p: str) -> bool:\n",
    "    "
   ]
  },
  {
   "cell_type": "code",
   "execution_count": null,
   "metadata": {},
   "outputs": [],
   "source": [
    "validate_parentheses(\"()[]{}\")"
   ]
  }
 ],
 "metadata": {
  "kernelspec": {
   "display_name": "Python 3",
   "language": "python",
   "name": "python3"
  },
  "language_info": {
   "codemirror_mode": {
    "name": "ipython",
    "version": 3
   },
   "file_extension": ".py",
   "mimetype": "text/x-python",
   "name": "python",
   "nbconvert_exporter": "python",
   "pygments_lexer": "ipython3",
   "version": "3.6.8"
  },
  "toc": {
   "base_numbering": 1,
   "nav_menu": {},
   "number_sections": true,
   "sideBar": true,
   "skip_h1_title": false,
   "title_cell": "Table of Contents",
   "title_sidebar": "Contents",
   "toc_cell": false,
   "toc_position": {},
   "toc_section_display": true,
   "toc_window_display": false
  }
 },
 "nbformat": 4,
 "nbformat_minor": 2
}
