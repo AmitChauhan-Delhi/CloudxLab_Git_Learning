{
 "cells": [
  {
   "cell_type": "code",
   "execution_count": 2,
   "metadata": {},
   "outputs": [
    {
     "data": {
      "text/plain": [
       "number_of_lines: ()Int\n"
      ]
     },
     "metadata": {},
     "output_type": "display_data"
    }
   ],
   "source": [
    "import scala.io.Source\n",
    "\n",
    "def number_of_lines(): Int = {\n",
    "    var count: Int = 0    \n",
    "    for(_ <- Source.fromFile(\"/cxldata/datasets/project/mbox-short.txt\").getLines()) {\n",
    "        count+=1\n",
    "    }\n",
    "    return count\n",
    "}"
   ]
  },
  {
   "cell_type": "code",
   "execution_count": 3,
   "metadata": {},
   "outputs": [
    {
     "data": {
      "text/plain": [
       "1910"
      ]
     },
     "execution_count": 3,
     "metadata": {},
     "output_type": "execute_result"
    }
   ],
   "source": [
    "number_of_lines"
   ]
  },
  {
   "cell_type": "code",
   "execution_count": 4,
   "metadata": {},
   "outputs": [
    {
     "data": {
      "text/plain": [
       "count_subject_lines: ()Int\n"
      ]
     },
     "metadata": {},
     "output_type": "display_data"
    }
   ],
   "source": [
    "import scala.io.Source\n",
    "\n",
    "def count_subject_lines() : Int = {\n",
    "    var countLines = 0\n",
    "    val filename = \"/cxldata/datasets/project/mbox-short.txt\"\n",
    "    for (line <- Source.fromFile(filename).getLines) {\n",
    "        if (line.startsWith(\"Subject:\")) {\n",
    "            countLines = countLines + 1\n",
    "        }\n",
    "    }\n",
    "    return(countLines)\n",
    "}"
   ]
  },
  {
   "cell_type": "code",
   "execution_count": 5,
   "metadata": {},
   "outputs": [
    {
     "data": {
      "text/plain": [
       "27"
      ]
     },
     "execution_count": 5,
     "metadata": {},
     "output_type": "execute_result"
    }
   ],
   "source": [
    "count_subject_lines"
   ]
  },
  {
   "cell_type": "code",
   "execution_count": 74,
   "metadata": {},
   "outputs": [
    {
     "data": {
      "text/plain": [
       "warning: there was one deprecation warning; re-run with -deprecation for details\n",
       "average_spam_confidence: ()Double\n"
      ]
     },
     "metadata": {},
     "output_type": "display_data"
    }
   ],
   "source": [
    "import scala.io.Source\n",
    "import scala.math.BigDecimal.RoundingMode\n",
    "\n",
    "def average_spam_confidence() : Double = {\n",
    "    var countLines = 0\n",
    "    var totalScore: Float = 0\n",
    "    val filename = \"/cxldata/datasets/project/mbox-short.txt\"\n",
    "    for (line <- Source.fromFile(filename).getLines) {\n",
    "        if (line.startsWith(\"X-DSPAM-Confidence:\")) {\n",
    "            countLines = countLines + 1\n",
    "            totalScore = totalScore + line.split(\":\")(1).toFloat\n",
    "        }\n",
    "    }\n",
    "    val avg = totalScore / countLines\n",
    "    return  BigDecimal(avg).setScale(7, RoundingMode.HALF_UP).toDouble\n",
    "}"
   ]
  },
  {
   "cell_type": "code",
   "execution_count": 75,
   "metadata": {},
   "outputs": [
    {
     "data": {
      "text/plain": [
       "0.7507186"
      ]
     },
     "execution_count": 75,
     "metadata": {},
     "output_type": "execute_result"
    }
   ],
   "source": [
    "average_spam_confidence"
   ]
  },
  {
   "cell_type": "code",
   "execution_count": 114,
   "metadata": {},
   "outputs": [
    {
     "data": {
      "text/plain": [
       "find_email_sent_days: ()scala.collection.mutable.Map[String,Int]\n"
      ]
     },
     "metadata": {},
     "output_type": "display_data"
    }
   ],
   "source": [
    "import scala.io.Source\n",
    "import scala.collection.mutable.Map\n",
    "\n",
    "def find_email_sent_days(): Map[String, Int] = {\n",
    "    var daysMap: Map[String,Int] = Map()\n",
    "    val filename = \"/cxldata/datasets/project/mbox-short.txt\"\n",
    "    for (line <- Source.fromFile(filename).getLines) {\n",
    "        if (line.startsWith(\"From\")) {\n",
    "            var subStringArr = line.split(\" \")\n",
    "            if(subStringArr.size > 3) {\n",
    "                val day = subStringArr(2)\n",
    "                if (daysMap.contains(day)) {\n",
    "                    daysMap(day) += 1\n",
    "                }\n",
    "                else {\n",
    "                    daysMap(day) = 1\n",
    "                } \n",
    "            }\n",
    "        }\n",
    "    }\n",
    "    return daysMap\n",
    "}"
   ]
  },
  {
   "cell_type": "code",
   "execution_count": 115,
   "metadata": {},
   "outputs": [
    {
     "data": {
      "text/plain": [
       "Map(Thu -> 6, Fri -> 20, Sat -> 1)"
      ]
     },
     "execution_count": 115,
     "metadata": {},
     "output_type": "execute_result"
    }
   ],
   "source": [
    "find_email_sent_days"
   ]
  },
  {
   "cell_type": "code",
   "execution_count": 120,
   "metadata": {},
   "outputs": [
    {
     "data": {
      "text/plain": [
       "count_message_from_email: ()scala.collection.mutable.Map[String,Int]\n"
      ]
     },
     "metadata": {},
     "output_type": "display_data"
    }
   ],
   "source": [
    "import scala.io.Source\n",
    "import scala.collection.mutable.Map\n",
    "\n",
    "def count_message_from_email() : Map[String, Int] = {\n",
    "    var emailsMap: Map[String,Int] = Map()\n",
    "    val filename = \"/cxldata/datasets/project/mbox-short.txt\"\n",
    "    for (line <- Source.fromFile(filename).getLines) {\n",
    "        if (line.startsWith(\"From:\")) {\n",
    "            var subStringArr = line.split(\" \")\n",
    "            if(subStringArr.size > 1) {\n",
    "                val mailId = subStringArr(1)\n",
    "                if(emailsMap.contains(mailId)) {\n",
    "                    emailsMap(mailId) += 1\n",
    "                } else {\n",
    "                    emailsMap(mailId) = 1\n",
    "                }\n",
    "            }\n",
    "        }\n",
    "    }\n",
    "    return emailsMap\n",
    "}"
   ]
  },
  {
   "cell_type": "code",
   "execution_count": 121,
   "metadata": {},
   "outputs": [
    {
     "data": {
      "text/plain": [
       "Map(zqian@umich.edu -> 4, rjlowe@iupui.edu -> 2, stephen.marquard@uct.ac.za -> 2, louis@media.berkeley.edu -> 3, gopal.ramasammycook@gmail.com -> 1, gsilver@umich.edu -> 3, david.horwitz@uct.ac.za -> 4, ray@media.berkeley.edu -> 1, antranig@caret.cam.ac.uk -> 1, wagnermr@iupui.edu -> 1, cwen@iupui.edu -> 5)"
      ]
     },
     "execution_count": 121,
     "metadata": {},
     "output_type": "execute_result"
    }
   ],
   "source": [
    "count_message_from_email"
   ]
  },
  {
   "cell_type": "code",
   "execution_count": 126,
   "metadata": {},
   "outputs": [
    {
     "data": {
      "text/plain": [
       "count_message_from_domain: ()scala.collection.mutable.Map[String,Int]\n"
      ]
     },
     "metadata": {},
     "output_type": "display_data"
    }
   ],
   "source": [
    "import scala.io.Source\n",
    "import scala.collection.mutable.Map\n",
    "\n",
    "def count_message_from_domain() : Map[String, Int] = {\n",
    "    var domainsMap: Map[String,Int] = Map()\n",
    "    val filename = \"/cxldata/datasets/project/mbox-short.txt\"\n",
    "    for (line <- Source.fromFile(filename).getLines) {\n",
    "        if (line.startsWith(\"From:\")) {\n",
    "            var subStringArr = line.split(\" \")\n",
    "            if(subStringArr.size > 1) {\n",
    "                val domain = subStringArr(1).split(\"@\")(1)\n",
    "                if(domainsMap.contains(domain)) {\n",
    "                    domainsMap(domain) += 1\n",
    "                } else {\n",
    "                    domainsMap(domain) = 1\n",
    "                }\n",
    "            }\n",
    "        }\n",
    "    }\n",
    "    return domainsMap\n",
    "}"
   ]
  },
  {
   "cell_type": "code",
   "execution_count": 127,
   "metadata": {},
   "outputs": [
    {
     "data": {
      "text/plain": [
       "Map()"
      ]
     },
     "execution_count": 127,
     "metadata": {},
     "output_type": "execute_result"
    }
   ],
   "source": [
    "count_message_from_domain"
   ]
  },
  {
   "cell_type": "code",
   "execution_count": null,
   "metadata": {},
   "outputs": [],
   "source": []
  }
 ],
 "metadata": {
  "kernelspec": {
   "display_name": "Apache Toree - Scala",
   "language": "scala",
   "name": "apache_toree_scala"
  },
  "language_info": {
   "codemirror_mode": "text/x-scala",
   "file_extension": ".scala",
   "mimetype": "text/x-scala",
   "name": "scala",
   "pygments_lexer": "scala",
   "version": "2.11.8"
  },
  "toc": {
   "base_numbering": 1,
   "nav_menu": {},
   "number_sections": true,
   "sideBar": true,
   "skip_h1_title": false,
   "title_cell": "Table of Contents",
   "title_sidebar": "Contents",
   "toc_cell": false,
   "toc_position": {},
   "toc_section_display": true,
   "toc_window_display": false
  }
 },
 "nbformat": 4,
 "nbformat_minor": 2
}
