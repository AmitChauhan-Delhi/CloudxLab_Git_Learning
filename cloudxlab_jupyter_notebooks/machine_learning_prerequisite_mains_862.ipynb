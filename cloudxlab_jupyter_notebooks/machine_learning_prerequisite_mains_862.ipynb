{
 "cells": [
  {
   "cell_type": "code",
   "execution_count": 1,
   "metadata": {},
   "outputs": [
    {
     "name": "stdout",
     "output_type": "stream",
     "text": [
      "     Full Name  Marks\n",
      "0  Jonas Gates     90\n",
      "1     Rob Hook     79\n",
      "2  Alex Wilson     96\n",
      "3    John Gray     85\n"
     ]
    }
   ],
   "source": [
    "student_first_name = ['Jonas', 'Rob', 'Alex', 'John']\n",
    "student_last_name = ['Gates', 'Hook', 'Wilson', 'Gray']\n",
    "marks = [90, 79, 96, 85]\n",
    "\n",
    "import pandas as pd\n",
    "\n",
    "def create_students_df(first_names, last_names, marks):\n",
    "    full_names = [f\"{first} {last}\" for first, last in zip(first_names, last_names)]\n",
    "    \n",
    "    df = pd.DataFrame({\n",
    "        'Full Name': full_names,\n",
    "        'Marks': marks\n",
    "    })\n",
    "    \n",
    "    return df\n",
    "\n",
    "students_df = create_students_df(student_first_name, student_last_name, marks)\n",
    "print(students_df)\n"
   ]
  },
  {
   "cell_type": "code",
   "execution_count": 27,
   "metadata": {},
   "outputs": [],
   "source": [
    "import pandas as pd\n",
    "\n",
    "def create_new_df(valid_tickers: list) -> bool:\n",
    "    file_path = '/cxldata/pet_mle/stock_fundamentals.csv'\n",
    "    df = pd.read_csv(file_path)\n",
    "\n",
    "    new_df = df[df['Ticker Symbol'].isin(valid_tickers)]\n",
    "    #print(new_df)\n",
    "    unique_tickers = sorted(new_df['Ticker Symbol'].unique().tolist())\n",
    "    return unique_tickers == valid_tickers    "
   ]
  },
  {
   "cell_type": "code",
   "execution_count": 35,
   "metadata": {},
   "outputs": [
    {
     "data": {
      "text/plain": [
       "False"
      ]
     },
     "execution_count": 35,
     "metadata": {},
     "output_type": "execute_result"
    }
   ],
   "source": [
    "create_new_df(['PNC', 'AEP', 'PFG', 'BXP', 'PNW','KR', 'MMC', 'DIS', 'QCOM'])"
   ]
  },
  {
   "cell_type": "code",
   "execution_count": 36,
   "metadata": {},
   "outputs": [
    {
     "data": {
      "text/plain": [
       "True"
      ]
     },
     "execution_count": 36,
     "metadata": {},
     "output_type": "execute_result"
    }
   ],
   "source": [
    "sorted(new_df['Ticker Symbol'].unique().tolist())==['AMGN', 'BAX', 'CHK', 'CTL', 'FL', 'HPQ', 'PRU', 'RSG']"
   ]
  },
  {
   "cell_type": "code",
   "execution_count": 60,
   "metadata": {
    "scrolled": true
   },
   "outputs": [
    {
     "data": {
      "text/html": [
       "<div>\n",
       "<style scoped>\n",
       "    .dataframe tbody tr th:only-of-type {\n",
       "        vertical-align: middle;\n",
       "    }\n",
       "\n",
       "    .dataframe tbody tr th {\n",
       "        vertical-align: top;\n",
       "    }\n",
       "\n",
       "    .dataframe thead th {\n",
       "        text-align: right;\n",
       "    }\n",
       "</style>\n",
       "<table border=\"1\" class=\"dataframe\">\n",
       "  <thead>\n",
       "    <tr style=\"text-align: right;\">\n",
       "      <th></th>\n",
       "      <th>comment_id</th>\n",
       "      <th>user_id</th>\n",
       "      <th>page_id</th>\n",
       "      <th>ts</th>\n",
       "    </tr>\n",
       "  </thead>\n",
       "  <tbody>\n",
       "    <tr>\n",
       "      <th>0</th>\n",
       "      <td>36869</td>\n",
       "      <td>60660</td>\n",
       "      <td>1231</td>\n",
       "      <td>2014-06-29 04:33:53</td>\n",
       "    </tr>\n",
       "    <tr>\n",
       "      <th>1</th>\n",
       "      <td>36868</td>\n",
       "      <td>119579</td>\n",
       "      <td>1462</td>\n",
       "      <td>2014-06-28 15:34:35</td>\n",
       "    </tr>\n",
       "    <tr>\n",
       "      <th>2</th>\n",
       "      <td>36867</td>\n",
       "      <td>119579</td>\n",
       "      <td>1462</td>\n",
       "      <td>2014-06-28 15:30:50</td>\n",
       "    </tr>\n",
       "    <tr>\n",
       "      <th>3</th>\n",
       "      <td>36866</td>\n",
       "      <td>119889</td>\n",
       "      <td>25</td>\n",
       "      <td>2014-06-28 15:17:02</td>\n",
       "    </tr>\n",
       "    <tr>\n",
       "      <th>4</th>\n",
       "      <td>36865</td>\n",
       "      <td>119889</td>\n",
       "      <td>22</td>\n",
       "      <td>2014-06-28 14:49:01</td>\n",
       "    </tr>\n",
       "  </tbody>\n",
       "</table>\n",
       "</div>"
      ],
      "text/plain": [
       "   comment_id  user_id  page_id                   ts\n",
       "0       36869    60660     1231  2014-06-29 04:33:53\n",
       "1       36868   119579     1462  2014-06-28 15:34:35\n",
       "2       36867   119579     1462  2014-06-28 15:30:50\n",
       "3       36866   119889       25  2014-06-28 15:17:02\n",
       "4       36865   119889       22  2014-06-28 14:49:01"
      ]
     },
     "execution_count": 60,
     "metadata": {},
     "output_type": "execute_result"
    }
   ],
   "source": [
    "import pandas as pd\n",
    "\n",
    "file_path = '/cxldata/pet_mle/user_data.csv'\n",
    "user_data = pd.read_csv(file_path)\n",
    "user_data.head()"
   ]
  },
  {
   "cell_type": "code",
   "execution_count": 61,
   "metadata": {},
   "outputs": [
    {
     "data": {
      "text/html": [
       "<div>\n",
       "<style scoped>\n",
       "    .dataframe tbody tr th:only-of-type {\n",
       "        vertical-align: middle;\n",
       "    }\n",
       "\n",
       "    .dataframe tbody tr th {\n",
       "        vertical-align: top;\n",
       "    }\n",
       "\n",
       "    .dataframe thead th {\n",
       "        text-align: right;\n",
       "    }\n",
       "</style>\n",
       "<table border=\"1\" class=\"dataframe\">\n",
       "  <thead>\n",
       "    <tr style=\"text-align: right;\">\n",
       "      <th></th>\n",
       "      <th>page_id</th>\n",
       "      <th>comment_count</th>\n",
       "    </tr>\n",
       "  </thead>\n",
       "  <tbody>\n",
       "    <tr>\n",
       "      <th>0</th>\n",
       "      <td>3</td>\n",
       "      <td>3</td>\n",
       "    </tr>\n",
       "    <tr>\n",
       "      <th>4</th>\n",
       "      <td>22</td>\n",
       "      <td>4</td>\n",
       "    </tr>\n",
       "    <tr>\n",
       "      <th>41</th>\n",
       "      <td>2246</td>\n",
       "      <td>7</td>\n",
       "    </tr>\n",
       "    <tr>\n",
       "      <th>3</th>\n",
       "      <td>19</td>\n",
       "      <td>7</td>\n",
       "    </tr>\n",
       "    <tr>\n",
       "      <th>25</th>\n",
       "      <td>597</td>\n",
       "      <td>8</td>\n",
       "    </tr>\n",
       "  </tbody>\n",
       "</table>\n",
       "</div>"
      ],
      "text/plain": [
       "    page_id  comment_count\n",
       "0         3              3\n",
       "4        22              4\n",
       "41     2246              7\n",
       "3        19              7\n",
       "25      597              8"
      ]
     },
     "execution_count": 61,
     "metadata": {},
     "output_type": "execute_result"
    }
   ],
   "source": [
    "count_data = user_data.groupby('page_id').size().reset_index(name='comment_count').sort_values(by='comment_count')\n",
    "count_data.tail()"
   ]
  },
  {
   "cell_type": "code",
   "execution_count": 66,
   "metadata": {},
   "outputs": [
    {
     "name": "stdout",
     "output_type": "stream",
     "text": [
      "page_id                2246\n",
      "distinct_user_count       4\n",
      "Name: 41, dtype: int64\n"
     ]
    }
   ],
   "source": [
    "distinct_comments = user_data.groupby('page_id')['user_id'].nunique().reset_index()\n",
    "distinct_comments.columns = ['page_id', 'distinct_user_count']\n",
    "max_comments_page = distinct_comments.loc[distinct_comments['distinct_user_count'].idxmax()]\n",
    "print(max_comments_page)"
   ]
  },
  {
   "cell_type": "code",
   "execution_count": 67,
   "metadata": {},
   "outputs": [],
   "source": [
    "import pandas as pd\n",
    "\n",
    "df = pd.read_csv('/cxldata/pet_mle/wine_quality.csv')\n",
    "\n",
    "def categorize_quality(quality):\n",
    "    if quality in range(7, 9):\n",
    "        return 'High'\n",
    "    elif quality in range(5, 7):\n",
    "        return 'Medium'\n",
    "    elif quality in range(3, 5):\n",
    "        return 'Low'\n",
    "    else:\n",
    "        return 'Unknown'  # in case there are values outside expected ranges\n",
    "\n",
    "df['WineClass'] = df['quality'].apply(categorize_quality)\n",
    "wine_cat = df"
   ]
  },
  {
   "cell_type": "code",
   "execution_count": 72,
   "metadata": {},
   "outputs": [
    {
     "data": {
      "text/plain": [
       "'1.1.5'"
      ]
     },
     "execution_count": 72,
     "metadata": {},
     "output_type": "execute_result"
    }
   ],
   "source": [
    "def check_ver(instance):\n",
    "    ver = instance.__version__\n",
    "    return ver\n",
    "\n",
    "import numpy as np\n",
    "check_ver(np)\n",
    "\n",
    "import pandas as pd\n",
    "check_ver(pd)"
   ]
  },
  {
   "cell_type": "code",
   "execution_count": 78,
   "metadata": {},
   "outputs": [],
   "source": [
    "import numpy as np\n",
    "\n",
    "def compare_ndarray(arr1, arr2):\n",
    "    if arr1.shape != arr2.shape:\n",
    "        return False\n",
    "    matching_indices = np.where(arr1 == arr2)[0]\n",
    "    return matching_indices"
   ]
  },
  {
   "cell_type": "code",
   "execution_count": 79,
   "metadata": {},
   "outputs": [
    {
     "data": {
      "text/plain": [
       "array([3, 6])"
      ]
     },
     "execution_count": 79,
     "metadata": {},
     "output_type": "execute_result"
    }
   ],
   "source": [
    "a = np.array([0, 1, 2, 3, 4, 5, 6])\n",
    "b = np.array([6, 5, 4, 3, 2, 1, 6])\n",
    "\n",
    "compare_ndarray(a, b)"
   ]
  },
  {
   "cell_type": "code",
   "execution_count": 84,
   "metadata": {},
   "outputs": [
    {
     "data": {
      "text/plain": [
       "(5.843333333333335, 3.0, 1.7652982332594667, 0.1, 3)"
      ]
     },
     "execution_count": 84,
     "metadata": {},
     "output_type": "execute_result"
    }
   ],
   "source": [
    "import pandas as pd\n",
    "from sklearn import datasets\n",
    "\n",
    "# Load the Iris dataset\n",
    "iris = datasets.load_iris()\n",
    "data = pd.DataFrame(iris.data, columns=['sepal_length', 'sepal_width', 'petal_length', 'petal_width'])\n",
    "\n",
    "# Create a DataFrame for the target component\n",
    "target = pd.DataFrame(iris.target, columns=['species'])\n",
    "\n",
    "# Map target values to actual species names\n",
    "target['species'] = target['species'].map(lambda x: iris.target_names[x])\n",
    "\n",
    "# Merge data and target into a single DataFrame\n",
    "iris_df = pd.concat([data, target], axis=1)\n",
    "\n",
    "# Calculate required statistics\n",
    "sepal_len_mean = data['sepal_length'].mean()\n",
    "sepal_width_median = data['sepal_width'].median()\n",
    "petal_len_std = data['petal_length'].std()\n",
    "petal_width_min = data['petal_width'].min()\n",
    "num_of_species = target['species'].nunique()\n",
    "\n",
    "# Output the statistics\n",
    "sepal_len_mean, sepal_width_median, petal_len_std, petal_width_min, num_of_species\n"
   ]
  },
  {
   "cell_type": "code",
   "execution_count": 103,
   "metadata": {},
   "outputs": [],
   "source": [
    "import pandas as pd\n",
    "\n",
    "df1 = pd.DataFrame({\n",
    "    'student_id': ['ID_1', 'ID_2', 'ID_3', 'ID_4', 'ID_5'],\n",
    "    'name': ['John', 'Rebecca', 'Bruce', 'Ed', 'Michael'],\n",
    "    'marks': [198, 186, 220, 230, 176]\n",
    "})\n",
    "\n",
    "df2 = pd.DataFrame({\n",
    "    'student_id': ['ID_6', 'ID_7', 'ID_8'],\n",
    "    'name': ['Keith', 'Hannah', 'Kenneth'],\n",
    "    'marks': [166, 221, 189]\n",
    "})"
   ]
  },
  {
   "cell_type": "code",
   "execution_count": 104,
   "metadata": {},
   "outputs": [],
   "source": [
    "def display_df(df1, df2, name):\n",
    "    merged_df = pd.concat([df1, df2], ignore_index=True)\n",
    "    filtered_df = merged_df[merged_df['name'] == name]\n",
    "    return filtered_df"
   ]
  },
  {
   "cell_type": "code",
   "execution_count": 105,
   "metadata": {},
   "outputs": [
    {
     "data": {
      "text/html": [
       "<div>\n",
       "<style scoped>\n",
       "    .dataframe tbody tr th:only-of-type {\n",
       "        vertical-align: middle;\n",
       "    }\n",
       "\n",
       "    .dataframe tbody tr th {\n",
       "        vertical-align: top;\n",
       "    }\n",
       "\n",
       "    .dataframe thead th {\n",
       "        text-align: right;\n",
       "    }\n",
       "</style>\n",
       "<table border=\"1\" class=\"dataframe\">\n",
       "  <thead>\n",
       "    <tr style=\"text-align: right;\">\n",
       "      <th></th>\n",
       "      <th>student_id</th>\n",
       "      <th>name</th>\n",
       "      <th>marks</th>\n",
       "    </tr>\n",
       "  </thead>\n",
       "  <tbody>\n",
       "    <tr>\n",
       "      <th>5</th>\n",
       "      <td>ID_6</td>\n",
       "      <td>Keith</td>\n",
       "      <td>166</td>\n",
       "    </tr>\n",
       "  </tbody>\n",
       "</table>\n",
       "</div>"
      ],
      "text/plain": [
       "  student_id   name  marks\n",
       "5       ID_6  Keith    166"
      ]
     },
     "execution_count": 105,
     "metadata": {},
     "output_type": "execute_result"
    }
   ],
   "source": [
    "display_df(df1, df2, \"Keith\")"
   ]
  },
  {
   "cell_type": "code",
   "execution_count": 117,
   "metadata": {},
   "outputs": [
    {
     "data": {
      "image/png": "[encoded data removed]",
      "text/plain": [
       "<Figure size 432x288 with 1 Axes>"
      ]
     },
     "metadata": {
      "needs_background": "light"
     },
     "output_type": "display_data"
    }
   ],
   "source": [
    "import numpy as np\n",
    "import matplotlib.pyplot as plt\n",
    "\n",
    "X = np.arange(0,100)\n",
    "y = 2*X^2 + 3*X - 5\n",
    "\n",
    "plt.plot(X, y)\n",
    "plt.show()"
   ]
  },
  {
   "cell_type": "code",
   "execution_count": 155,
   "metadata": {},
   "outputs": [],
   "source": [
    "import numpy as np\n",
    "\n",
    "def total_diff(arr1: list, arr2: list) -> int:\n",
    "    arr1 = np.array(arr1)\n",
    "    arr2 = np.array(arr2)\n",
    "    diff_count = np.sum(arr1 != arr2)\n",
    "    return diff_count"
   ]
  },
  {
   "cell_type": "code",
   "execution_count": 156,
   "metadata": {},
   "outputs": [
    {
     "data": {
      "text/plain": [
       "4"
      ]
     },
     "execution_count": 156,
     "metadata": {},
     "output_type": "execute_result"
    }
   ],
   "source": [
    "total_diff([1, 2, 3, 4, 6, 7],[1, 1, 3, 6, 7, 9])"
   ]
  },
  {
   "cell_type": "code",
   "execution_count": 219,
   "metadata": {},
   "outputs": [],
   "source": [
    "import pandas as pd\n",
    "import numpy as np\n",
    "\n",
    "# Load the data from the CSV file\n",
    "file_path = '/cxldata/pet_mle/time_series_data.csv'\n",
    "data = pd.read_csv(file_path, header=None)  # Assuming no header in the file\n",
    "\n",
    "# Extract the price column as a NumPy array\n",
    "prices = data.values.flatten()\n",
    "\n",
    "# Initialize lists to hold features and labels\n",
    "X = []\n",
    "y = []\n",
    "\n",
    "# Window size\n",
    "window_size = 5\n",
    "\n",
    "# Create features and labels\n",
    "for i in range(len(prices) - window_size):\n",
    "    X.append(prices[i:i + window_size])\n",
    "    y.append(prices[i + window_size])\n",
    "\n",
    "# Convert lists to NumPy arrays\n",
    "X = np.array(X)\n",
    "y = np.array(y)"
   ]
  },
  {
   "cell_type": "code",
   "execution_count": 220,
   "metadata": {},
   "outputs": [
    {
     "name": "stdout",
     "output_type": "stream",
     "text": [
      "X shape: (851259, 5)\n",
      "y shape: (851259,)\n",
      "True\n",
      "851259\n"
     ]
    }
   ],
   "source": [
    "# Print the shapes of X and y to verify\n",
    "print(\"X shape:\", X.shape)\n",
    "print(\"y shape:\", y.shape)\n",
    "\n",
    "print(list(X[0])==[123.43, 125.239998, 116.379997, 115.480003, 117.010002])\n",
    "\n",
    "print(len(y))\n"
   ]
  },
  {
   "cell_type": "code",
   "execution_count": null,
   "metadata": {},
   "outputs": [],
   "source": []
  }
 ],
 "metadata": {
  "kernelspec": {
   "display_name": "Python 3",
   "language": "python",
   "name": "python3"
  },
  "language_info": {
   "codemirror_mode": {
    "name": "ipython",
    "version": 3
   },
   "file_extension": ".py",
   "mimetype": "text/x-python",
   "name": "python",
   "nbconvert_exporter": "python",
   "pygments_lexer": "ipython3",
   "version": "3.6.8"
  },
  "toc": {
   "base_numbering": 1,
   "nav_menu": {},
   "number_sections": true,
   "sideBar": true,
   "skip_h1_title": false,
   "title_cell": "Table of Contents",
   "title_sidebar": "Contents",
   "toc_cell": false,
   "toc_position": {},
   "toc_section_display": true,
   "toc_window_display": false
  }
 },
 "nbformat": 4,
 "nbformat_minor": 2
}
